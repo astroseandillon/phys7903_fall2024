{
 "cells": [
  {
   "cell_type": "markdown",
   "id": "d7518571",
   "metadata": {},
   "source": [
    "# _Python for Scientific Data Analysis_\n",
    "\n",
    "\n",
    "# Basic Python\n",
    "## Section 1: Printing and Variables\n",
    "\n",
    "### Hello World\n",
    "\n",
    "The first step in learning Python or any other language is to ask a piece of code to print a statement.   \n",
    "\n",
    " To do this from command line, first you type ``python`` in your terminal window, which will bring up the Python prompt. \n",
    " \n",
    " Printing with statements with Python 3 are enclose by parentheses. \n",
    "\n",
    "E.g."
   ]
  },
  {
   "cell_type": "markdown",
   "id": "6434ef89",
   "metadata": {},
   "source": [
    "```print(hello world)```\n",
    "\n",
    " will print ...\n",
    " "
   ]
  },
  {
   "cell_type": "code",
   "execution_count": 1,
   "id": "65418463",
   "metadata": {},
   "outputs": [
    {
     "name": "stdout",
     "output_type": "stream",
     "text": [
      "hello world\n"
     ]
    }
   ],
   "source": [
    "print(\"hello world\")"
   ]
  },
  {
   "cell_type": "markdown",
   "id": "a0a98c21",
   "metadata": {},
   "source": [
    "Note: if you do not enclose this string with \", then it will trigger a traceback error because _hello world_ is not a named variable.  If you try to treat _hello world_ as a variable you will get a traceback error: e.g. ``` >>> hello world = 5``` triggers an error.   However, the following does not trigger an error:"
   ]
  },
  {
   "cell_type": "code",
   "execution_count": 2,
   "id": "cbb62ddd",
   "metadata": {},
   "outputs": [
    {
     "name": "stdout",
     "output_type": "stream",
     "text": [
      "('yo', 'checkit')\n",
      "7 11\n"
     ]
    }
   ],
   "source": [
    "hello_world = 7\n",
    "hello_world='yo'\n",
    "hello,world = 7,11\n",
    "hello_world = 'yo','checkit'\n",
    "\n",
    "print(hello_world)\n",
    "print(hello,world)"
   ]
  },
  {
   "cell_type": "markdown",
   "id": "c3231203",
   "metadata": {},
   "source": [
    "where then you type\n",
    "```print(hello_world)``` or ```print(hello,world)``` at the prompt.\n",
    "\n",
    "What happened in these four examples?   In the first two, we declared a single variable, ```hello_world```, as an integer 7 or a string `yo`.   But Python allows you to declare multiple variables in a single line.   This is shown in third and fourth example: here, ```hello``` and ```world``` are two separate variables simultaneously set to two different strings.  Cool, right?   \n",
    "\n",
    "The example code ex1.py shows demonstrates how this looks within a piece of code.  \n",
    "\n",
    "To execute, type ```python ex1.py``` in your Terminal window from within that subdirectory.  Or, from the main directory, you can import it, and it will run automatically\n"
   ]
  },
  {
   "cell_type": "code",
   "execution_count": 3,
   "id": "4b870162",
   "metadata": {},
   "outputs": [
    {
     "name": "stdout",
     "output_type": "stream",
     "text": [
      "hello world\n",
      "yo\n",
      "5\n",
      "yo checkit\n",
      "7 11\n"
     ]
    }
   ],
   "source": [
    "import code_ipynb.ex1 \n",
    "#note: this will only print out the first time!"
   ]
  },
  {
   "cell_type": "markdown",
   "id": "13c6d1fc",
   "metadata": {},
   "source": [
    "You should see the following:"
   ]
  },
  {
   "cell_type": "markdown",
   "id": "309d3755",
   "metadata": {},
   "source": [
    "``` \n",
    "hello world\n",
    "yo\n",
    "5\n",
    "yo checkit\n",
    "7 11\n",
    "```\n",
    "\n",
    "### Variables and Printing\n",
    "Okay, now we are going to make things slightly more complicated.   When you print something with Python (or any other language), you want to control the format of what you write: do you want to write a string? An integer?  decimal? floating point?  That's where _formatted_ print comes into play.\n",
    "\n",
    "#### Formatted Printing: The standard way\n",
    "\n",
    "Python's _formatted_ print statements come after a ```%``` for a print statement: e.g. ```print(\"my name is %[formatting statement]\" % [variable] ```).   \n",
    "\n",
    "Fortunately, these are pretty easy to figure out: ```%s``` (e.g. \"yo\") for string, ```%d``` or ```%i``` for decimal integers (e.g. 5), ```%f``` for floating point (e.g. 3.141569), ```%e``` for lower case exponential notation (e.g. 1.41569e+03), etc.  There are a few others but these are the most important ones for now.   \n",
    "\n",
    "Now, look at ex5a.py.  It should read as follows\n",
    "\n",
    "```sh\n",
    "my_name = 'The Great Cornholio'\n",
    "my_age = 21 # ya right\n",
    "my_height = 72 # with stilts\n",
    "my_weight = 9 # lbs\n",
    "my_jump = 15 #feet\n",
    "my_eyes = 'White'\n",
    "\n",
    "print(\"My name is %s.\" % my_name)\n",
    "print(\"I am %d inches tall and I weigh %d pounds.\" % (my_height,my_weight))\n",
    "print(\"Even though my eyes are %s, I can jump %d feet in the air\" % (my_eyes,my_jump))\n",
    "print(\"If you add %d, %d, and %d together you get %d.  Scared now of the %s?\" % (my_age,my_height,my_jump,my_age+my_height+my_jump,my_name))\n",
    "\n",
    "```"
   ]
  },
  {
   "cell_type": "markdown",
   "id": "dcc94080",
   "metadata": {},
   "source": [
    "If you execute this code, you should see:\n",
    "\n",
    "```\n",
    "My name is The Great Cornholio.\n",
    "I am 72 inches tall and I weigh 9 pounds.\n",
    "Even though my eyes are White, I can jump 15 feet in the air\n",
    "If you add 21, 72, and 15 together you get 108.  Scared now of the The Great Cornholio?\n",
    "\n",
    "```\n",
    "\n",
    "Notice another thing.  In the soure code we put #s all over the place.  These look like comments, right?  That they are! These do not print out when you execute the code."
   ]
  },
  {
   "cell_type": "markdown",
   "id": "9d15d66e",
   "metadata": {},
   "source": [
    "#### Formatted Print Statements: The second, more 'modern' way\n",
    "\n",
    "Another way to do formatted print statements are with square brackets ```{ }``` and a format statement.  Here's an example"
   ]
  },
  {
   "cell_type": "code",
   "execution_count": 6,
   "id": "86d36057",
   "metadata": {},
   "outputs": [
    {
     "name": "stdout",
     "output_type": "stream",
     "text": [
      "this statement is far out, dude\n"
     ]
    }
   ],
   "source": [
    "statement='far out'\n",
    "print(\"this statement is {}, dude\".format(statement))\n"
   ]
  },
  {
   "cell_type": "markdown",
   "id": "02c295fa",
   "metadata": {},
   "source": [
    "You should see ``this statement is far out, dude``.\n",
    "\n",
    "Now, slightly more complicated"
   ]
  },
  {
   "cell_type": "code",
   "execution_count": 8,
   "id": "d9024f3a",
   "metadata": {},
   "outputs": [
    {
     "name": "stdout",
     "output_type": "stream",
     "text": [
      "this statement is far out seriously, dude\n"
     ]
    }
   ],
   "source": [
    "print(\"this statement is {0} {1}, dude\".format(statement,'seriously'))\n",
    "\n"
   ]
  },
  {
   "cell_type": "markdown",
   "id": "91412043",
   "metadata": {},
   "source": [
    "See what we've done here? we now have two variables with formatted print.  "
   ]
  },
  {
   "cell_type": "markdown",
   "id": "6d3b408e",
   "metadata": {},
   "source": [
    "#### More control over formatting\n",
    "Now we will take the second formatting approach and make this more complicated ..."
   ]
  },
  {
   "cell_type": "code",
   "execution_count": 9,
   "id": "238cca41",
   "metadata": {},
   "outputs": [
    {
     "name": "stdout",
     "output_type": "stream",
     "text": [
      "this statement is f seriously, dude\n"
     ]
    }
   ],
   "source": [
    "print(\"this statement is {0:.1s} {1:s}, dude\".format(statement,'seriously'))\n"
   ]
  },
  {
   "cell_type": "markdown",
   "id": "edc9912c",
   "metadata": {},
   "source": [
    "which prints out ``this statement is f seriously, dude`` .  See what happened? if not, look to see what happens here:"
   ]
  },
  {
   "cell_type": "code",
   "execution_count": 10,
   "id": "54981517",
   "metadata": {},
   "outputs": [
    {
     "name": "stdout",
     "output_type": "stream",
     "text": [
      "this stupid number is 2.718282, not 2.718 or 2.71828, but if we want more than the  default precision of 6 spaces after the decimal,  we can write it as something different like 2.7182818285\n"
     ]
    }
   ],
   "source": [
    "\n",
    "import numpy as np #don't worry about what this line means right now. just think \"command allowing us to do stuff\"\n",
    "eval=np.e\n",
    "print(\"this stupid number is {0:f}, not {1:.3f} or {2:.5f}, \\\n",
    "but if we want more than the \\\n",
    " default precision of {3:d} spaces after the decimal, \\\n",
    " we can write it as something different like {4:.10f}\".format(eval,eval,eval,6,eval))\n"
   ]
  },
  {
   "cell_type": "markdown",
   "id": "5a620530",
   "metadata": {},
   "source": [
    "which prints out as ``this stupid number is 2.718282, not 2.718 or 2.71828,``\n",
    "`` but if we want more than the  default precision of 6 spaces after the decimal,``  \n",
    "``we can write it as something different like 2.7182818285`` \n",
    "\n",
    "Note: all of this is on one line: the `\\` signifies \"continue the line\".\n",
    "\n",
    "So what happened there? we can control the output.  For example, in the first case, we said \"format this as a floating point\".  In the second \"format this as a floating point but only leave 3 spaces after the decimal\".  And so on.  By default, Python 3.x prints out 6 decimal spaces for a floating point.   If you want more precision, then you can just add more space, as we do in the last formatted print for the variable `eval`.\n",
    "\n",
    "Now what if we wanted to use `%` for formatted print with all that control?.  Here you go:"
   ]
  },
  {
   "cell_type": "code",
   "execution_count": 11,
   "id": "40975121",
   "metadata": {},
   "outputs": [
    {
     "name": "stdout",
     "output_type": "stream",
     "text": [
      "this stupid number is 2.718282, not 2.718 or 2.71828, but if we want more than the  default precision of 6 spaces after the decimal,  we can write it as something different like 2.7182818285\n"
     ]
    }
   ],
   "source": [
    "\n",
    "print(\"this stupid number is %f, not %.3f or %.5f, \\\n",
    "but if we want more than the \\\n",
    " default precision of %d spaces after the decimal, \\\n",
    " we can write it as something different like %.10f\" %(eval,eval,eval,6,eval))\n"
   ]
  },
  {
   "cell_type": "markdown",
   "id": "c59c5bdf",
   "metadata": {},
   "source": [
    "## A Note on how to `run' Python code\n",
    "In general, to execute Python code, there are a couple of ways:\n",
    "\n",
    "1) type ```python [name of python code]``` in your Terminal if the code is also in your local working directory (or is a script callable from anywhere on your machine ... don't worry about that for now)\n",
    "\n",
    "2) in interactive mode where you have to import a module from a piece of Python code and then do something: this works so long as the piece of code is in your Python path (either local or within your path variable). \n",
    "e.g. \n",
    "\n",
    "from Terminal, you first type ``python`` (or, in my case, python3).  \"Running\" python then has the following structure (note, each line is a separate line in the interactive mode ... i.e. a separate \">>>\")\n",
    "\n",
    "```\n",
    ">>> import [name of function] \n",
    "\n",
    ">>> [variable] = [function].[property]\n",
    "\n",
    "```\n",
    "An example ..."
   ]
  },
  {
   "cell_type": "markdown",
   "id": "920935e4",
   "metadata": {},
   "source": [
    "```\n",
    ">>> import numpy as np #we will encounter this \"numpy\" library a lot!\n",
    ">>> d_tel = 8.2 #telescope diameter (meters)\n",
    ">>> lambda= 1.6 #wavelength (microns)\n",
    ">>> fwhm = 1.028*206265*lambda*1e-6/d_tel\n",
    "```\n",
    "\n"
   ]
  },
  {
   "cell_type": "markdown",
   "id": "32d633bf",
   "metadata": {},
   "source": [
    "3) A 3rd way is accessing Python code through Jupyter notebooks.   You first need to split off a \"cell\" in the notebook specifically for this calculation and then execute.  Here's how to execute the above code through notebooks. "
   ]
  },
  {
   "cell_type": "code",
   "execution_count": 4,
   "id": "2539ffb1",
   "metadata": {},
   "outputs": [
    {
     "name": "stdout",
     "output_type": "stream",
     "text": [
      "The telescope (diffraction-limited) FWHM in arcseconds given a diameter of 8.2 meters  and a wavelength of 1.25 microns is 0.0323\n",
      "The telescope (diffraction-limited) FWHM in arcseconds given a diameter of 8.2 meters  and a wavelength of 1.65 microns is 0.0427\n",
      "The telescope (diffraction-limited) FWHM in arcseconds given a diameter of 8.2 meters  and a wavelength of 2.16 microns is 0.0559\n"
     ]
    }
   ],
   "source": [
    "import numpy as np\n",
    "d_tel = 8.2 #telescope diameter (meters)\n",
    "lam_tel= np.array([1.25,1.65,2.16]) #wavelength (microns) note: we don't call it lambda because that is a separate, canned Python thing\n",
    "fwhm = 1.028*206265*lam_tel*1e-6/d_tel\n",
    "\n",
    "for i in range(0,len(lam_tel)):\n",
    " print(\"The telescope (diffraction-limited) FWHM in arcseconds given a diameter of {0:.1f} meters \\\n",
    " and a wavelength of {1:.2f} microns is {2:.4f}\".format(d_tel,lam_tel[i],fwhm[i]))"
   ]
  },
  {
   "cell_type": "markdown",
   "id": "a8f3f196",
   "metadata": {},
   "source": [
    " Option #1 is the simplest but gets a bit unwieldy for anything you will want to use for research.   Option #2 is often the way through professional code but can be hard to visualize.  Option #3 is great for visualization and can handle complex code that you write elsewhere and then import ... but I've seen it make some users get a bit careless.   \n",
    " \n",
    " We will learn Python through all three of these results. The preferred method for homework submission will _usually_ be Option #3 (Jupyter notebooks) since they are easy for others to use.\n",
    " \n",
    " \n",
    " For more details, see this nice discussion of the Python interpreter on the official site, here: <https://docs.python.org/3/tutorial/interpreter.html>"
   ]
  },
  {
   "cell_type": "markdown",
   "id": "5a58f065",
   "metadata": {},
   "source": [
    "### Python PATH for importing functions, installing programs\n",
    "\n",
    "What if you are working in some directory and want to import and then use a Python function?  It is usually good practice to keep all your code -- at least detailed packages --  in a place well separated from what you are working on.  \n",
    "\n",
    "In order for you to import and utilize that code, it has to be in your Python _path_ .  How do you know what your path is?  Here's how:"
   ]
  },
  {
   "cell_type": "code",
   "execution_count": 29,
   "id": "70f377ef",
   "metadata": {},
   "outputs": [
    {
     "name": "stdout",
     "output_type": "stream",
     "text": [
      "['/Users/thaynecurrie/Research/coding/Python/ScientificPythonNotes_2024/Basic', '/Users/thaynecurrie/Research/WFC/SOAPY', '/Users/thaynecurrie/Research/Github/repositories/charis-dpp_test', '/Users/thaynecurrie/Research/Github/repositories/charis-dpp_test/python', '/Users/thaynecurrie/Research/Models/RADMC3D/radmc3d-2.0/python', '/Users/thaynecurrie/Research/PythonPhot', '/Users/thaynecurrie/anaconda2/envs/py310/lib/python310.zip', '/Users/thaynecurrie/anaconda2/envs/py310/lib/python3.10', '/Users/thaynecurrie/anaconda2/envs/py310/lib/python3.10/lib-dynload', '', '/Users/thaynecurrie/.local/lib/python3.10/site-packages', '/Users/thaynecurrie/anaconda2/envs/py310/lib/python3.10/site-packages', '/Users/thaynecurrie/Research/Github/repositories/orvara_py310/orvara', '/Users/thaynecurrie/anaconda2/envs/py310/lib/python3.10/site-packages/xaosim-2.0.0-py3.10.egg', '/Users/thaynecurrie/Research/Models/AggScatVIR/AggScatVIR/python', '/Users/thaynecurrie/anaconda2/envs/py310/lib/python3.10/site-packages/pymcfost-0.0.0-py3.10.egg']\n",
      "2\n",
      "/Users/thaynecurrie/Research/coding/Python/ScientificPythonNotes_2024/Basic\n",
      "/Users/thaynecurrie/Research/WFC/SOAPY\n",
      "/Users/thaynecurrie/Research/Github/repositories/charis-dpp_test\n",
      "/Users/thaynecurrie/Research/Github/repositories/charis-dpp_test/python\n",
      "/Users/thaynecurrie/Research/Models/RADMC3D/radmc3d-2.0/python\n",
      "/Users/thaynecurrie/Research/PythonPhot\n",
      "/Users/thaynecurrie/anaconda2/envs/py310/lib/python310.zip\n",
      "/Users/thaynecurrie/anaconda2/envs/py310/lib/python3.10\n",
      "/Users/thaynecurrie/anaconda2/envs/py310/lib/python3.10/lib-dynload\n",
      "\n",
      "/Users/thaynecurrie/.local/lib/python3.10/site-packages\n",
      "/Users/thaynecurrie/anaconda2/envs/py310/lib/python3.10/site-packages\n",
      "/Users/thaynecurrie/Research/Github/repositories/orvara_py310/orvara\n",
      "/Users/thaynecurrie/anaconda2/envs/py310/lib/python3.10/site-packages/xaosim-2.0.0-py3.10.egg\n",
      "/Users/thaynecurrie/Research/Models/AggScatVIR/AggScatVIR/python\n",
      "/Users/thaynecurrie/anaconda2/envs/py310/lib/python3.10/site-packages/pymcfost-0.0.0-py3.10.egg\n",
      "3\n",
      "/Users/thaynecurrie/Research/WFC/SOAPY/\n",
      "/Users/thaynecurrie/Research/Github/repositories/charis-dpp_test/\n",
      "/Users/thaynecurrie/Research/Github/repositories/charis-dpp_test/python/\n",
      "/Users/thaynecurrie/Research/Models/RADMC3D/radmc3d-2.0/python/\n",
      "/Users/thaynecurrie/Research/PythonPhot/\n"
     ]
    }
   ],
   "source": [
    "from os import sys\n",
    "print(sys.path)\n",
    "\n",
    "#or, more elegantly & better formatted...\n",
    "print('2')\n",
    "print('\\n'.join(sys.path))\n",
    "print('3')\n",
    "#stuff that you added to sys.path\n",
    "import os\n",
    "pypath=os.environ['PYTHONPATH'].split(os.pathsep)\n",
    "print('\\n'.join(pypath))"
   ]
  },
  {
   "cell_type": "markdown",
   "id": "495d88f2",
   "metadata": {},
   "source": [
    "The ``sys.path`` variable prints out your entire list of paths available for Python to import functions.   The ``\\n.join(sys.path`` shows the same information with each path on a new line.\n",
    "\n",
    "The last print statement shows paths that are in your ``$PYTHONPATH`` environment variable.  This is something that you have to set in your shell. "
   ]
  },
  {
   "cell_type": "markdown",
   "id": "93e7c783",
   "metadata": {},
   "source": [
    "Now what if there's a Python package that you want to install?  Well, you have a couple of options.  The two most common installation methods are using ``conda`` -- if you have the Anaconda distribution of Python -- or ``pip``.   If the thing you are wanting to install is a very nice, official package (e.g. ``numpy``), it should have its own installer script that you can use from ``conda`` or ``pip``.  \n",
    "\n",
    "Examples\n",
    "\n",
    "(installing or upgrading ``numpy``) (note: you should only need to upgrade numpy to new versions: an installation comes standard with Anaconda)\n",
    "\n",
    "```\n",
    "conda install numpy\n",
    "```\n",
    "\n",
    "or\n",
    "\n",
    "```\n",
    "pip install numpy\n",
    "```\n",
    "\n",
    "Some caveats.  First, ``conda`` is SLOW: it will carefully check for (what it thinks are) package incompatibilities.  And if you are not careful, it may start overwriting packages you currently have to solve the incompatibility.   Or conversely, ``pip`` might do an installation or upgrade that breaks packages a bit more easily.\n",
    "\n"
   ]
  },
  {
   "cell_type": "markdown",
   "id": "6fc61c64",
   "metadata": {},
   "source": [
    "For more details, see this nice discussion of the Python interpreter on the official site, here: <https://docs.python.org/3/tutorial/interpreter.html>"
   ]
  },
  {
   "cell_type": "code",
   "execution_count": null,
   "id": "c5170c83",
   "metadata": {},
   "outputs": [],
   "source": []
  }
 ],
 "metadata": {
  "kernelspec": {
   "display_name": "Python 3 (ipykernel)",
   "language": "python",
   "name": "python3"
  },
  "language_info": {
   "codemirror_mode": {
    "name": "ipython",
    "version": 3
   },
   "file_extension": ".py",
   "mimetype": "text/x-python",
   "name": "python",
   "nbconvert_exporter": "python",
   "pygments_lexer": "ipython3",
   "version": "3.10.4"
  }
 },
 "nbformat": 4,
 "nbformat_minor": 5
}
