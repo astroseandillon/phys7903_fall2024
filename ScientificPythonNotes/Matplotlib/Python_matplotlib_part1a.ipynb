{
 "cells": [
  {
   "cell_type": "markdown",
   "id": "b74ba6c1",
   "metadata": {},
   "source": []
  },
  {
   "cell_type": "markdown",
   "id": "62e930fa",
   "metadata": {},
   "source": [
    "# _Python for Scientific Data Analysis_\n",
    "\n",
    "\n",
    "#    Matplotlib\n",
    "\n",
    "## Section 1: The Very Basics of Plotting with Matplotlib\n",
    "\n",
    "\n",
    "### What is Matplotlib?\n",
    "\n",
    "As the package website says (https://matplotlib.org/), **_matplotlib_** \"*is a comprehensive library for creating static, animated, and interactive visualizations in Python. Matplotlib makes easy things easy and hard things possible.*\"  \n",
    "\n",
    "Another way of saying this is that **matplotlib** let's you make really slick plots and other visualizations.  Or at least ones that don't look like they were done before the Internet was a thing (cough, superMongo/IRAF, cough).  \n",
    "\n",
    "Matplotlib now forms the backbone of most of my plotting and basic data science and analysis routines: while I still like IDL's routines better for quick diagnostic plots, I've switched to **_matplotlib_** Python for most publication-grade figures. \n",
    "\n",
    "### Importing and Running Matplotlib\n",
    "\n",
    "Again, matplotlib can do a ton of stuff.  But 90+% of the time, you will want to be using its core plotting capabilities contained in _pyplot_ .   To load, you type the following in either interactive Python or an executable piece of code:"
   ]
  },
  {
   "cell_type": "code",
   "execution_count": 1,
   "id": "321fa449-e03c-4aa1-8e93-69b67cf295f4",
   "metadata": {},
   "outputs": [],
   "source": [
    "import matplotlib.pyplot as plt"
   ]
  },
  {
   "cell_type": "markdown",
   "id": "8a52cd2e-4a90-46cb-bb02-118888f698c3",
   "metadata": {},
   "source": [
    "Sometimes we will want to access functions within the top-level matplotlib package itself.   In  that case"
   ]
  },
  {
   "cell_type": "code",
   "execution_count": 2,
   "id": "66f5a55a-5c15-4e63-a1bd-52b25146a7a0",
   "metadata": {},
   "outputs": [],
   "source": [
    "import matplotlib as mpl"
   ]
  },
  {
   "cell_type": "markdown",
   "id": "558666d2",
   "metadata": {},
   "source": [
    "Note: some textbooks _assume_ you know this (why? beats me).  Or they have you import _everything_ in matplotlib (e.g. ```from matplotlib import *```), which is total overkill.   We are going to be more targeted.  \n",
    "\n",
    "### Setting Styles\n",
    "\n",
    "Matplotlib is heavily customizable and can use a bunch of different \"styles\" (i.e. canned configuration sets) for visualization.  \n",
    "\n",
    "#### _Style_  \n",
    "\n",
    "To see your options, you use ``matplotlib.style.available``"
   ]
  },
  {
   "cell_type": "code",
   "execution_count": 3,
   "id": "9ffa2c33",
   "metadata": {},
   "outputs": [
    {
     "data": {
      "text/plain": [
       "['Solarize_Light2',\n",
       " '_classic_test_patch',\n",
       " '_mpl-gallery',\n",
       " '_mpl-gallery-nogrid',\n",
       " 'bmh',\n",
       " 'classic',\n",
       " 'dark_background',\n",
       " 'fast',\n",
       " 'fivethirtyeight',\n",
       " 'ggplot',\n",
       " 'grayscale',\n",
       " 'seaborn-v0_8',\n",
       " 'seaborn-v0_8-bright',\n",
       " 'seaborn-v0_8-colorblind',\n",
       " 'seaborn-v0_8-dark',\n",
       " 'seaborn-v0_8-dark-palette',\n",
       " 'seaborn-v0_8-darkgrid',\n",
       " 'seaborn-v0_8-deep',\n",
       " 'seaborn-v0_8-muted',\n",
       " 'seaborn-v0_8-notebook',\n",
       " 'seaborn-v0_8-paper',\n",
       " 'seaborn-v0_8-pastel',\n",
       " 'seaborn-v0_8-poster',\n",
       " 'seaborn-v0_8-talk',\n",
       " 'seaborn-v0_8-ticks',\n",
       " 'seaborn-v0_8-white',\n",
       " 'seaborn-v0_8-whitegrid',\n",
       " 'tableau-colorblind10']"
      ]
     },
     "execution_count": 3,
     "metadata": {},
     "output_type": "execute_result"
    }
   ],
   "source": [
    "import matplotlib as mpl\n",
    "\n",
    "###\n",
    "#mpl.style.available\n",
    "\n",
    "#When I run this, I get the following:\n",
    "\n",
    "from matplotlib import style\n",
    "\n",
    "style.available"
   ]
  },
  {
   "cell_type": "markdown",
   "id": "cc1fe7dc",
   "metadata": {},
   "source": [
    "You can see the effect of the different styles here:\n",
    "\n",
    "[https://matplotlib.org/stable/gallery/style_sheets/style_sheets_reference.html]()\n",
    "\n",
    "To set the style to some value besides that in your default do:\n",
    "\n",
    "``plt.style.use([somevalue]``\n",
    "\n",
    "E.g.\n",
    "\n",
    "``plt.style.use('seaborn-v0_8')``.\n",
    "\n",
    "\n",
    "To revert back to your default style do\n",
    "\n",
    "``plt.style.use('default')``\n"
   ]
  },
  {
   "cell_type": "markdown",
   "id": "4558bcea",
   "metadata": {},
   "source": [
    "#### _rcParams_  \n",
    "\n",
    "The default (or any other) style consists of a number of individual settings.  Instead of going from one canned configuration to another, you can adjust individual settings using ``rcParams``.  You can figure out what these parameters are by:\n"
   ]
  },
  {
   "cell_type": "code",
   "execution_count": 4,
   "id": "79d1a58a",
   "metadata": {},
   "outputs": [
    {
     "data": {
      "text/plain": [
       "RcParams({'_internal.classic_mode': False,\n",
       "          'agg.path.chunksize': 0,\n",
       "          'animation.bitrate': -1,\n",
       "          'animation.codec': 'h264',\n",
       "          'animation.convert_args': ['-layers', 'OptimizePlus'],\n",
       "          'animation.convert_path': 'convert',\n",
       "          'animation.embed_limit': 20.0,\n",
       "          'animation.ffmpeg_args': [],\n",
       "          'animation.ffmpeg_path': 'ffmpeg',\n",
       "          'animation.frame_format': 'png',\n",
       "          'animation.html': 'none',\n",
       "          'animation.writer': 'ffmpeg',\n",
       "          'axes.autolimit_mode': 'data',\n",
       "          'axes.axisbelow': 'line',\n",
       "          'axes.edgecolor': 'black',\n",
       "          'axes.facecolor': 'white',\n",
       "          'axes.formatter.limits': [-5, 6],\n",
       "          'axes.formatter.min_exponent': 0,\n",
       "          'axes.formatter.offset_threshold': 4,\n",
       "          'axes.formatter.use_locale': False,\n",
       "          'axes.formatter.use_mathtext': False,\n",
       "          'axes.formatter.useoffset': True,\n",
       "          'axes.grid': False,\n",
       "          'axes.grid.axis': 'both',\n",
       "          'axes.grid.which': 'major',\n",
       "          'axes.labelcolor': 'black',\n",
       "          'axes.labelpad': 4.0,\n",
       "          'axes.labelsize': 'medium',\n",
       "          'axes.labelweight': 'normal',\n",
       "          'axes.linewidth': 0.8,\n",
       "          'axes.prop_cycle': cycler('color', ['#1f77b4', '#ff7f0e', '#2ca02c', '#d62728', '#9467bd', '#8c564b', '#e377c2', '#7f7f7f', '#bcbd22', '#17becf']),\n",
       "          'axes.spines.bottom': True,\n",
       "          'axes.spines.left': True,\n",
       "          'axes.spines.right': True,\n",
       "          'axes.spines.top': True,\n",
       "          'axes.titlecolor': 'auto',\n",
       "          'axes.titlelocation': 'center',\n",
       "          'axes.titlepad': 6.0,\n",
       "          'axes.titlesize': 'large',\n",
       "          'axes.titleweight': 'normal',\n",
       "          'axes.titley': None,\n",
       "          'axes.unicode_minus': True,\n",
       "          'axes.xmargin': 0.05,\n",
       "          'axes.ymargin': 0.05,\n",
       "          'axes.zmargin': 0.05,\n",
       "          'axes3d.grid': True,\n",
       "          'axes3d.xaxis.panecolor': (0.95, 0.95, 0.95, 0.5),\n",
       "          'axes3d.yaxis.panecolor': (0.9, 0.9, 0.9, 0.5),\n",
       "          'axes3d.zaxis.panecolor': (0.925, 0.925, 0.925, 0.5),\n",
       "          'backend': 'module://matplotlib_inline.backend_inline',\n",
       "          'backend_fallback': True,\n",
       "          'boxplot.bootstrap': None,\n",
       "          'boxplot.boxprops.color': 'black',\n",
       "          'boxplot.boxprops.linestyle': '-',\n",
       "          'boxplot.boxprops.linewidth': 1.0,\n",
       "          'boxplot.capprops.color': 'black',\n",
       "          'boxplot.capprops.linestyle': '-',\n",
       "          'boxplot.capprops.linewidth': 1.0,\n",
       "          'boxplot.flierprops.color': 'black',\n",
       "          'boxplot.flierprops.linestyle': 'none',\n",
       "          'boxplot.flierprops.linewidth': 1.0,\n",
       "          'boxplot.flierprops.marker': 'o',\n",
       "          'boxplot.flierprops.markeredgecolor': 'black',\n",
       "          'boxplot.flierprops.markeredgewidth': 1.0,\n",
       "          'boxplot.flierprops.markerfacecolor': 'none',\n",
       "          'boxplot.flierprops.markersize': 6.0,\n",
       "          'boxplot.meanline': False,\n",
       "          'boxplot.meanprops.color': 'C2',\n",
       "          'boxplot.meanprops.linestyle': '--',\n",
       "          'boxplot.meanprops.linewidth': 1.0,\n",
       "          'boxplot.meanprops.marker': '^',\n",
       "          'boxplot.meanprops.markeredgecolor': 'C2',\n",
       "          'boxplot.meanprops.markerfacecolor': 'C2',\n",
       "          'boxplot.meanprops.markersize': 6.0,\n",
       "          'boxplot.medianprops.color': 'C1',\n",
       "          'boxplot.medianprops.linestyle': '-',\n",
       "          'boxplot.medianprops.linewidth': 1.0,\n",
       "          'boxplot.notch': False,\n",
       "          'boxplot.patchartist': False,\n",
       "          'boxplot.showbox': True,\n",
       "          'boxplot.showcaps': True,\n",
       "          'boxplot.showfliers': True,\n",
       "          'boxplot.showmeans': False,\n",
       "          'boxplot.vertical': True,\n",
       "          'boxplot.whiskerprops.color': 'black',\n",
       "          'boxplot.whiskerprops.linestyle': '-',\n",
       "          'boxplot.whiskerprops.linewidth': 1.0,\n",
       "          'boxplot.whiskers': 1.5,\n",
       "          'contour.algorithm': 'mpl2014',\n",
       "          'contour.corner_mask': True,\n",
       "          'contour.linewidth': None,\n",
       "          'contour.negative_linestyle': 'dashed',\n",
       "          'date.autoformatter.day': '%Y-%m-%d',\n",
       "          'date.autoformatter.hour': '%m-%d %H',\n",
       "          'date.autoformatter.microsecond': '%M:%S.%f',\n",
       "          'date.autoformatter.minute': '%d %H:%M',\n",
       "          'date.autoformatter.month': '%Y-%m',\n",
       "          'date.autoformatter.second': '%H:%M:%S',\n",
       "          'date.autoformatter.year': '%Y',\n",
       "          'date.converter': 'auto',\n",
       "          'date.epoch': '1970-01-01T00:00:00',\n",
       "          'date.interval_multiples': True,\n",
       "          'docstring.hardcopy': False,\n",
       "          'errorbar.capsize': 0.0,\n",
       "          'figure.autolayout': False,\n",
       "          'figure.constrained_layout.h_pad': 0.04167,\n",
       "          'figure.constrained_layout.hspace': 0.02,\n",
       "          'figure.constrained_layout.use': False,\n",
       "          'figure.constrained_layout.w_pad': 0.04167,\n",
       "          'figure.constrained_layout.wspace': 0.02,\n",
       "          'figure.dpi': 100.0,\n",
       "          'figure.edgecolor': 'white',\n",
       "          'figure.facecolor': 'white',\n",
       "          'figure.figsize': [6.4, 4.8],\n",
       "          'figure.frameon': True,\n",
       "          'figure.hooks': [],\n",
       "          'figure.labelsize': 'large',\n",
       "          'figure.labelweight': 'normal',\n",
       "          'figure.max_open_warning': 20,\n",
       "          'figure.raise_window': True,\n",
       "          'figure.subplot.bottom': 0.11,\n",
       "          'figure.subplot.hspace': 0.2,\n",
       "          'figure.subplot.left': 0.125,\n",
       "          'figure.subplot.right': 0.9,\n",
       "          'figure.subplot.top': 0.88,\n",
       "          'figure.subplot.wspace': 0.2,\n",
       "          'figure.titlesize': 'large',\n",
       "          'figure.titleweight': 'normal',\n",
       "          'font.cursive': ['Apple Chancery',\n",
       "                           'Textile',\n",
       "                           'Zapf Chancery',\n",
       "                           'Sand',\n",
       "                           'Script MT',\n",
       "                           'Felipa',\n",
       "                           'Comic Neue',\n",
       "                           'Comic Sans MS',\n",
       "                           'cursive'],\n",
       "          'font.family': ['sans-serif'],\n",
       "          'font.fantasy': ['Chicago',\n",
       "                           'Charcoal',\n",
       "                           'Impact',\n",
       "                           'Western',\n",
       "                           'xkcd script',\n",
       "                           'fantasy'],\n",
       "          'font.monospace': ['DejaVu Sans Mono',\n",
       "                             'Bitstream Vera Sans Mono',\n",
       "                             'Computer Modern Typewriter',\n",
       "                             'Andale Mono',\n",
       "                             'Nimbus Mono L',\n",
       "                             'Courier New',\n",
       "                             'Courier',\n",
       "                             'Fixed',\n",
       "                             'Terminal',\n",
       "                             'monospace'],\n",
       "          'font.sans-serif': ['DejaVu Sans',\n",
       "                              'Bitstream Vera Sans',\n",
       "                              'Computer Modern Sans Serif',\n",
       "                              'Lucida Grande',\n",
       "                              'Verdana',\n",
       "                              'Geneva',\n",
       "                              'Lucid',\n",
       "                              'Arial',\n",
       "                              'Helvetica',\n",
       "                              'Avant Garde',\n",
       "                              'sans-serif'],\n",
       "          'font.serif': ['DejaVu Serif',\n",
       "                         'Bitstream Vera Serif',\n",
       "                         'Computer Modern Roman',\n",
       "                         'New Century Schoolbook',\n",
       "                         'Century Schoolbook L',\n",
       "                         'Utopia',\n",
       "                         'ITC Bookman',\n",
       "                         'Bookman',\n",
       "                         'Nimbus Roman No9 L',\n",
       "                         'Times New Roman',\n",
       "                         'Times',\n",
       "                         'Palatino',\n",
       "                         'Charter',\n",
       "                         'serif'],\n",
       "          'font.size': 10.0,\n",
       "          'font.stretch': 'normal',\n",
       "          'font.style': 'normal',\n",
       "          'font.variant': 'normal',\n",
       "          'font.weight': 'normal',\n",
       "          'grid.alpha': 1.0,\n",
       "          'grid.color': '#b0b0b0',\n",
       "          'grid.linestyle': '-',\n",
       "          'grid.linewidth': 0.8,\n",
       "          'hatch.color': 'black',\n",
       "          'hatch.linewidth': 1.0,\n",
       "          'hist.bins': 10,\n",
       "          'image.aspect': 'equal',\n",
       "          'image.cmap': 'viridis',\n",
       "          'image.composite_image': True,\n",
       "          'image.interpolation': 'antialiased',\n",
       "          'image.lut': 256,\n",
       "          'image.origin': 'upper',\n",
       "          'image.resample': True,\n",
       "          'interactive': False,\n",
       "          'keymap.back': ['left', 'c', 'backspace', 'MouseButton.BACK'],\n",
       "          'keymap.copy': ['ctrl+c', 'cmd+c'],\n",
       "          'keymap.forward': ['right', 'v', 'MouseButton.FORWARD'],\n",
       "          'keymap.fullscreen': ['f', 'ctrl+f'],\n",
       "          'keymap.grid': ['g'],\n",
       "          'keymap.grid_minor': ['G'],\n",
       "          'keymap.help': ['f1'],\n",
       "          'keymap.home': ['h', 'r', 'home'],\n",
       "          'keymap.pan': ['p'],\n",
       "          'keymap.quit': ['ctrl+w', 'cmd+w', 'q'],\n",
       "          'keymap.quit_all': [],\n",
       "          'keymap.save': ['s', 'ctrl+s'],\n",
       "          'keymap.xscale': ['k', 'L'],\n",
       "          'keymap.yscale': ['l'],\n",
       "          'keymap.zoom': ['o'],\n",
       "          'legend.borderaxespad': 0.5,\n",
       "          'legend.borderpad': 0.4,\n",
       "          'legend.columnspacing': 2.0,\n",
       "          'legend.edgecolor': '0.8',\n",
       "          'legend.facecolor': 'inherit',\n",
       "          'legend.fancybox': True,\n",
       "          'legend.fontsize': 'medium',\n",
       "          'legend.framealpha': 0.8,\n",
       "          'legend.frameon': True,\n",
       "          'legend.handleheight': 0.7,\n",
       "          'legend.handlelength': 2.0,\n",
       "          'legend.handletextpad': 0.8,\n",
       "          'legend.labelcolor': 'None',\n",
       "          'legend.labelspacing': 0.5,\n",
       "          'legend.loc': 'best',\n",
       "          'legend.markerscale': 1.0,\n",
       "          'legend.numpoints': 1,\n",
       "          'legend.scatterpoints': 1,\n",
       "          'legend.shadow': False,\n",
       "          'legend.title_fontsize': None,\n",
       "          'lines.antialiased': True,\n",
       "          'lines.color': 'C0',\n",
       "          'lines.dash_capstyle': <CapStyle.butt: 'butt'>,\n",
       "          'lines.dash_joinstyle': <JoinStyle.round: 'round'>,\n",
       "          'lines.dashdot_pattern': [6.4, 1.6, 1.0, 1.6],\n",
       "          'lines.dashed_pattern': [3.7, 1.6],\n",
       "          'lines.dotted_pattern': [1.0, 1.65],\n",
       "          'lines.linestyle': '-',\n",
       "          'lines.linewidth': 1.5,\n",
       "          'lines.marker': 'None',\n",
       "          'lines.markeredgecolor': 'auto',\n",
       "          'lines.markeredgewidth': 1.0,\n",
       "          'lines.markerfacecolor': 'auto',\n",
       "          'lines.markersize': 6.0,\n",
       "          'lines.scale_dashes': True,\n",
       "          'lines.solid_capstyle': <CapStyle.projecting: 'projecting'>,\n",
       "          'lines.solid_joinstyle': <JoinStyle.round: 'round'>,\n",
       "          'macosx.window_mode': 'system',\n",
       "          'markers.fillstyle': 'full',\n",
       "          'mathtext.bf': 'sans:bold',\n",
       "          'mathtext.bfit': 'sans:italic:bold',\n",
       "          'mathtext.cal': 'cursive',\n",
       "          'mathtext.default': 'it',\n",
       "          'mathtext.fallback': 'cm',\n",
       "          'mathtext.fontset': 'dejavusans',\n",
       "          'mathtext.it': 'sans:italic',\n",
       "          'mathtext.rm': 'sans',\n",
       "          'mathtext.sf': 'sans',\n",
       "          'mathtext.tt': 'monospace',\n",
       "          'patch.antialiased': True,\n",
       "          'patch.edgecolor': 'black',\n",
       "          'patch.facecolor': 'C0',\n",
       "          'patch.force_edgecolor': False,\n",
       "          'patch.linewidth': 1.0,\n",
       "          'path.effects': [],\n",
       "          'path.simplify': True,\n",
       "          'path.simplify_threshold': 0.111111111111,\n",
       "          'path.sketch': None,\n",
       "          'path.snap': True,\n",
       "          'pcolor.shading': 'auto',\n",
       "          'pcolormesh.snap': True,\n",
       "          'pdf.compression': 6,\n",
       "          'pdf.fonttype': 3,\n",
       "          'pdf.inheritcolor': False,\n",
       "          'pdf.use14corefonts': False,\n",
       "          'pgf.preamble': '',\n",
       "          'pgf.rcfonts': True,\n",
       "          'pgf.texsystem': 'xelatex',\n",
       "          'polaraxes.grid': True,\n",
       "          'ps.distiller.res': 6000,\n",
       "          'ps.fonttype': 3,\n",
       "          'ps.papersize': 'letter',\n",
       "          'ps.useafm': False,\n",
       "          'ps.usedistiller': None,\n",
       "          'savefig.bbox': None,\n",
       "          'savefig.directory': '~',\n",
       "          'savefig.dpi': 'figure',\n",
       "          'savefig.edgecolor': 'auto',\n",
       "          'savefig.facecolor': 'auto',\n",
       "          'savefig.format': 'png',\n",
       "          'savefig.orientation': 'portrait',\n",
       "          'savefig.pad_inches': 0.1,\n",
       "          'savefig.transparent': False,\n",
       "          'scatter.edgecolors': 'face',\n",
       "          'scatter.marker': 'o',\n",
       "          'svg.fonttype': 'path',\n",
       "          'svg.hashsalt': None,\n",
       "          'svg.image_inline': True,\n",
       "          'text.antialiased': True,\n",
       "          'text.color': 'black',\n",
       "          'text.hinting': 'force_autohint',\n",
       "          'text.hinting_factor': 8,\n",
       "          'text.kerning_factor': 0,\n",
       "          'text.latex.preamble': '',\n",
       "          'text.parse_math': True,\n",
       "          'text.usetex': False,\n",
       "          'timezone': 'UTC',\n",
       "          'tk.window_focus': False,\n",
       "          'toolbar': 'toolbar2',\n",
       "          'webagg.address': '127.0.0.1',\n",
       "          'webagg.open_in_browser': True,\n",
       "          'webagg.port': 8988,\n",
       "          'webagg.port_retries': 50,\n",
       "          'xaxis.labellocation': 'center',\n",
       "          'xtick.alignment': 'center',\n",
       "          'xtick.bottom': True,\n",
       "          'xtick.color': 'black',\n",
       "          'xtick.direction': 'out',\n",
       "          'xtick.labelbottom': True,\n",
       "          'xtick.labelcolor': 'inherit',\n",
       "          'xtick.labelsize': 'medium',\n",
       "          'xtick.labeltop': False,\n",
       "          'xtick.major.bottom': True,\n",
       "          'xtick.major.pad': 3.5,\n",
       "          'xtick.major.size': 3.5,\n",
       "          'xtick.major.top': True,\n",
       "          'xtick.major.width': 0.8,\n",
       "          'xtick.minor.bottom': True,\n",
       "          'xtick.minor.ndivs': 'auto',\n",
       "          'xtick.minor.pad': 3.4,\n",
       "          'xtick.minor.size': 2.0,\n",
       "          'xtick.minor.top': True,\n",
       "          'xtick.minor.visible': False,\n",
       "          'xtick.minor.width': 0.6,\n",
       "          'xtick.top': False,\n",
       "          'yaxis.labellocation': 'center',\n",
       "          'ytick.alignment': 'center_baseline',\n",
       "          'ytick.color': 'black',\n",
       "          'ytick.direction': 'out',\n",
       "          'ytick.labelcolor': 'inherit',\n",
       "          'ytick.labelleft': True,\n",
       "          'ytick.labelright': False,\n",
       "          'ytick.labelsize': 'medium',\n",
       "          'ytick.left': True,\n",
       "          'ytick.major.left': True,\n",
       "          'ytick.major.pad': 3.5,\n",
       "          'ytick.major.right': True,\n",
       "          'ytick.major.size': 3.5,\n",
       "          'ytick.major.width': 0.8,\n",
       "          'ytick.minor.left': True,\n",
       "          'ytick.minor.ndivs': 'auto',\n",
       "          'ytick.minor.pad': 3.4,\n",
       "          'ytick.minor.right': True,\n",
       "          'ytick.minor.size': 2.0,\n",
       "          'ytick.minor.visible': False,\n",
       "          'ytick.minor.width': 0.6,\n",
       "          'ytick.right': False})"
      ]
     },
     "execution_count": 4,
     "metadata": {},
     "output_type": "execute_result"
    }
   ],
   "source": [
    "from matplotlib import rcParams\n",
    "import matplotlib\n",
    "\n",
    "#then\n",
    "\n",
    "rcParams"
   ]
  },
  {
   "cell_type": "markdown",
   "id": "6459156f-83ef-4d30-964d-2c72b862e154",
   "metadata": {},
   "source": [
    "You can change individual settings by accessing rcParams.  \n",
    "\n",
    "For instance we have been changing the default figure size throughout this course to be something larger than the nominal [6.4,4.8] dimensions:"
   ]
  },
  {
   "cell_type": "code",
   "execution_count": 5,
   "id": "b356277d-2d70-4937-a51b-8af0394ae5e7",
   "metadata": {},
   "outputs": [
    {
     "data": {
      "text/plain": [
       "[6.4, 4.8]"
      ]
     },
     "execution_count": 5,
     "metadata": {},
     "output_type": "execute_result"
    }
   ],
   "source": [
    "rcParams.get('figure.figsize')\n",
    "#rcParams['figure.figsize']=[12,8]"
   ]
  },
  {
   "cell_type": "code",
   "execution_count": 6,
   "id": "b7362cba-c92b-4d4a-9d8a-7e7352a7b40d",
   "metadata": {},
   "outputs": [],
   "source": [
    "#rcParams['figure.figsize']='default'\n",
    "#rcParams.update(matplotlib.rcParamsDefault)"
   ]
  },
  {
   "cell_type": "markdown",
   "id": "fa01b822-b321-41b9-a0f8-ed763ffa6570",
   "metadata": {},
   "source": [
    "To return the current parameter you type..."
   ]
  },
  {
   "cell_type": "code",
   "execution_count": 7,
   "id": "53d5aaa6-5b25-4a83-9377-8a3078a3e50b",
   "metadata": {},
   "outputs": [
    {
     "data": {
      "text/plain": [
       "[6.4, 4.8]"
      ]
     },
     "execution_count": 7,
     "metadata": {},
     "output_type": "execute_result"
    }
   ],
   "source": [
    "rcParams.get('figure.figsize')"
   ]
  },
  {
   "cell_type": "markdown",
   "id": "0ebb60c8-44b4-436f-969e-fceaf1277afc",
   "metadata": {},
   "source": [
    "... and restore the original value..."
   ]
  },
  {
   "cell_type": "code",
   "execution_count": 8,
   "id": "819a7129-0d82-41f4-8d52-e5511b80a603",
   "metadata": {},
   "outputs": [
    {
     "data": {
      "text/plain": [
       "[6.4, 4.8]"
      ]
     },
     "execution_count": 8,
     "metadata": {},
     "output_type": "execute_result"
    }
   ],
   "source": [
    "# Restore the default figure size\n",
    "rcParams.update({'figure.figsize': plt.rcParamsDefault['figure.figsize']})\n",
    "rcParams.get('figure.figsize')"
   ]
  },
  {
   "cell_type": "markdown",
   "id": "17188ca6-90a3-472b-91df-3ce5d0c72790",
   "metadata": {},
   "source": [
    "Another example: by default, the axis grid is turned off.  To turn it on,\n",
    "\n",
    "```\n",
    "rcParams['axes.grid']=True\n",
    "```\n",
    "\n",
    "You can also turn it on via ``plt``\n",
    "\n",
    "``plt.grid()``\n",
    "\n",
    "or (later) by the ax object if we create a fig,ax pair : ``ax.grid()``  (if you don't know what this means, don't worry about it for now).\n",
    "\n",
    "To turn it back off do\n",
    "\n",
    "``plt.grid('off')``."
   ]
  },
  {
   "cell_type": "markdown",
   "id": "bb0a4853",
   "metadata": {},
   "source": [
    "### Displaying Plots and Images\n",
    "\n",
    "Matplotlib is a visualization package, so then how do you actually visualize images and plots?   The best way to display graphics from Matplotlib depends on how you are using it.  \n",
    "\n",
    "_plt.show()_\n",
    "\n",
    "The primary way I use it is within an executed Python function.   In this case, the key command is ``plt.show()``.\n",
    "\n",
    " ``plt.show()`` is just how it sounds: you create a plot with data, axes, labels, and other stuff you want to include and then just show the plot.   \n",
    " \n",
    " It is usually pretty solid but it works by interacting with your systems interactive graphical backend.  So if your system setup is odd (most often Windows is the problem child; MacOS should be fine), you might run into trouble.  But in most cases, this is not an issue.\n",
    " \n",
    "  _plotting from wihtin iPython shell_\n",
    "\n",
    " \n",
    " As vanderPlas says, \"it can be very convenient to use Matplotlib interactively within an IPython shell (see IPython: Beyond Normal Python). IPython is built to work well with Matplotlib if you specify Matplotlib mode.\" (sorry, I felt like just copying and pasting).\n",
    "\n",
    "To make this work, you first do \n",
    " \n",
    " ```\n",
    "In [1]: %matplotlib\n",
    "Using matplotlib backend: TkAgg\n",
    "```\n",
    "then\n",
    "\n",
    "```\n",
    "\n",
    "In [2]: import matplotlib.pyplot as plt\n",
    " \n",
    " ``` \n",
    " \n",
    " Now, any ``plt`` command will cause a graphics window to open.Some changes (such as modifying properties of lines that are already drawn) will not draw automatically: to force an update, use plt.draw(). Using plt.show() in Matplotlib mode is not required.\n",
    "\n",
    "_matplotlib %inline_\n",
    " \n",
    " If you use Jupyter Notebooks, you are probably familiar with this one.   \n",
    " \n",
    " The key command (after importing matplotlib.pyplot as plt) is \n",
    " \n",
    " ```\n",
    " %matplotlib inline\n",
    " \n",
    " ```\n",
    " \n",
    " After running this command (it needs to be done only once per kernel/session), any cell within the Jupyter notebook that creates a plot will embed a PNG image of the resulting graphic.\n",
    " \n",
    "This is great for pedogagy (er, teaching).  But professional code is usually a lot more complex, so its usefulness beyond learning stuff in the class may be limited.\n",
    "\n",
    "---\n",
    "\n",
    "For this notebook I am going to use %matplotlib inline.  To make display easier, I'm also going to make the images a larger default size with rcParams."
   ]
  },
  {
   "cell_type": "code",
   "execution_count": 9,
   "id": "4d39c480",
   "metadata": {},
   "outputs": [],
   "source": [
    "%matplotlib inline\n",
    "rcParams['figure.figsize']=[12,8]\n",
    "\n",
    "#plt.savefig([name of file.png],dpi=[some number])"
   ]
  },
  {
   "cell_type": "markdown",
   "id": "ddf8634f-dcb5-4627-b58c-439d8aa6e7f3",
   "metadata": {},
   "source": [
    "### Saving Output\n",
    "\n",
    "One thing I really like about Matplotlib is the ability to save graphics to a file in a wide range of formats without a lot off guff.  The basic command to remember is:\n",
    "\n",
    "```\n",
    "plt.savefig([name of figure].[extension]).  \n",
    "\n",
    "```\n",
    "\n",
    "The ``[extension]`` should indicate the type of file.  As an example, say you want to save the file as \"Figure_1\" with the format of a PNG.   Then your command is going to be\n",
    "\n",
    "```\n",
    "[do all the matplotlib plot-y stuff to create the figure]\n",
    "\n",
    "plt.savefig(\"Figure_1.png\")\n",
    "\n",
    "```\n",
    "\n",
    "For PDF ...\n",
    "\n",
    "```\n",
    "[do all the matplotlib plot-y stuff to create the figure]\n",
    "\n",
    "plt.savefig(\"Figure_1.pdf\")\n",
    "\n",
    "```\n",
    "\n",
    "And so on.   To see all the supported file types do this:"
   ]
  },
  {
   "cell_type": "markdown",
   "id": "1a4829e7-f0ca-4ef4-8600-8da49f0ee65d",
   "metadata": {},
   "source": [
    "```\n",
    "import matplotlib.pyplot as plt\n",
    "fig=plt.figure()\n",
    "\n",
    "fig.canvas.get_supported_filetypes()\n",
    "#this will print out a lot of stuff\n",
    "```\n",
    "\n",
    "e.g."
   ]
  },
  {
   "cell_type": "code",
   "execution_count": 10,
   "id": "214eaf9a-eaaa-4740-9235-95a9e63e7b0c",
   "metadata": {},
   "outputs": [
    {
     "data": {
      "text/plain": [
       "{'eps': 'Encapsulated Postscript',\n",
       " 'jpg': 'Joint Photographic Experts Group',\n",
       " 'jpeg': 'Joint Photographic Experts Group',\n",
       " 'pdf': 'Portable Document Format',\n",
       " 'pgf': 'PGF code for LaTeX',\n",
       " 'png': 'Portable Network Graphics',\n",
       " 'ps': 'Postscript',\n",
       " 'raw': 'Raw RGBA bitmap',\n",
       " 'rgba': 'Raw RGBA bitmap',\n",
       " 'svg': 'Scalable Vector Graphics',\n",
       " 'svgz': 'Scalable Vector Graphics',\n",
       " 'tif': 'Tagged Image File Format',\n",
       " 'tiff': 'Tagged Image File Format',\n",
       " 'webp': 'WebP Image Format'}"
      ]
     },
     "execution_count": 10,
     "metadata": {},
     "output_type": "execute_result"
    },
    {
     "data": {
      "text/plain": [
       "<Figure size 1200x800 with 0 Axes>"
      ]
     },
     "metadata": {},
     "output_type": "display_data"
    }
   ],
   "source": [
    "import matplotlib.pyplot as plt\n",
    "fig=plt.figure()\n",
    "fig.canvas.get_supported_filetypes()"
   ]
  },
  {
   "cell_type": "markdown",
   "id": "29378cb8-b986-43b7-a59d-d9726d094205",
   "metadata": {},
   "source": [
    "You will see eps, jpg, jpeg,pdf,png,ps, ...etc etc.   \n",
    "\n",
    "\n",
    "But the ones I always use now are either:\n",
    "\n",
    "* png (for quick figures) \n",
    "* pdf (for vectorized figures that Science and Nature will not complain about).\n",
    "\n",
    "Encapsulated postscript (eps) is older but also vectorized (good!) but it's kind of a weird format.   Some platforms don't like it and will want you to convert to PDF anyway (this happens to me with bibtex).\n",
    "\n",
    "---"
   ]
  },
  {
   "cell_type": "markdown",
   "id": "f467cd1a-1cc5-4536-adee-ecbcfaba9d08",
   "metadata": {},
   "source": [
    "Other key parameters include:\n",
    "\n",
    "* dpi  - \"dots per inch\".  The resolution in dots per inch. If 'figure', use the figure's dpi value.\n",
    "* bbox_inches - bbox_inches = 'tight' removes all the extra white space around the figure.\n",
    "  "
   ]
  },
  {
   "cell_type": "markdown",
   "id": "c8207ce4",
   "metadata": {},
   "source": [
    "### Some Simple Plots\n",
    "\n",
    "Now that we have those preliminaries out of the way, let's actually do stuff with Matplotlib.\n",
    "\n",
    "#### _A Simple Scatter Plot_\n",
    "\n",
    "Let's begin with some very simple plots: a simple scatter plot and a line plot.   In order to do this, we need data of some kind (any kind).   \n",
    "\n",
    "In our first example (a _**scatter**_ plot) we will just make up data: i.e. we choose an array of numbers as our x array and an equation including a random number generator from _**numpy**_ as our y array.  "
   ]
  },
  {
   "cell_type": "code",
   "execution_count": 12,
   "id": "eed23666",
   "metadata": {},
   "outputs": [
    {
     "data": {
      "text/plain": [
       "<matplotlib.collections.PathCollection at 0x1208b3e30>"
      ]
     },
     "execution_count": 12,
     "metadata": {},
     "output_type": "execute_result"
    },
    {
     "data": {
      "image/png": "[encoded data removed]",
      "text/plain": [
       "<Figure size 1200x800 with 1 Axes>"
      ]
     },
     "metadata": {},
     "output_type": "display_data"
    }
   ],
   "source": [
    "###(Ex_1.1) #ex1_1.py\n",
    "\n",
    "#importing pyplot\n",
    "#import matplotlib.pyplot as plt\n",
    "\n",
    "#this will allow use NumPy's random number generator\n",
    "import numpy as np \n",
    "\n",
    "#https://numpy.org/doc/stable/reference/generated/numpy.arange.html\n",
    "\n",
    "xarray=np.arange(20)   #an array of numbers from 0 to 19\n",
    "yarray=np.arange(20)+3*np.random.randn(20) \n",
    "#y is same as x EXCEPT now we vary the value +/- some random number about x\n",
    "\n",
    "#scatter plot of xarray and yarray\n",
    "plt.scatter(xarray,yarray,marker='*')\n",
    "\n",
    "#show the plot\n",
    "#plt.show()\n",
    "\n",
    "\n",
    "#![](./code/sect1/figures/Ex1_1.png)"
   ]
  },
  {
   "cell_type": "markdown",
   "id": "dafaa2c5",
   "metadata": {},
   "source": [
    "Note: there are a lot of ways to generate random numbers, depending on what you want the distribution to look like.  The following URL gives a list of different random functions available in _**numpy**_:\n",
    "[https://numpy.org/doc/stable/reference/random/legacy.html#functions-in-numpy-random]()\n",
    "\n",
    "#### _A Simple Line Plot_\n",
    "\n",
    "We can also plot these data as a straight line, using the ```plt.plot``` command.  We can retain the dots by adding the variable *marker* and *ms* (marker size) to the plot call (i.e. ``plt.plot(x,y,marker='o',ms=20)``).  We will get to the details of what 'marker' means and how to customize it later."
   ]
  },
  {
   "cell_type": "code",
   "execution_count": 13,
   "id": "4a9a3650",
   "metadata": {},
   "outputs": [
    {
     "data": {
      "text/plain": [
       "[<matplotlib.lines.Line2D at 0x1208d3260>]"
      ]
     },
     "execution_count": 13,
     "metadata": {},
     "output_type": "execute_result"
    },
    {
     "data": {
      "image/png": "[encoded data removed]",
      "text/plain": [
       "<Figure size 1200x800 with 1 Axes>"
      ]
     },
     "metadata": {},
     "output_type": "display_data"
    }
   ],
   "source": [
    "###(Ex_1.2)\n",
    "\n",
    "#import matplotlib.pyplot as plt\n",
    "import numpy as np \n",
    "\n",
    "xarray=np.arange(20)   \n",
    "yarray=np.arange(20)+3*np.random.randn(20) \n",
    "\n",
    "#line plot of xarray and yarray\n",
    "plt.plot(xarray,yarray, marker='o',markeredgewidth=1,ms=10)\n",
    "#plt.plot(xarray,yarray)\n",
    "\n",
    "#plt.show()\n",
    "\n",
    "#![](./code/sect1/figures/Ex1_2.png)"
   ]
  },
  {
   "cell_type": "markdown",
   "id": "7a176f61",
   "metadata": {},
   "source": [
    "Note that the positions of the points has changed compared to image Ex_1.1 because we have performed a new random number generation.\n",
    "\n",
    "#### _Plotting a Simple Line Fit to Scatter Plot Data_\n",
    "\n",
    "Now, the plot we just did simply connects different points, which isn't that interesting.  We can _fit_ data to a function using NumPy or other packages.   The simplest version of this functional fit is a polynomial fit of degree one (i.e. a straight line).   So we will need to import the _**numpy**_ package first, and then use the fitting packages to fit the data to a polynomial.  The _**numpy**_ package _*polyfit*_ can fit a polynomial function to data (which includes a straight line).\n",
    "\n",
    "I am also going to introduce three different keywords that allow you to customize your plots for individual points (i.e. for scatter plots):\n",
    "* color - exactly how it sounds : works for both plt.plot and plt.scatter\n",
    "* edgecolor - the code defining the boundary of the symbol you are plotting for each point : works for plt.scatter\n",
    "* alpha - transparency : works for both plt.plot and plt.scatter\n",
    "* sizes - denoted by ``s`` for a scatter plot"
   ]
  },
  {
   "cell_type": "code",
   "execution_count": 14,
   "id": "8b82ef06-33c5-49b5-9bf3-b93b8b2837ef",
   "metadata": {},
   "outputs": [
    {
     "name": "stdout",
     "output_type": "stream",
     "text": [
      "1.0259479958071016 0.2966236684190213\n"
     ]
    },
    {
     "data": {
      "image/png": "[encoded data removed]",
      "text/plain": [
       "<Figure size 1200x800 with 1 Axes>"
      ]
     },
     "metadata": {},
     "output_type": "display_data"
    }
   ],
   "source": [
    "###(Ex_1.3)\n",
    "\n",
    "#import matplotlib.pyplot as plt\n",
    "import numpy as np \n",
    "\n",
    "xarray=np.arange(20)   \n",
    "yarray=np.arange(20)+3*np.random.randn(20) \n",
    "\n",
    "#https://numpy.org/doc/stable/reference/generated/numpy.polyfit.html\n",
    "#a polynomial fit of degree one\n",
    "a,b=np.polyfit(xarray,yarray,1)\n",
    "\n",
    "\n",
    "#explore these\n",
    "plt.scatter(xarray,yarray,s=400,color='b',edgecolor='black',alpha=0.15)\n",
    "plt.plot(xarray,xarray*a+b,color='black')\n",
    "#plt.plot(xarray,xarray*a+b,color='black',ms=20,marker='*')\n",
    "print(a,b) # this shows as 0.939,-0.817 for my example\n",
    "\n",
    "#plt.show()\n",
    "#![](./code/sect1/figures/Ex1_3.png)"
   ]
  },
  {
   "cell_type": "code",
   "execution_count": null,
   "id": "a4fc4021-3c66-4477-817c-c4157b1157fd",
   "metadata": {},
   "outputs": [],
   "source": []
  },
  {
   "cell_type": "code",
   "execution_count": null,
   "id": "e5fb0689-3001-41ff-abfe-16460b05f161",
   "metadata": {},
   "outputs": [],
   "source": []
  }
 ],
 "metadata": {
  "kernelspec": {
   "display_name": "Python 3 (ipykernel)",
   "language": "python",
   "name": "python3"
  },
  "language_info": {
   "codemirror_mode": {
    "name": "ipython",
    "version": 3
   },
   "file_extension": ".py",
   "mimetype": "text/x-python",
   "name": "python",
   "nbconvert_exporter": "python",
   "pygments_lexer": "ipython3",
   "version": "3.12.4"
  }
 },
 "nbformat": 4,
 "nbformat_minor": 5
}
