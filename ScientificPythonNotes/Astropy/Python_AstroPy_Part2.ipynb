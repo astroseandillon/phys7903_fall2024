{
 "cells": [
  {
   "cell_type": "markdown",
   "id": "d6c4eda7",
   "metadata": {},
   "source": [
    "# _Python for Scientific Data Analysis_\n",
    "\n",
    "\n",
    "#  AstroPy and AstroQuery\n",
    "\n",
    "## Section 2a: Reading in Tables/Files\n",
    "\n",
    "As before, we start off with the basic library import commands:"
   ]
  },
  {
   "cell_type": "code",
   "execution_count": 36,
   "id": "cdebc5c1",
   "metadata": {},
   "outputs": [],
   "source": [
    "import numpy as np\n",
    "import matplotlib.pyplot as plt\n",
    "%matplotlib inline"
   ]
  },
  {
   "cell_type": "markdown",
   "id": "529c204d",
   "metadata": {},
   "source": [
    "Also, for this section, we will be grabbing files from the ./sect2/code/files/ directory often.  So we save this as a variable"
   ]
  },
  {
   "cell_type": "code",
   "execution_count": 37,
   "id": "b7004e0e",
   "metadata": {},
   "outputs": [],
   "source": [
    "directory='./code/sect2/files/'"
   ]
  },
  {
   "cell_type": "markdown",
   "id": "e402c616",
   "metadata": {},
   "source": [
    "### astropy.io.ascii\n",
    "\n",
    "The previous section first focused on reading in and writing astronomical image data stored in the FITS format using ``astropy.io.fits`` function. \n",
    "\n",
    " ``astropy.io.ascii ``provides methods for reading and writing a wide range of ASCII data table formats via built-in Extension Reader Classes. The emphasis is on flexibility and convenience of use, although readers can optionally use a less flexible C-based engine for reading and writing for improved performance. \n",
    " \n",
    " The import call goes like this:\n",
    "        "
   ]
  },
  {
   "cell_type": "code",
   "execution_count": 38,
   "id": "d235af54",
   "metadata": {},
   "outputs": [],
   "source": [
    "\n",
    " from astropy.io import ascii\n"
   ]
  },
  {
   "cell_type": "markdown",
   "id": "f79baaf7",
   "metadata": {},
   "source": [
    " \n",
    " The official documentation goes into a lot of detail on all the different things ``ascii`` can do.  Specifically, it can handle a lot of different input file format names.  I'll include the most important ones below:\n",
    " \n",
    " * ``basic`` - Basic table with custom delimiters\n",
    " * ``cds`` - CDS format table\n",
    " * ``csv`` - Basic, except with comma-separated values\n",
    " * ``fixedwidth`` - fixed width\n",
    " * ``ipac`` - Looks like the following ...\n",
    " \n",
    " ```\n",
    "|  column1   |  column2  | column3 |  Column Names (required)\n",
    "|   double   |   double  |   int   | Data Types (standard)\n",
    "|   unit     |   unit    |   unit  |   Data Units (optional)\n",
    "|   null     |   null    |   null  |  Null Values (optional)\n",
    "   165.466279    -34.704730      5    |     Data Rows (1 required)\n",
    " ```\n",
    " * ``latex``- a LaTeX table\n",
    " * ``mrt`` - AAS Machine-Readable Table format (i.e. what you get if you download a table file from a AAS Journals paper (e.g. Astrophysical Journal)."
   ]
  },
  {
   "cell_type": "markdown",
   "id": "d37f8c87",
   "metadata": {},
   "source": [
    "#### Reading in files\n",
    " \n",
    " The basic call for ``ascii.read`` is:\n",
    " \n",
    " ```\n",
    " variable_name=ascii.read('[file name]',\n",
    "    delimiter=[delimiter],format=[format_name])\n",
    " ```\n",
    " \n",
    " Two examples:\n",
    " \n",
    " ``a=ascii.read('data.csv',format='csv')``\n",
    "\n",
    " Now you have two options when you read in a table.  First, you can _tell_ astropy which format your table is in.  This can be done through the ``format`` keyword.   You can also give clues.  E.g. \n",
    " \n",
    " \n",
    " ``a=ascii.read('data.txt',delimiter=',')`` ...\n",
    " \n",
    "Setting ``delimiter=','`` then tells Astropy that you have a csv file (because you have comma-separated values for your table entries, aka a .csv file)."
   ]
  },
  {
   "cell_type": "markdown",
   "id": "962ee207",
   "metadata": {},
   "source": [
    "#### _Examples_\n",
    "\n",
    "Below are several examples of reading in files with ``ascii``\n",
    "\n",
    "* A csv file"
   ]
  },
  {
   "cell_type": "code",
   "execution_count": 39,
   "id": "d0188453",
   "metadata": {},
   "outputs": [
    {
     "name": "stdout",
     "output_type": "stream",
     "text": [
      "          pl_name                     hostname         ... sy_gaiamagerr2\n",
      "---------------------------- ------------------------- ... --------------\n",
      "     1RXS J160929.1-210524 b     1RXS J160929.1-210524 ...      -0.002275\n",
      "2MASS J01033563-5515561 AB b 2MASS J01033563-5515561 A ...             --\n",
      "   2MASS J01225093-2439505 b   2MASS J01225093-2439505 ...      -0.001151\n",
      "   2MASS J02192210-3925225 b   2MASS J02192210-3925225 ...      -0.000624\n",
      " 2MASS J21402931+1625183 A b 2MASS J21402931+1625183 A ...      -0.004861\n",
      "   2MASS J22362452+4751425 b   2MASS J22362452+4751425 ...      -0.000737\n",
      "                    51 Eri b                    51 Eri ...     -0.0023075\n",
      "                    AB Pic b                    AB Pic ...      -0.001332\n",
      "    CFBDSIR J145829+101343 b    CFBDSIR J145829+101343 ...             --\n",
      "            CFHTWIR-Oph 98 b          CFHTWIR-Oph 98 A ...             --\n",
      "                   CHXR 73 b                   CHXR 73 ...      -0.001396\n",
      "                COCONUTS-2 b              COCONUTS-2 A ...      -0.001567\n",
      "                    CT Cha b                    CT Cha ...      -0.004701\n",
      "                    DH Tau b                    DH Tau ...      -0.008997\n"
     ]
    }
   ],
   "source": [
    "infile0='imaged_planets_v6.csv'\n",
    "\n",
    "def readinplanetfile(infile=infile0):\n",
    "    \n",
    "    data=ascii.read(directory+infile0)\n",
    "    #print(data[0:5])\n",
    "    #print(data['pl_name'][10:30])\n",
    "    \n",
    "readinplanetfile()\n",
    "\n",
    "#Or\n",
    "\n",
    "\n",
    "#here, the code uses the delimiter keyword to figure out the type of table\n",
    "def readinplanetfile2(infile=infile0):\n",
    "    \n",
    "    data=ascii.read(directory+infile0,delimiter=',')\n",
    "    #print(repr((data[3])[0:15]))\n",
    "    print(data[0:14])\n",
    "    \n",
    "readinplanetfile2(infile='imaged_planets_v6.txt')\n"
   ]
  },
  {
   "cell_type": "markdown",
   "id": "53f9cb6b",
   "metadata": {},
   "source": [
    "* a latex file"
   ]
  },
  {
   "cell_type": "code",
   "execution_count": 40,
   "id": "d249f36b",
   "metadata": {},
   "outputs": [
    {
     "data": {
      "text/html": [
       "<div><i>Table length=2</i>\n",
       "<table id=\"table5494717616\" class=\"table-striped table-bordered table-condensed\">\n",
       "<thead><tr><th>Name</th><th>RA</th><th>DEC</th><th>V</th><th>H</th></tr></thead>\n",
       "<thead><tr><th>str8</th><th>str10</th><th>str10</th><th>float64</th><th>float64</th></tr></thead>\n",
       "<tr><td>HIP950</td><td>0:11:44.16</td><td>-35:07:58.</td><td>5.239</td><td>4.159</td></tr>\n",
       "<tr><td>HIP5661</td><td>1:12:45.6</td><td>-37:51:25.</td><td>5.934</td><td>5.288</td></tr>\n",
       "</table></div>"
      ],
      "text/plain": [
       "<Table length=2>\n",
       "  Name      RA        DEC        V       H   \n",
       "  str8    str10      str10    float64 float64\n",
       "------- ---------- ---------- ------- -------\n",
       " HIP950 0:11:44.16 -35:07:58.   5.239   4.159\n",
       "HIP5661  1:12:45.6 -37:51:25.   5.934   5.288"
      ]
     },
     "execution_count": 40,
     "metadata": {},
     "output_type": "execute_result"
    }
   ],
   "source": [
    "data=ascii.read(directory+'startable.tex')\n",
    "#data[0:2] #prints out the first 5 rows of data\n",
    "#see what happens when you do this ...\n",
    "#data=ascii.read(directory+'startable.tex',format='csv')\n",
    "data[0:2]"
   ]
  },
  {
   "cell_type": "markdown",
   "id": "2924c1bf",
   "metadata": {},
   "source": [
    "* an ipac table file"
   ]
  },
  {
   "cell_type": "code",
   "execution_count": 41,
   "id": "647f3be6",
   "metadata": {},
   "outputs": [
    {
     "data": {
      "text/html": [
       "&lt;Column name=&apos;dec&apos; dtype=&apos;float64&apos; unit=&apos;deg&apos; length=5&gt;\n",
       "<table>\n",
       "<tr><td>36.806611</td></tr>\n",
       "<tr><td>36.8139119</td></tr>\n",
       "<tr><td>36.8145549</td></tr>\n",
       "<tr><td>36.8005263</td></tr>\n",
       "<tr><td>36.7972808</td></tr>\n",
       "</table>"
      ],
      "text/plain": [
       "<Column name='dec' dtype='float64' unit='deg' length=5>\n",
       " 36.806611\n",
       "36.8139119\n",
       "36.8145549\n",
       "36.8005263\n",
       "36.7972808"
      ]
     },
     "execution_count": 41,
     "metadata": {},
     "output_type": "execute_result"
    }
   ],
   "source": [
    "data=ascii.read(directory+'wise_allwise_hip99770.tbl',format='ipac')\n",
    "\n",
    "#data[0:2]\n",
    "#data[0:2]['ra'] #prints out the first two right ascensions\n",
    "data['dec']"
   ]
  },
  {
   "cell_type": "markdown",
   "id": "bf874fb7",
   "metadata": {},
   "source": [
    "* an mrt table file"
   ]
  },
  {
   "cell_type": "code",
   "execution_count": 42,
   "id": "e1067247",
   "metadata": {},
   "outputs": [
    {
     "data": {
      "text/html": [
       "<div><i>Table length=5</i>\n",
       "<table id=\"table5498110272\" class=\"table-striped table-bordered table-condensed\">\n",
       "<thead><tr><th>Assoc</th><th>Main</th><th>SpT</th><th>RAh</th><th>RAm</th><th>RAs</th><th>DE-</th><th>DEd</th><th>DEm</th><th>DEs</th><th>pmRA</th><th>e_pmRA</th><th>pmDE</th><th>e_pmDE</th><th>RVel</th><th>e_RVel</th><th>Dist</th><th>e_Dist</th><th>Comp</th><th>r_SpT</th><th>r_pmX</th><th>r_RVel</th><th>r_Dist</th></tr></thead>\n",
       "<thead><tr><th></th><th></th><th></th><th>h</th><th>min</th><th>s</th><th></th><th>deg</th><th>arcmin</th><th>arcsec</th><th>mas / yr</th><th>mas / yr</th><th>mas / yr</th><th>mas / yr</th><th>km / s</th><th>km / s</th><th>pc</th><th>pc</th><th></th><th></th><th></th><th></th><th></th></tr></thead>\n",
       "<thead><tr><th>str6</th><th>str27</th><th>str13</th><th>int64</th><th>int64</th><th>float64</th><th>str1</th><th>int64</th><th>int64</th><th>float64</th><th>float64</th><th>float64</th><th>float64</th><th>float64</th><th>float64</th><th>float64</th><th>float64</th><th>float64</th><th>str11</th><th>str3</th><th>str3</th><th>str10</th><th>str3</th></tr></thead>\n",
       "<tr><td>ABDMG</td><td>2MASS J00192626+4614078</td><td>M8{beta}</td><td>0</td><td>19</td><td>26.26</td><td>--</td><td>46</td><td>14</td><td>7.8</td><td>119.4</td><td>0.9</td><td>-75.4</td><td>0.9</td><td>-20.0</td><td>3.0</td><td>39.0</td><td>2.0</td><td>--</td><td>1</td><td>2</td><td>3</td><td>2</td></tr>\n",
       "<tr><td>ABDMG</td><td>BD+54 144 A</td><td>F8V</td><td>0</td><td>45</td><td>51.06</td><td>--</td><td>54</td><td>58</td><td>39.1</td><td>96.4</td><td>0.03</td><td>-73.97</td><td>0.04</td><td>-15.0</td><td>2.0</td><td>50.3</td><td>0.9</td><td>--</td><td>4</td><td>5</td><td>6</td><td>5</td></tr>\n",
       "<tr><td>ABDMG</td><td>BD+54 144 B</td><td>K3</td><td>0</td><td>45</td><td>51.23</td><td>--</td><td>54</td><td>58</td><td>40.8</td><td>--</td><td>--</td><td>--</td><td>--</td><td>--</td><td>--</td><td>--</td><td>--</td><td>[COMPANION]</td><td>7</td><td>-</td><td>-</td><td>-</td></tr>\n",
       "<tr><td>ABDMG</td><td>2MASS J00470038+6803543</td><td>L6-L8{gamma}</td><td>0</td><td>47</td><td>0.39</td><td>--</td><td>68</td><td>3</td><td>54.4</td><td>385.0</td><td>1.0</td><td>-201.0</td><td>1.0</td><td>-20.0</td><td>1.0</td><td>12.2</td><td>0.3</td><td>--</td><td>-</td><td>2</td><td>8</td><td>2</td></tr>\n",
       "<tr><td>ABDMG</td><td>G 132-51 B</td><td>M2.6</td><td>1</td><td>3</td><td>42.23</td><td>--</td><td>40</td><td>51</td><td>13.6</td><td>132.0</td><td>5.0</td><td>-164.0</td><td>5.0</td><td>-10.6</td><td>0.3</td><td>30.0</td><td>2.0</td><td>--</td><td>9</td><td>9</td><td>9</td><td>9</td></tr>\n",
       "</table></div>"
      ],
      "text/plain": [
       "<Table length=5>\n",
       "Assoc           Main              SpT       RAh  ... r_SpT r_pmX r_RVel r_Dist\n",
       "                                             h   ...                          \n",
       " str6          str27             str13     int64 ...  str3  str3 str10   str3 \n",
       "----- ----------------------- ------------ ----- ... ----- ----- ------ ------\n",
       "ABDMG 2MASS J00192626+4614078     M8{beta}     0 ...     1     2      3      2\n",
       "ABDMG             BD+54 144 A          F8V     0 ...     4     5      6      5\n",
       "ABDMG             BD+54 144 B           K3     0 ...     7     -      -      -\n",
       "ABDMG 2MASS J00470038+6803543 L6-L8{gamma}     0 ...     -     2      8      2\n",
       "ABDMG              G 132-51 B         M2.6     1 ...     9     9      9      9"
      ]
     },
     "execution_count": 42,
     "metadata": {},
     "output_type": "execute_result"
    }
   ],
   "source": [
    "# mrt table\n",
    "data=ascii.read(directory+'mgmembers.txt',format='mrt')\n",
    "data[0:5]"
   ]
  },
  {
   "cell_type": "markdown",
   "id": "197b6123",
   "metadata": {},
   "source": [
    "#### Writing Tables\n",
    "\n",
    "The ``ascii.write`` function writes a data table as an ascii table formatted in various ways.\n",
    "\n",
    "The key step is to create a ``Table()`` object which you then populate with entries and execute an ``ascii.write`` command on the table.   \n",
    "\n",
    "Below is a simple example"
   ]
  },
  {
   "cell_type": "code",
   "execution_count": 43,
   "id": "aabcf443",
   "metadata": {},
   "outputs": [],
   "source": [
    "#a simple table\n",
    "from astropy.table import Table\n",
    "\n",
    "entries=Table()\n",
    "#some fake sinusoidal data\n",
    "x = np.linspace(0, 2 * np.pi, 20)\n",
    "y= (np.linspace(0,2*np.pi,20))\n",
    "#[:,None]\n",
    "#[:,None]\n",
    "\n",
    "def f(x,y):\n",
    " return np.sin(x)+np.cos(y)\n",
    "\n",
    "X,Y=np.meshgrid(x,y)\n",
    "\n",
    "entries['x']=X.flatten()\n",
    "entries['y']=Y.flatten()\n",
    "entries['f(x,y)']=f(X,Y).flatten()\n",
    "filename='output2.dat'\n",
    "filename2='output2.csv'\n",
    "filename3='output2.tex'\n",
    "ascii.write(entries,directory+filename,overwrite=True,format='basic')\n",
    "ascii.write(entries,directory+filename2,overwrite=True,format='csv')\n",
    "ascii.write(entries,directory+filename3,overwrite=True,format='latex')"
   ]
  },
  {
   "cell_type": "markdown",
   "id": "137b8a3a",
   "metadata": {},
   "source": [
    "This writes the data to three tables: a simple ascii table, a csv table, and a LaTeX table.\n",
    "\n",
    "The full API for ``ascii.write`` is more involved and gives you control over the column formats, names, etc.   See here: [https://docs.astropy.org/en/stable/io/ascii/write.html]().   Key parameters are:\n",
    "\n",
    "* delimiter (we already covered this)\n",
    "* formats (a dictionary of data type converters)\n",
    "* names (list of output column names)\n",
    "* fill values (if there are missing values, fill with this symbol)\n",
    "\n",
    "Below is an example:\n",
    "    "
   ]
  },
  {
   "cell_type": "code",
   "execution_count": 44,
   "id": "6f23b3d9",
   "metadata": {},
   "outputs": [],
   "source": [
    "\n",
    "\n",
    "colnames=['x','y','f(x,y)']\n",
    "#colformat={'x':'%.5f', 'y':'%.5f', 'f(x,y)':'%.5f'}\n",
    "colformat={colnames[0]:'%.5f', colnames[1]:'%.5f', colnames[2]:'%.5f'}\n",
    "filename4='output2v2.dat'\n",
    "ascii.write([X.flatten(),Y.flatten(),f(X,Y).flatten()],\n",
    "            directory+filename4,names=colnames,formats=colformat,overwrite=True)\n"
   ]
  },
  {
   "cell_type": "markdown",
   "id": "0f4f82c0",
   "metadata": {},
   "source": [
    "This prints out a formatted table with columns of x, y, and f(x,y).   We do not have to first create a Table object: instead, we can just put the columns in closed [ ] in a list. \n",
    " "
   ]
  },
  {
   "cell_type": "markdown",
   "id": "3e3edd26",
   "metadata": {},
   "source": [
    "## Section 2b: Units, Constants and Coordinates\n",
    "### Astropy Quantities: Units and Constants\n",
    "\n",
    "Astropy allows the ability to give variables the attribute of ``units``.   E.g. instead of just a variable that represents a length, astropy saves it as an object with an attribute of meters (or microns or kilometers, etc.).   This is useful for a number of things, including debugging and automatic unit conversion without having to do much thinking.  Very helpful.\n",
    "\n",
    "Similarly, astropy saves a large number of ``constants``, so you do not have to reenter them. \n",
    "\n",
    "To load these modules, add the following lines to code:"
   ]
  },
  {
   "cell_type": "code",
   "execution_count": 45,
   "id": "20b5d63e",
   "metadata": {},
   "outputs": [],
   "source": [
    "import astropy.units as u #since 'units' takes too long to type\n",
    "\n",
    "#from astropy.constants import [name of the constants]\n",
    "#an example ... gravitational constant, Planck constant, Boltzmann's constant\n",
    "from astropy.constants import G,h,k_B"
   ]
  },
  {
   "cell_type": "markdown",
   "id": "def84468",
   "metadata": {},
   "source": [
    "To make ``units`` and ``constants`` work with plotting routines, you also should ``from astropy.visualization import quantity_support``.  \n",
    "\n",
    "The official tutorial on units and constants in astropy is very good, so I will repeat it with only minor modifications here.\n",
    "\n",
    "For reference, the full list of units is here:\n",
    "\n",
    "[https://kbarbary-astropy.readthedocs.io/en/latest/units/index.html]()\n",
    "\n",
    "and constants here:\n",
    "\n",
    "[https://docs.astropy.org/en/stable/constants/index.html#module-astropy.constants]()\n",
    " "
   ]
  },
  {
   "cell_type": "markdown",
   "id": "8ca3b5c2",
   "metadata": {},
   "source": [
    "Units can then be accessed as **`u.<unit>`**.  For example, the meter unit is:"
   ]
  },
  {
   "cell_type": "code",
   "execution_count": 46,
   "id": "e7fdf700",
   "metadata": {},
   "outputs": [
    {
     "data": {
      "text/latex": [
       "$\\mathrm{m}$"
      ],
      "text/plain": [
       "Unit(\"m\")"
      ]
     },
     "execution_count": 46,
     "metadata": {},
     "output_type": "execute_result"
    }
   ],
   "source": [
    "u.m"
   ]
  },
  {
   "cell_type": "markdown",
   "id": "721c3872",
   "metadata": {},
   "source": [
    "Variables called using the units subpackage have docstring capability.   To access, the doc string (which explains what the variable is all about) do **`u.<unit>`.__doc__**.  E.g."
   ]
  },
  {
   "cell_type": "code",
   "execution_count": 47,
   "id": "9a0c1ea3",
   "metadata": {},
   "outputs": [
    {
     "name": "stdout",
     "output_type": "stream",
     "text": [
      "meter: base unit of length in SI\n",
      "parsec: approximately 3.26 light-years.\n",
      "kilogram: base unit of mass in SI.\n"
     ]
    }
   ],
   "source": [
    "print(u.m.__doc__)\n",
    "print(u.pc.__doc__)\n",
    "print(u.kg.__doc__)"
   ]
  },
  {
   "cell_type": "markdown",
   "id": "9bd04374",
   "metadata": {},
   "source": [
    "You can also access the physical type of a unit:"
   ]
  },
  {
   "cell_type": "code",
   "execution_count": 48,
   "id": "2e6f7878",
   "metadata": {},
   "outputs": [
    {
     "name": "stdout",
     "output_type": "stream",
     "text": [
      "length\n",
      "mass\n"
     ]
    }
   ],
   "source": [
    "print(u.m.physical_type)\n",
    "print(u.kg.physical_type)"
   ]
  },
  {
   "cell_type": "markdown",
   "id": "62e49163",
   "metadata": {},
   "source": [
    "Units can also have aliases:"
   ]
  },
  {
   "cell_type": "code",
   "execution_count": 49,
   "id": "f1b09066",
   "metadata": {},
   "outputs": [
    {
     "name": "stdout",
     "output_type": "stream",
     "text": [
      "['meter']\n",
      "['arcsecond']\n"
     ]
    }
   ],
   "source": [
    "print(u.m.aliases)\n",
    "print(u.arcsec.aliases)"
   ]
  },
  {
   "cell_type": "markdown",
   "id": "8b83c16c",
   "metadata": {},
   "source": [
    "By default, ``units`` uses Si and cgs units.    You can use imperial units by attaching the ``imperial`` prefix:"
   ]
  },
  {
   "cell_type": "code",
   "execution_count": 50,
   "id": "09d55957",
   "metadata": {},
   "outputs": [
    {
     "data": {
      "text/latex": [
       "$\\mathrm{inch}$"
      ],
      "text/plain": [
       "Unit(\"inch\")"
      ]
     },
     "execution_count": 50,
     "metadata": {},
     "output_type": "execute_result"
    }
   ],
   "source": [
    "#u.inch #this doesn't work\n",
    "u.imperial.inch #this works"
   ]
  },
  {
   "cell_type": "markdown",
   "id": "7c10a671",
   "metadata": {},
   "source": [
    "#### _Quantities and Units_\n",
    "\n",
    "When you use ``units`` you store a variable that has both a ``value`` and a ``unit`` (naturally).   Often, if you try to do multiplication with a variable generated from ``units`` you will get errors thrown: what you really want is the ``value`` of the unit.  Other times, you are interested in just the unit.  \n",
    "\n",
    "To return these properties ...\n",
    "\n",
    "Value -   type **`<variable name>.value`**\n",
    "\n",
    "Unit -    type **`<variable name>.unit`**\n",
    "\n",
    "E.g."
   ]
  },
  {
   "cell_type": "code",
   "execution_count": 51,
   "id": "249e9a92",
   "metadata": {},
   "outputs": [
    {
     "name": "stdout",
     "output_type": "stream",
     "text": [
      "84.5\n",
      "1.9268567089496924\n",
      "AU\n"
     ]
    }
   ],
   "source": [
    "r_planet=16.9*u.au\n",
    "\n",
    "r_planet_val=r_planet.value\n",
    "print(r_planet_val*5)\n",
    "print(np.log10(r_planet_val*5))\n",
    "\n",
    "r_planet_unit=r_planet.unit\n",
    "print(r_planet_unit)"
   ]
  },
  {
   "cell_type": "markdown",
   "id": "00ef3724",
   "metadata": {},
   "source": [
    "#### _Unit Conversions_\n",
    "\n",
    "This is where ``units`` becomes the most useful, in my opinion.   \n",
    "\n",
    "To convert units you add the property ``.to(unit.[unitname])``\n",
    "\n",
    "E.g."
   ]
  },
  {
   "cell_type": "code",
   "execution_count": 52,
   "id": "efc2d078",
   "metadata": {},
   "outputs": [
    {
     "name": "stdout",
     "output_type": "stream",
     "text": [
      "2528204014.8299994 km\n"
     ]
    }
   ],
   "source": [
    "r_planet=16.9*u.au\n",
    "\n",
    "r_planet_km=r_planet.to(u.km)\n",
    "print(r_planet_km)\n",
    "\n",
    "#confirm manually\n",
    "#16.9x 1.496e8 = 2.582e9"
   ]
  },
  {
   "cell_type": "markdown",
   "id": "5a7805ee",
   "metadata": {},
   "source": [
    "### Examples\n",
    "\n",
    "1. Galaxy mass\n",
    "\n",
    "In this first example, we will use ``Quantity`` objects to estimate a hypothetical galaxy's mass, given its half-light radius and radial velocities of stars in the galaxy.\n",
    "\n",
    "Let's assume that we measured the half-light radius of the galaxy to be 29 pc projected on the sky at the distance of the galaxy. This radius is often called the \"effective radius\", so we'll store it as a ``Quantity`` object with the name ``R_eff``. \n",
    "\n",
    "We can create a Quantity object by multiplying the value with its unit. Units are accessed as u.\"unit\", in this case u.pc."
   ]
  },
  {
   "cell_type": "code",
   "execution_count": 53,
   "id": "485c168b",
   "metadata": {},
   "outputs": [
    {
     "name": "stdout",
     "output_type": "stream",
     "text": [
      "the value is 29.0\n",
      "the unit is pc\n"
     ]
    }
   ],
   "source": [
    "R_eff=29*u.pc\n",
    "print(\"the value is\",R_eff.value)\n",
    "print(\"the unit is\",R_eff.unit)"
   ]
  },
  {
   "cell_type": "markdown",
   "id": "82cfd8fc",
   "metadata": {},
   "source": [
    "Note, this is a sleek way of creating quantity objects.  The more verbose way is"
   ]
  },
  {
   "cell_type": "code",
   "execution_count": 54,
   "id": "c2a05557",
   "metadata": {},
   "outputs": [],
   "source": [
    "R_eff=u.Quantity(29,unit=u.pc)"
   ]
  },
  {
   "cell_type": "markdown",
   "id": "d36e7f9d",
   "metadata": {},
   "source": [
    "Now, you can access both the value and unit of a ``Quantity`` using the ``value`` and ``unit`` attributes.  E.g."
   ]
  },
  {
   "cell_type": "code",
   "execution_count": 55,
   "id": "88dadbee",
   "metadata": {},
   "outputs": [
    {
     "name": "stdout",
     "output_type": "stream",
     "text": [
      "Half light radius\n",
      "value: 29.0\n",
      "unit: pc\n",
      "The Half light radius value is 29.0 and unit is pc\n"
     ]
    }
   ],
   "source": [
    "\n",
    "print(\"\"\"Half light radius\n",
    "value: {0}\n",
    "unit: {1}\"\"\".format(R_eff.value, R_eff.unit))\n",
    "#prints out...\n",
    "#Half light radius\n",
    "#value:29.0\n",
    "#unit: pc\n",
    "\n",
    "#slightly less elegant way...\n",
    "print(\"The Half light radius value is {0:.1f} and unit is {1:s}\".format(R_eff.value,R_eff.unit))\n",
    "#prints out ...\n",
    "#The Half light radius value is 29.0 and unit is pc\n"
   ]
  },
  {
   "cell_type": "markdown",
   "id": "b3eb2dfb",
   "metadata": {},
   "source": [
    "The half-light radius is in parsecs.  We can convert this to any other length unit.  E.g."
   ]
  },
  {
   "cell_type": "code",
   "execution_count": 56,
   "id": "03c787db",
   "metadata": {},
   "outputs": [
    {
     "name": "stdout",
     "output_type": "stream",
     "text": [
      "8.95e+17 m\n",
      "94.6 lyr\n",
      "8.95e+23 um\n"
     ]
    }
   ],
   "source": [
    "\n",
    "print(\"{0:.3g}\".format(R_eff.to(u.m))) # meters\n",
    "#8.95e+17 m\n",
    "print(\"{0:.3g}\".format(R_eff.to(u.lyr))) # light-years\n",
    "#94.6 lyr\n",
    "print(\"{0:.3g}\".format(R_eff.to(u.um))) # microns\n",
    "#8.95e+23 um\n"
   ]
  },
  {
   "cell_type": "markdown",
   "id": "0262db6b",
   "metadata": {},
   "source": [
    "Next, we'll first create a synthetic dataset of radial velocity measurements, assuming a normal distribution with a mean velocity of 206 km/s and a velocity dispersion of 4.3 km/s."
   ]
  },
  {
   "cell_type": "code",
   "execution_count": 57,
   "id": "f47f9c5d",
   "metadata": {},
   "outputs": [],
   "source": [
    "vmean = 206\n",
    "sigin = 4.3\n",
    "v = np.random.normal(vmean, sigin, 500)*u.km/u.s"
   ]
  },
  {
   "cell_type": "code",
   "execution_count": 58,
   "id": "b69fc268",
   "metadata": {},
   "outputs": [
    {
     "data": {
      "text/plain": [
       "(array([0.01072812, 0.00357604, 0.00715208, 0.00357604, 0.        ,\n",
       "        0.02145625, 0.00715208, 0.00715208, 0.03933645, 0.02145625,\n",
       "        0.04291249, 0.01430416, 0.05006458, 0.03218437, 0.06436874,\n",
       "        0.09297707, 0.06794478, 0.07152082, 0.11443332, 0.07152082,\n",
       "        0.09655311, 0.07152082, 0.10012915, 0.09297707, 0.09297707,\n",
       "        0.07867291, 0.07509686, 0.07509686, 0.05006458, 0.0607927 ,\n",
       "        0.04648854, 0.02503229, 0.03218437, 0.03576041, 0.02503229,\n",
       "        0.02503229, 0.01430416, 0.01430416, 0.01072812, 0.00357604,\n",
       "        0.00357604, 0.        , 0.00357604, 0.00357604, 0.        ,\n",
       "        0.        , 0.        , 0.00357604, 0.        , 0.00357604]),\n",
       " array([193.54527173, 194.10454941, 194.66382708, 195.22310476,\n",
       "        195.78238243, 196.34166011, 196.90093778, 197.46021546,\n",
       "        198.01949313, 198.57877081, 199.13804848, 199.69732616,\n",
       "        200.25660383, 200.81588151, 201.37515918, 201.93443686,\n",
       "        202.49371453, 203.05299221, 203.61226989, 204.17154756,\n",
       "        204.73082524, 205.29010291, 205.84938059, 206.40865826,\n",
       "        206.96793594, 207.52721361, 208.08649129, 208.64576896,\n",
       "        209.20504664, 209.76432431, 210.32360199, 210.88287966,\n",
       "        211.44215734, 212.00143501, 212.56071269, 213.11999036,\n",
       "        213.67926804, 214.23854571, 214.79782339, 215.35710107,\n",
       "        215.91637874, 216.47565642, 217.03493409, 217.59421177,\n",
       "        218.15348944, 218.71276712, 219.27204479, 219.83132247,\n",
       "        220.39060014, 220.94987782, 221.50915549]),\n",
       " <BarContainer object of 50 artists>)"
      ]
     },
     "execution_count": 58,
     "metadata": {},
     "output_type": "execute_result"
    },
    {
     "data": {
      "image/png": "[encoded data removed]",
      "text/plain": [
       "<Figure size 1000x800 with 1 Axes>"
      ]
     },
     "metadata": {},
     "output_type": "display_data"
    }
   ],
   "source": [
    "from matplotlib import ticker\n",
    "fig,axes=plt.subplots(figsize=(10,8))\n",
    "axes.xaxis.set_major_formatter(ticker.FormatStrFormatter('%.0f'))\n",
    "axes.yaxis.set_major_formatter(ticker.FormatStrFormatter('%.2f'))\n",
    "axes.tick_params(which='both', axis='x',direction='in')\n",
    "axes.tick_params(which='major',length=6)\n",
    "axes.tick_params(which='minor',length=3)\n",
    "axes.set_xlabel('Velocity in {0:s}'.format(v.unit),fontsize=14)\n",
    "axes.set_ylabel('Relative Number',fontsize=14)\n",
    "\n",
    "axes.hist(v.value,bins=50,density=True,color='tab:green')\n"
   ]
  },
  {
   "cell_type": "markdown",
   "id": "ba3b6c41",
   "metadata": {},
   "source": [
    "And then convert the radial-velocities to m/s"
   ]
  },
  {
   "cell_type": "code",
   "execution_count": 59,
   "id": "e8a27583",
   "metadata": {},
   "outputs": [
    {
     "name": "stdout",
     "output_type": "stream",
     "text": [
      "First 10 radial velocity measurements:\n",
      " [201.94312327 208.26955675 210.33168742 205.01193593 197.8677842\n",
      " 210.38561628 206.83721974 207.87356239 202.99171448 203.60090842] km/s \n",
      " or [201943.12327382 208269.55674675 210331.68741881 205011.93593451\n",
      " 197867.78419852 210385.6162779  206837.21974023 207873.56239415\n",
      " 202991.71447949 203600.90842073] m/s\n"
     ]
    }
   ],
   "source": [
    "#print(\"First 10 radial velocity measurements: in {0} km/s\".format(v.value[:10]))\n",
    "#print(\"First 10 radial velocity measurements: {0} {1}\".format(v[:10],v.to(u.m/u.s)[:10]))\n",
    "print(\"First 10 radial velocity measurements:\\n {0} km/s \\n or {1} m/s\".format(v.value[:10],v.to(u.m/u.s).value[:10]))\n",
    "#First 10 radial velocity measurements: [197.75728427 208.75234195 209.30692068 210.00891746 204.54189052\n",
    "# 204.62432297 211.97852361 216.22527279 208.21670381 215.05119579] [197757.28427385 208752.34194905 209306.92068342 210008.91745652\n",
    "# 204541.89052166 204624.32297168 211978.52360975 216225.27279323\n",
    "# 208216.70380613 215051.19578812] m / s\n",
    "#print(v.value[:10])"
   ]
  },
  {
   "cell_type": "markdown",
   "id": "50d15b5b",
   "metadata": {},
   "source": [
    "One can ocassionally run into issues when attempting to plot Quantity objects with matplotlib libraries. It is always possible to fix this by passing the value array (e.g., v.value) to matplotlib functions. However, calling the astropy.visualization.quantity_support() function will change the settings on your matplotlib session to better handle astropy Quantity objects:\n",
    "\n",
    "``quantity_support()``"
   ]
  },
  {
   "cell_type": "markdown",
   "id": "69cccd7a",
   "metadata": {},
   "source": [
    "Now we can plot a histogram of the velocity dataset. Note that, due to calling quantity_support, the x-axis is automatically labeled with the correct units."
   ]
  },
  {
   "cell_type": "code",
   "execution_count": 60,
   "id": "981ebc03",
   "metadata": {},
   "outputs": [
    {
     "data": {
      "image/png": "[encoded data removed]",
      "text/plain": [
       "<Figure size 1000x800 with 1 Axes>"
      ]
     },
     "metadata": {},
     "output_type": "display_data"
    }
   ],
   "source": [
    "from astropy.visualization import quantity_support\n",
    "def plot_v():\n",
    " fig,axes=plt.subplots(figsize=(10,8))\n",
    " quantity_support()\n",
    "\n",
    " axes.tick_params(which='both', axis='x',direction='in')\n",
    " axes.tick_params(which='major',length=6)\n",
    " axes.tick_params(which='minor',length=3)\n",
    " axes.set_ylabel('Relative Number',fontsize=14)\n",
    " axes.hist(v,bins='auto',histtype='step')\n",
    " #plt.show()\n",
    "\n",
    "plot_v()"
   ]
  },
  {
   "cell_type": "markdown",
   "id": "9b5b708b",
   "metadata": {},
   "source": [
    "\n",
    "\n",
    "Now we can calculate the velocity dispersion of the galaxy. This demonstrates how you can perform basic operations like subtraction and division with Quantity objects, and also use them in standard numpy functions such as mean() and size(). They retain their units through these operations just as you would expect them to."
   ]
  },
  {
   "cell_type": "code",
   "execution_count": 61,
   "id": "d8868283",
   "metadata": {},
   "outputs": [
    {
     "name": "stdout",
     "output_type": "stream",
     "text": [
      "Velocity dispersion: 4.40 km / s\n"
     ]
    }
   ],
   "source": [
    "\n",
    "sigma = np.sqrt(np.sum((v - np.mean(v))**2) / np.size(v))\n",
    "print(\"Velocity dispersion: {0:.2f}\".format(sigma))\n",
    "#Velocity dispersion: 4.27 km / s\n"
   ]
  },
  {
   "cell_type": "markdown",
   "id": "9606574c",
   "metadata": {},
   "source": [
    "Note how we needed to use numpy square root function, because the resulting velocity dispersion quantity is a numpy array. If we used the python standard math library's sqrt function instead, we get an error."
   ]
  },
  {
   "cell_type": "code",
   "execution_count": 62,
   "id": "d15abfec",
   "metadata": {},
   "outputs": [
    {
     "name": "stdout",
     "output_type": "stream",
     "text": [
      "4.395498035701382 km / s\n"
     ]
    }
   ],
   "source": [
    "sigma_scalar = np.sqrt(np.sum((v - np.mean(v))**2) / len(v))\n",
    "print(sigma_scalar)"
   ]
  },
  {
   "cell_type": "markdown",
   "id": "f6c208c4",
   "metadata": {},
   "source": [
    "In general, you should only use numpy functions with Quantity objects, not the math equivalents, unless you are sure you understand the consequences.\n",
    "\n",
    "Now for the actual mass calculation. If a galaxy is pressure-supported (for example, an elliptical or dwarf spheroidal galaxy), its mass within the stellar extent can be estimated using a straightforward formula: M1/2=4σ2Reff/G\n",
    ". There are caveats to the use of this formula for science -- see Wolf et al. 2010 for details. For demonstrating Quantity, you can accept that this is often good enough. For the calculation, we can multiply the quantities together, and astropy will keep track of the units."
   ]
  },
  {
   "cell_type": "code",
   "execution_count": 63,
   "id": "3932f040",
   "metadata": {},
   "outputs": [
    {
     "name": "stdout",
     "output_type": "stream",
     "text": [
      "33579053172544.63 km2 kg pc / m3\n"
     ]
    }
   ],
   "source": [
    "\n",
    "M = 4*sigma**2*R_eff/G\n",
    "print(M)\n",
    "#30300318360313.01 kg km2 pc / m3\n"
   ]
  },
  {
   "cell_type": "markdown",
   "id": "aed8e987",
   "metadata": {},
   "source": [
    "The result is in a composite unit, so it's not really obvious it's a mass. However, it can be decomposed to cancel all of the length units (km2pc/m3) using the decompose() method."
   ]
  },
  {
   "cell_type": "code",
   "execution_count": 64,
   "id": "6934881a",
   "metadata": {},
   "outputs": [
    {
     "data": {
      "text/latex": [
       "$1.0361413 \\times 10^{36} \\; \\mathrm{kg}$"
      ],
      "text/plain": [
       "<Quantity 1.03614132e+36 kg>"
      ]
     },
     "execution_count": 64,
     "metadata": {},
     "output_type": "execute_result"
    }
   ],
   "source": [
    "M.decompose()\n",
    "#9.349701307646912e+35 kg"
   ]
  },
  {
   "cell_type": "markdown",
   "id": "d3ce56b9",
   "metadata": {},
   "source": [
    "We can also easily express the mass in whatever form you like -- solar masses are common in astronomy, or maybe you want the default SI and CGS units."
   ]
  },
  {
   "cell_type": "code",
   "execution_count": 65,
   "id": "4818cc41",
   "metadata": {},
   "outputs": [
    {
     "name": "stdout",
     "output_type": "stream",
     "text": [
      "Galaxy mass\n",
      "in solar units: 5.21e+05 solMass\n",
      "SI units: 1.04e+36 kg\n",
      "CGS units: 1.04e+39 g\n"
     ]
    }
   ],
   "source": [
    "\n",
    "print(\"\"\"Galaxy mass\n",
    "in solar units: {0:.3g}\n",
    "SI units: {1:.3g}\n",
    "CGS units: {2:.3g}\"\"\".format(M.to(u.Msun), M.si, M.cgs))\n",
    "\n",
    "#Galaxy mass\n",
    "# in solar units: 4.98e+05 solMass\n",
    "# SI units: 9.9e+35 kg\n",
    "# CGS units: 9.9e+38 g\n"
   ]
  },
  {
   "cell_type": "markdown",
   "id": "453b6498",
   "metadata": {},
   "source": [
    "Or, if you want the log of the mass, you can just use np.log10 as long as the logarithm's argument is dimensionless."
   ]
  },
  {
   "cell_type": "code",
   "execution_count": 66,
   "id": "d2b8b9ab",
   "metadata": {},
   "outputs": [
    {
     "name": "stdout",
     "output_type": "stream",
     "text": [
      "13.526068446187484\n",
      "5.71691308104895\n"
     ]
    }
   ],
   "source": [
    "\n",
    "print(np.log10(M.value))\n",
    "#13.488440727046973\n",
    "print(np.log10(M.to_value(u.Msun)))\n",
    "#5.668423518011041\n"
   ]
  },
  {
   "cell_type": "markdown",
   "id": "42ec0791",
   "metadata": {},
   "source": [
    "However, you can't take the log of something with units, as that is not mathematically sensible. So ``np.log10(M)`` will trigger an error."
   ]
  },
  {
   "cell_type": "markdown",
   "id": "081b2499",
   "metadata": {},
   "source": [
    "### Astropy Coordinates\n",
    "\n",
    "[note: as in the prior section, the official documentation/tutorials on astropy for _coordinates_ is really good.  So much of the discussion will basically copy that].\n",
    "\n",
    "The _**coordinates**_ package provides classes for representing a variety of celestial/spatial coordinates and their velocity components, as well as tools for converting between common coordinate systems in a uniform way.\n",
    "\n",
    "#### _SkyCoord_\n",
    "\n",
    "The best way to start using coordinates is to use the SkyCoord class. SkyCoord objects are instantiated by passing in positions (and optional velocities) with specified units and a coordinate frame. Sky positions are commonly passed in as Quantity objects and the frame is specified with the string name.\n",
    "\n",
    "To create a SkyCoord object to represent an ICRS (Right ascension [RA], Declination [Dec]) sky position, the major import command is ``from astropy.coordinates import SkyCoord``.  Below are two simple demonstrations:"
   ]
  },
  {
   "cell_type": "code",
   "execution_count": 67,
   "id": "3a2ff7dc",
   "metadata": {},
   "outputs": [
    {
     "name": "stdout",
     "output_type": "stream",
     "text": [
      "<SkyCoord (ICRS): (ra, dec) in deg\n",
      "    (10.625, 41.2)>\n",
      "<SkyCoord (ICRS): (ra, dec) in deg\n",
      "    (10.625, 41.2)>\n"
     ]
    },
    {
     "data": {
      "text/latex": [
       "$41^\\circ12{}^\\prime00{}^{\\prime\\prime}$"
      ],
      "text/plain": [
       "<Latitude 41.2 deg>"
      ]
     },
     "execution_count": 67,
     "metadata": {},
     "output_type": "execute_result"
    }
   ],
   "source": [
    "\n",
    "import astropy.units as u\n",
    "from astropy.coordinates import SkyCoord\n",
    "c1 = SkyCoord('00h42m30s', '+41d12m00s', frame='icrs')\n",
    "c2 = SkyCoord(ra=10.625*u.degree, dec=41.2*u.degree, frame='icrs')\n",
    "\n",
    "print(c1)\n",
    "print(c2)\n",
    "\n",
    "c1.ra\n",
    "c1.dec"
   ]
  },
  {
   "cell_type": "markdown",
   "id": "2c4e0c3e",
   "metadata": {},
   "source": [
    "Note that in the first case, you do not need to multiply by u.[unit], as AstroPy interprets the two strings directly.   Similarly, writing coordinate strings in degrees:minutes:seconds works.   E.g. ``SkyCoord('00d42m30s', '+41d12m00s', frame='icrs')``.  Angle units must be specified for all components, either by passing in a Quantity object (e.g., ``10.5*u.degree``), by including them in the value (e.g., ``'+41d12m00s'``), or via the ``unit`` keyword.\n",
    "\n",
    "The right ascension and declination for the object c can then be accessed as a property of c: e.g. ``c.ra`` or ``c.dec``.  \n",
    "\n",
    "SkyCoord and all other coordinates objects also support array coordinates. These work in the same way as single-value coordinates, but they store multiple coordinates in a single object. When you are going to apply the same operation to many different coordinates (say, from a catalog), this is a better choice than a list of SkyCoord objects, because it will be much faster than applying the operation to each SkyCoord in a for loop. Like the underlying ndarray instances that contain the data, SkyCoord objects can be sliced, reshaped, etc., and can be used with functions like numpy.moveaxis, etc., that affect the shape:"
   ]
  },
  {
   "cell_type": "code",
   "execution_count": 68,
   "id": "d171a7bb",
   "metadata": {},
   "outputs": [
    {
     "name": "stdout",
     "output_type": "stream",
     "text": [
      "<SkyCoord (ICRS): (ra, dec) in deg\n",
      "    [(10., 41.), (11., -5.), (12., 42.), (13.,  0.)]>\n"
     ]
    },
    {
     "data": {
      "text/plain": [
       "<SkyCoord (ICRS): (ra, dec) in deg\n",
       "    [[(10., 41.), (11., -5.)],\n",
       "     [(12., 42.), (13.,  0.)]]>"
      ]
     },
     "execution_count": 68,
     "metadata": {},
     "output_type": "execute_result"
    }
   ],
   "source": [
    "\n",
    "c = SkyCoord(ra=[10, 11, 12, 13]*u.degree, dec=[41, -5, 42, 0]*u.degree)\n",
    "print(c)\n",
    "#<SkyCoord (ICRS): (ra, dec) in deg\n",
    "#    [(10., 41.), (11., -5.), (12., 42.), (13.,  0.)]>\n",
    "c[0]\n",
    "##<SkyCoord (ICRS): (ra, dec) in deg\n",
    "#    (11., -5.)>\n",
    "c.reshape(2, 2)\n",
    "#<SkyCoord (ICRS): (ra, dec) in deg\n",
    "#    [[(10., 41.), (11., -5.)],\n",
    "#     [(12., 42.), (13.,  0.)]]>\n",
    "#np.roll(c, 1)\n",
    "#<SkyCoord (ICRS): (ra, dec) in deg\n",
    "#    [(13.,  0.), (10., 41.), (11., -5.), (12., 42.)]>\n"
   ]
  },
  {
   "cell_type": "markdown",
   "id": "4539ba2d",
   "metadata": {},
   "source": [
    "SkyCoord also works with named variables.   E.g. listing the HMSDMS coordinates for several stars as tuples and then reading them into SkyCoord."
   ]
  },
  {
   "cell_type": "markdown",
   "id": "e46bbd1a",
   "metadata": {},
   "source": [
    "#### _Coordinate Access_\n",
    "\n",
    "Once you have a coordinate object you can access the components of that coordinate (e.g., RA, Dec) to get string representations of the full coordinate.\n",
    "\n",
    "The component values are accessed using (typically lowercase) named attributes that depend on the coordinate frame (e.g., ICRS, Galactic, etc.). For the default, ICRS, the coordinate component names are ra and dec.   you can further list attributes of attributes to get combinations of coordinates."
   ]
  },
  {
   "cell_type": "code",
   "execution_count": 69,
   "id": "6c8b58c5",
   "metadata": {},
   "outputs": [
    {
     "name": "stdout",
     "output_type": "stream",
     "text": [
      "10d41m04.488s\n",
      "0.7123053333333335\n",
      "hms_tuple(h=0.0, m=42.0, s=44.299200000000525)\n",
      "41.26917\n",
      "0.7202828960652683\n"
     ]
    }
   ],
   "source": [
    "\n",
    "c = SkyCoord(ra=10.68458*u.degree, dec=41.26917*u.degree)\n",
    "print(c.ra)\n",
    "#<Longitude 10.68458 deg>\n",
    "print(c.ra.hour )\n",
    "\n",
    "#0.7123053333333335\n",
    "\n",
    "print(c.ra.hms  )\n",
    "#hms_tuple(h=0.0, m=42.0, s=44.299200000000525)\n",
    "\n",
    "print(c.dec.degree  )\n",
    "#41.26917\n",
    "\n",
    "print(c.dec.radian)\n",
    "#0.7202828960652683\n"
   ]
  },
  {
   "cell_type": "markdown",
   "id": "f7e08377",
   "metadata": {},
   "source": [
    "Coordinates can be converted to strings using the ``to_string()`` method:"
   ]
  },
  {
   "cell_type": "code",
   "execution_count": 70,
   "id": "17e2a9d1",
   "metadata": {},
   "outputs": [
    {
     "name": "stdout",
     "output_type": "stream",
     "text": [
      "10.6846 41.2692\n",
      "10d41m04.488s 41d16m09.012s\n",
      "00h42m44.2992s +41d16m09.012s\n"
     ]
    }
   ],
   "source": [
    "\n",
    "print(c.to_string('decimal'))\n",
    "#'10.6846 41.2692'\n",
    "print(c.to_string('dms'))\n",
    "#'10d41m04.488s 41d16m09.012s'\n",
    "\n",
    "print(c.to_string('hmsdms'))\n",
    "#00h42m44.2992s +41d16m09.012s\n"
   ]
  },
  {
   "cell_type": "markdown",
   "id": "6e9350f2",
   "metadata": {},
   "source": [
    "#### _Transformation_\n",
    "\n",
    "One convenient way to transform to a new coordinate frame is by accessing the appropriately named attribute.\n",
    "\n",
    "To get the coordinate in the Galactic frame use:"
   ]
  },
  {
   "cell_type": "code",
   "execution_count": 71,
   "id": "b7fc8a86",
   "metadata": {},
   "outputs": [
    {
     "name": "stdout",
     "output_type": "stream",
     "text": [
      "<SkyCoord (Galactic): (l, b) in deg\n",
      "    (121.17424181, -21.57288557)>\n"
     ]
    }
   ],
   "source": [
    "\n",
    "c_icrs = SkyCoord(ra=10.68458*u.degree, dec=41.26917*u.degree, frame='icrs')\n",
    "print(c_icrs.galactic  )\n",
    "#<SkyCoord (Galactic): (l, b) in deg\n",
    "#   (121.17424181, -21.57288557)>\n"
   ]
  },
  {
   "cell_type": "markdown",
   "id": "4023f53a",
   "metadata": {},
   "source": [
    "For more control, you can use the transform_to method, which accepts a frame name, frame class, or frame instance:\n",
    "\n",
    "    "
   ]
  },
  {
   "cell_type": "code",
   "execution_count": 72,
   "id": "e9be7412",
   "metadata": {},
   "outputs": [
    {
     "name": "stdout",
     "output_type": "stream",
     "text": [
      "<SkyCoord (FK5: equinox=J2000.000): (ra, dec) in deg\n",
      "    (10.68459154, 41.26917146)>\n"
     ]
    },
    {
     "data": {
      "text/plain": [
       "<SkyCoord (FK5: equinox=J2010.000): (ra, dec) in deg\n",
       "    (10.82183569, 41.32386454)>"
      ]
     },
     "execution_count": 72,
     "metadata": {},
     "output_type": "execute_result"
    }
   ],
   "source": [
    "\n",
    "c_fk5 = c_icrs.transform_to('fk5')\n",
    "#<SkyCoord (FK5: equinox=J2000.000): (ra, dec) in deg\n",
    "#    (10.68459154, 41.26917146)>\n",
    "print(c_fk5)\n",
    "from astropy.coordinates import FK5\n",
    "c_fk5.transform_to(FK5(equinox='J2010')) \n",
    "#<SkyCoord (FK5: equinox=J1975.000): (ra, dec) in deg\n",
    "#    (10.34209135, 41.13232112)>\n"
   ]
  },
  {
   "cell_type": "markdown",
   "id": "2ba5d4b5",
   "metadata": {},
   "source": [
    "This form of transform_to also makes it possible to convert from celestial coordinates to AltAz coordinates, allowing the use of SkyCoord as a tool for planning observations. For a more complete example of this, see Determining and plotting the altitude/azimuth of a celestial object."
   ]
  },
  {
   "cell_type": "markdown",
   "id": "b5f92da5",
   "metadata": {},
   "source": [
    "#### _Representation_\n",
    "\n",
    "So far we have been using a spherical coordinate representation in all of our examples, and this is the default for the built-in frames. Frequently it is convenient to initialize or work with a coordinate using a different representation such as Cartesian or Cylindrical. This can be done by setting the representation_type for either SkyCoord objects or low-level frame coordinate objects.\n",
    "\n",
    "To initialize or work with a coordinate using a different representation such as Cartesian or Cylindrical:\n",
    "\n",
    "    "
   ]
  },
  {
   "cell_type": "code",
   "execution_count": 73,
   "id": "05c67c9b",
   "metadata": {},
   "outputs": [
    {
     "name": "stdout",
     "output_type": "stream",
     "text": [
      "1.0 kpc 2.0 kpc 3.0 kpc\n",
      "<SkyCoord (ICRS): (rho, phi, z) in (kpc, deg, kpc)\n",
      "    (2.23606798, 63.43494882, 3.)>\n"
     ]
    }
   ],
   "source": [
    "\n",
    "c = SkyCoord(x=1, y=2, z=3, unit='kpc', representation_type='cartesian')\n",
    "print(c.x, c.y, c.z )\n",
    "#(<Quantity 1. kpc>, <Quantity 2. kpc>, <Quantity 3. kpc>)\n",
    "\n",
    "c.representation_type = 'cylindrical'\n",
    "print(c)\n",
    "#<SkyCoord (ICRS): (rho, phi, z) in (kpc, deg, kpc)\n",
    "#   (2.23606798, 63.43494882, 3.)>\n",
    "\n"
   ]
  },
  {
   "cell_type": "markdown",
   "id": "fc472947",
   "metadata": {},
   "source": [
    "#### _Distance_\n",
    "\n",
    "SkyCoord and the individual frame classes also support specifying a distance from the frame origin. The origin depends on the particular coordinate frame; this can be, for example, centered on the earth, centered on the solar system barycenter, etc.\n",
    "\n",
    "Two angles and a distance specify a unique point in 3D space, which also allows converting the coordinates to a Cartesian representation:\n",
    "\n",
    "    "
   ]
  },
  {
   "cell_type": "code",
   "execution_count": 74,
   "id": "0ceb2934",
   "metadata": {},
   "outputs": [
    {
     "name": "stdout",
     "output_type": "stream",
     "text": [
      "568.7128654235231 kpc\n",
      "107.3008974042025 kpc\n",
      "507.88994291875713 kpc\n"
     ]
    }
   ],
   "source": [
    "\n",
    " c = SkyCoord(ra=10.68458*u.degree, dec=41.26917*u.degree, distance=770*u.kpc)\n",
    "\n",
    " c.ra\n",
    " c.dec\n",
    " print(c.cartesian.x  )\n",
    " #<Quantity 568.71286542 kpc>\n",
    "\n",
    " print(c.cartesian.y)\n",
    " #<Quantity 107.3008974 kpc>\n",
    "\n",
    " print(c.cartesian.z  )\n",
    " #<Quantity 507.88994292 kpc>\n"
   ]
  },
  {
   "cell_type": "markdown",
   "id": "a7f5b8e6",
   "metadata": {},
   "source": [
    "With distances assigned, SkyCoord convenience methods are more powerful, as they can make use of the 3D information. For example, to compute the physical, 3D separation between two points in space:\n",
    "\n",
    "    "
   ]
  },
  {
   "cell_type": "code",
   "execution_count": 75,
   "id": "2ccef412",
   "metadata": {},
   "outputs": [
    {
     "name": "stdout",
     "output_type": "stream",
     "text": [
      "1.5228602415117987 pc\n"
     ]
    }
   ],
   "source": [
    "\n",
    "c1 = SkyCoord(ra=10*u.degree, dec=9*u.degree, distance=10*u.pc, frame='icrs')\n",
    "c2 = SkyCoord(ra=11*u.degree, dec=10*u.degree, distance=11.5*u.pc, frame='icrs')\n",
    " \n",
    "angsep=c1.separation_3d(c2)\n",
    "print(angsep)\n"
   ]
  },
  {
   "cell_type": "markdown",
   "id": "2ecc9a69",
   "metadata": {},
   "source": [
    "SkyCoord defines a number of convenience methods that support, for example, computing on-sky (i.e., angular) and 3D separations between two coordinates.\n",
    "\n",
    "To compute on-sky and 3D separations between two coordinates, even when the units are different:"
   ]
  },
  {
   "cell_type": "code",
   "execution_count": 76,
   "id": "2c0bf726",
   "metadata": {},
   "outputs": [
    {
     "name": "stdout",
     "output_type": "stream",
     "text": [
      "1.4045335865905932\n"
     ]
    }
   ],
   "source": [
    "\n",
    "c1 = SkyCoord(ra=10*u.degree, dec=9*u.degree, frame='icrs')\n",
    "\n",
    "c2 = SkyCoord(ra=11*u.degree, dec=10*u.degree, frame='fk5')\n",
    "\n",
    "sep=c1.separation(c2)  # Differing frames handled correctly  \n",
    "print(sep.deg)\n",
    "#<Angle 1.40453359 deg>\n"
   ]
  },
  {
   "cell_type": "markdown",
   "id": "e81441ae",
   "metadata": {},
   "source": [
    "#### _Quick Target Querying_\n",
    "\n",
    "The astropy.coordinates sub-package also provides a quick way to get coordinates for named objects, assuming you have an active internet connection. The from_name method of SkyCoord uses Sesame -- [https://cds.unistra.fr/cgi-bin/Sesame]() -- to retrieve coordinates for a particular named object.\n",
    "\n",
    "To retrieve coordinates for a particular named object:\n",
    "\n",
    "    "
   ]
  },
  {
   "cell_type": "code",
   "execution_count": 77,
   "id": "20cfc548",
   "metadata": {},
   "outputs": [
    {
     "data": {
      "text/plain": [
       "<SkyCoord (ICRS): (ra, dec) in deg\n",
       "    (303.63346814, 36.80630581)>"
      ]
     },
     "execution_count": 77,
     "metadata": {},
     "output_type": "execute_result"
    }
   ],
   "source": [
    "\n",
    "SkyCoord.from_name(\"HIP 99770\")\n",
    "#<SkyCoord (ICRS): (ra, dec) in deg\n",
    "#    (346.86964884, 21.13425299)>\n"
   ]
  },
  {
   "cell_type": "markdown",
   "id": "e275535a",
   "metadata": {},
   "source": [
    "Note that this method is rather simple, not allowing for complex querying.  To obtain a wide range of information about targets from querying public databases, we will turn to _**astroquery**_."
   ]
  },
  {
   "cell_type": "code",
   "execution_count": null,
   "id": "e80b9324",
   "metadata": {},
   "outputs": [],
   "source": []
  }
 ],
 "metadata": {
  "kernelspec": {
   "display_name": "Python 3 (ipykernel)",
   "language": "python",
   "name": "python3"
  },
  "language_info": {
   "codemirror_mode": {
    "name": "ipython",
    "version": 3
   },
   "file_extension": ".py",
   "mimetype": "text/x-python",
   "name": "python",
   "nbconvert_exporter": "python",
   "pygments_lexer": "ipython3",
   "version": "3.12.4"
  }
 },
 "nbformat": 4,
 "nbformat_minor": 5
}
