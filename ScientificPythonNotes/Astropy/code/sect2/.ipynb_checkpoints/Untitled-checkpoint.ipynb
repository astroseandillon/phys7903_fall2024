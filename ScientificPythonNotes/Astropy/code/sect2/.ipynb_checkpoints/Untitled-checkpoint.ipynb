{
 "cells": [
  {
   "cell_type": "code",
   "execution_count": 4,
   "id": "d61483ce",
   "metadata": {},
   "outputs": [],
   "source": [
    "import matplotlib.pyplot as plt\n",
    "import numpy as np\n",
    "%matplotlib inline"
   ]
  },
  {
   "cell_type": "code",
   "execution_count": 5,
   "id": "5bf1234f",
   "metadata": {},
   "outputs": [],
   "source": [
    "from astropy.io import ascii"
   ]
  },
  {
   "cell_type": "code",
   "execution_count": 125,
   "id": "c72903ec",
   "metadata": {},
   "outputs": [],
   "source": [
    "infile0='imaged_planets_v6.csv'\n",
    "directory='./files/'\n",
    "def readinplanetfile(infile=infile0):\n",
    "    \n",
    "    data=ascii.read(directory+infile0)\n",
    "    #print(data[0:5])\n",
    "   # print(data['pl_name'][10:30])\n",
    "    \n",
    "readinplanetfile()\n",
    "    \n",
    "    "
   ]
  },
  {
   "cell_type": "code",
   "execution_count": 35,
   "id": "f10faf11",
   "metadata": {},
   "outputs": [
    {
     "name": "stdout",
     "output_type": "stream",
     "text": [
      "          pl_name                     hostname         sy_snum sy_pnum discoverymethod ... sy_kmagerr2 sy_gaiamag sy_gaiamagerr1 sy_gaiamagerr2\n",
      "---------------------------- ------------------------- ------- ------- --------------- ... ----------- ---------- -------------- --------------\n",
      "     1RXS J160929.1-210524 b     1RXS J160929.1-210524       1       1         Imaging ...      -0.021    12.0572       0.002275      -0.002275\n",
      "2MASS J01033563-5515561 AB b 2MASS J01033563-5515561 A       2       1         Imaging ...      -0.022         --             --             --\n"
     ]
    }
   ],
   "source": [
    "def readinplanetfile2(infile=infile0):\n",
    "    \n",
    "    data=ascii.read(directory+infile0,delimiter=',')\n",
    "    #print(repr((data[0:2])[0])\n",
    "    print(data[0:2])\n",
    "    \n",
    "readinplanetfile2(infile='imaged_planets_v6.txt')"
   ]
  },
  {
   "cell_type": "code",
   "execution_count": 53,
   "id": "8cc888da",
   "metadata": {},
   "outputs": [],
   "source": [
    "data=ascii.read(directory+'startable.tex')\n",
    "#see what happens when you do this ...\n",
    "#data=ascii.read(directory+'startable.tex',format='csv')"
   ]
  },
  {
   "cell_type": "code",
   "execution_count": 54,
   "id": "7ea2b01f",
   "metadata": {},
   "outputs": [
    {
     "data": {
      "text/html": [
       "<div><i>Table length=5</i>\n",
       "<table id=\"table4692952928\" class=\"table-striped table-bordered table-condensed\">\n",
       "<thead><tr><th>Name</th><th>RA</th><th>DEC</th><th>V</th><th>H</th></tr></thead>\n",
       "<thead><tr><th>str8</th><th>str10</th><th>str10</th><th>float64</th><th>float64</th></tr></thead>\n",
       "<tr><td>HIP950</td><td>0:11:44.16</td><td>-35:07:58.</td><td>5.239</td><td>4.159</td></tr>\n",
       "<tr><td>HIP5661</td><td>1:12:45.6</td><td>-37:51:25.</td><td>5.934</td><td>5.288</td></tr>\n",
       "<tr><td>HIP6748</td><td>1:26:51.6</td><td>-13:03:21.</td><td>5.505</td><td>4.831</td></tr>\n",
       "<tr><td>HIP7447</td><td>1:35:54.96</td><td>17:26:02.4</td><td>-99.0</td><td>5.364</td></tr>\n",
       "<tr><td>HIP9977</td><td>2:08:29.52</td><td>37:51:32.4</td><td>4.82</td><td>4.571</td></tr>\n",
       "</table></div>"
      ],
      "text/plain": [
       "<Table length=5>\n",
       "  Name      RA        DEC        V       H   \n",
       "  str8    str10      str10    float64 float64\n",
       "------- ---------- ---------- ------- -------\n",
       " HIP950 0:11:44.16 -35:07:58.   5.239   4.159\n",
       "HIP5661  1:12:45.6 -37:51:25.   5.934   5.288\n",
       "HIP6748  1:26:51.6 -13:03:21.   5.505   4.831\n",
       "HIP7447 1:35:54.96 17:26:02.4   -99.0   5.364\n",
       "HIP9977 2:08:29.52 37:51:32.4    4.82   4.571"
      ]
     },
     "execution_count": 54,
     "metadata": {},
     "output_type": "execute_result"
    }
   ],
   "source": [
    "data[0:5]"
   ]
  },
  {
   "cell_type": "code",
   "execution_count": 55,
   "id": "4cbeefd1",
   "metadata": {},
   "outputs": [],
   "source": [
    "#ipac table\n",
    "\n",
    "data=ascii.read(directory+'wise_allwise_hip99770.tbl',format='ipac')"
   ]
  },
  {
   "cell_type": "code",
   "execution_count": 75,
   "id": "08ca0cc0",
   "metadata": {},
   "outputs": [
    {
     "data": {
      "text/html": [
       "&lt;Column name=&apos;ra&apos; dtype=&apos;float64&apos; unit=&apos;deg&apos; length=2&gt;\n",
       "<table>\n",
       "<tr><td>303.6336262</td></tr>\n",
       "<tr><td>303.6401617</td></tr>\n",
       "</table>"
      ],
      "text/plain": [
       "<Column name='ra' dtype='float64' unit='deg' length=2>\n",
       "303.6336262\n",
       "303.6401617"
      ]
     },
     "execution_count": 75,
     "metadata": {},
     "output_type": "execute_result"
    }
   ],
   "source": [
    "data[0:2]['ra']"
   ]
  },
  {
   "cell_type": "code",
   "execution_count": 84,
   "id": "555a124c",
   "metadata": {},
   "outputs": [],
   "source": [
    "# mrt table\n",
    "data=ascii.read(directory+'mgmembers.txt',format='mrt')\n",
    "\n"
   ]
  },
  {
   "cell_type": "code",
   "execution_count": 124,
   "id": "2d2b5f6e",
   "metadata": {},
   "outputs": [],
   "source": [
    "#data[0:5]\n",
    "\n",
    "#data['Assoc','SpT'][2:8]\n",
    "              "
   ]
  },
  {
   "cell_type": "code",
   "execution_count": 128,
   "id": "5fde1a2c",
   "metadata": {},
   "outputs": [],
   "source": [
    "#a simple table\n",
    "from astropy.table import Table\n",
    "\n",
    "entries=Table()\n",
    "#some fake sinusoidal data\n",
    "x = np.linspace(0, 2 * np.pi, 20)\n",
    "y= (np.linspace(0,2*np.pi,20))\n",
    "#[:,None]\n",
    "#[:,None]\n",
    "\n",
    "def f(x,y):\n",
    " return np.sin(x)+np.cos(y)\n",
    "\n",
    "X,Y=np.meshgrid(x,y)\n",
    "#print(len(f(x,y)))\n",
    "#type(f(x,y))\n",
    "#f(x,y).shape\n",
    "x.shape\n",
    "entries['x']=X.flatten()\n",
    "entries['y']=Y.flatten()\n",
    "entries['f(x,y)']=f(X,Y).flatten()\n",
    "filename='output2.dat'\n",
    "filename2='output2.csv'\n",
    "filename3='output2.tex'\n",
    "ascii.write(entries,directory+filename,overwrite=True,format='basic')\n",
    "ascii.write(entries,directory+filename2,overwrite=True,format='csv')\n",
    "ascii.write(entries,directory+filename3,overwrite=True,format='latex')"
   ]
  },
  {
   "cell_type": "code",
   "execution_count": 134,
   "id": "1549bcc2",
   "metadata": {},
   "outputs": [],
   "source": [
    "a=ascii.read(directory+'output2.dat')\n",
    "b=ascii.read(directory+'output2.csv')\n",
    "c=ascii.read(directory+'output2.tex')\n",
    "#a\n",
    "#b\n",
    "#c"
   ]
  },
  {
   "cell_type": "code",
   "execution_count": 147,
   "id": "48fc17a5",
   "metadata": {},
   "outputs": [],
   "source": [
    "#slightly different way\n",
    "\n",
    "colformat={'col0':'%.5f', 'col1':'%.5f', 'col2':'%.5f'}\n",
    "#colformat={'x':'%.5f', 'y':'%.5f', 'f(x,y)':'%.5f'}\n",
    "colnames=['x','y','f(x,y)']\n",
    "filename4='output2v2.dat'\n",
    "ascii.write([X.flatten(),Y.flatten(),f(X,Y).flatten()],\n",
    "            directory+filename4,names=colnames,formats=colformat,overwrite=True)\n"
   ]
  },
  {
   "cell_type": "code",
   "execution_count": 42,
   "id": "d94ec384",
   "metadata": {},
   "outputs": [],
   "source": [
    "#data=ascii.read('./files/leggett.txt',format='mrt')\n",
    "data=ascii.read('./files/leggett.txt')"
   ]
  },
  {
   "cell_type": "code",
   "execution_count": 43,
   "id": "78e5223c",
   "metadata": {},
   "outputs": [
    {
     "data": {
      "text/html": [
       "<div><i>Table length=20</i>\n",
       "<table id=\"table4770582576\" class=\"table-striped table-bordered table-condensed\">\n",
       "<thead><tr><th>Name</th><th>RAh</th><th>DEded</th><th>SpType</th><th>M-m</th><th>JMag</th><th>Ymag</th><th>Jmag</th><th>Hmag</th><th>Kmag</th><th>Lmag</th><th>Mmag</th><th>3.6mag</th><th>4.5mag</th><th>5.9mag</th><th>8.0mag</th><th>e_SpType</th><th>e_M-m</th><th>e_Ymag</th><th>e_Jmag</th><th>e_Kmag</th><th>e_Lmag</th><th>e_Mmag</th><th>e_3.6mag</th><th>e_4.5mag</th><th>e_5.9mag</th><th>e_8.0mag</th><th>DRef</th><th>SpRef</th><th>PiRef</th><th>YRef</th><th>JHKRef</th><th>LMRef</th><th>IRef</th><th>BinRef</th></tr></thead>\n",
       "<thead><tr><th></th><th>h</th><th>deg</th><th></th><th>mag</th><th>mag</th><th>mag</th><th>mag</th><th>mag</th><th>mag</th><th>mag</th><th>mag</th><th>mag</th><th>mag</th><th>mag</th><th>mag</th><th></th><th>mag</th><th>mag</th><th>mag</th><th>mag</th><th>mag</th><th>mag</th><th>mag</th><th>mag</th><th>mag</th><th>mag</th><th></th><th></th><th></th><th></th><th></th><th></th><th></th><th></th></tr></thead>\n",
       "<thead><tr><th>str17</th><th>float64</th><th>float64</th><th>str4</th><th>float64</th><th>float64</th><th>float64</th><th>float64</th><th>float64</th><th>float64</th><th>float64</th><th>float64</th><th>float64</th><th>float64</th><th>float64</th><th>float64</th><th>float64</th><th>float64</th><th>float64</th><th>float64</th><th>float64</th><th>float64</th><th>float64</th><th>float64</th><th>float64</th><th>float64</th><th>float64</th><th>str5</th><th>int64</th><th>str8</th><th>int64</th><th>str5</th><th>str5</th><th>int64</th><th>str5</th></tr></thead>\n",
       "<tr><td>SDSS 0000+2554</td><td>0.0037611</td><td>25.905</td><td>84.5</td><td>--</td><td>--</td><td>15.81</td><td>14.73</td><td>14.74</td><td>14.82</td><td>13.03</td><td>13.28</td><td>13.72</td><td>13.07</td><td>12.56</td><td>12.5</td><td>0.5</td><td>--</td><td>0.1</td><td>0.03</td><td>0.03</td><td>0.03</td><td>0.1</td><td>0.03</td><td>0.03</td><td>0.09</td><td>0.03</td><td>43</td><td>13</td><td>--</td><td>53</td><td>43</td><td>51</td><td>51</td><td>--</td></tr>\n",
       "<tr><td>SDSS 0001+1535</td><td>0.0200472</td><td>15.593194</td><td>74</td><td>--</td><td>--</td><td>--</td><td>15.29</td><td>14.4</td><td>13.52</td><td>--</td><td>--</td><td>--</td><td>--</td><td>--</td><td>--</td><td>0.5</td><td>--</td><td>--</td><td>0.03</td><td>0.03</td><td>--</td><td>--</td><td>--</td><td>--</td><td>--</td><td>--</td><td>43</td><td>43</td><td>--</td><td>--</td><td>43</td><td>--</td><td>--</td><td>--</td></tr>\n",
       "<tr><td>SDSS 0002+2454</td><td>0.0474917</td><td>24.903917</td><td>75.5</td><td>--</td><td>--</td><td>--</td><td>17.02</td><td>16.09</td><td>15.42</td><td>--</td><td>--</td><td>--</td><td>--</td><td>--</td><td>--</td><td>0.5</td><td>--</td><td>--</td><td>0.03</td><td>0.03</td><td>--</td><td>--</td><td>--</td><td>--</td><td>--</td><td>--</td><td>19</td><td>19</td><td>--</td><td>--</td><td>19</td><td>--</td><td>--</td><td>--</td></tr>\n",
       "<tr><td>LHS 102BC</td><td>0.0763444</td><td>-40.734944</td><td>74.5</td><td>0.1</td><td>13.16</td><td>14.32</td><td>13.06</td><td>12.14</td><td>11.36</td><td>10.41</td><td>--</td><td>10.36</td><td>10.47</td><td>10.14</td><td>10.13</td><td>0.5</td><td>0.24</td><td>0.1</td><td>0.03</td><td>0.03</td><td>0.05</td><td>--</td><td>0.03</td><td>0.03</td><td>0.03</td><td>0.03</td><td>34</td><td>43</td><td>84</td><td>37</td><td>50</td><td>50</td><td>67</td><td>34</td></tr>\n",
       "<tr><td>LHS 102A</td><td>0.076786</td><td>-40.73391</td><td>63.5</td><td>0.1</td><td>8.72</td><td>--</td><td>8.62</td><td>8.02</td><td>7.73</td><td>7.53</td><td>--</td><td>7.45</td><td>7.4</td><td>7.37</td><td>7.36</td><td>0.5</td><td>0.24</td><td>--</td><td>0.03</td><td>0.03</td><td>0.05</td><td>--</td><td>0.03</td><td>0.03</td><td>0.03</td><td>0.03</td><td>61</td><td>3</td><td>84</td><td>--</td><td>50</td><td>50</td><td>67</td><td>--</td></tr>\n",
       "<tr><td>SDSS 0016-0043</td><td>0.2690111</td><td>-0.71725</td><td>75.5</td><td>--</td><td>--</td><td>--</td><td>16.34</td><td>15.34</td><td>14.52</td><td>--</td><td>--</td><td>--</td><td>--</td><td>--</td><td>--</td><td>0.5</td><td>--</td><td>--</td><td>0.05</td><td>0.05</td><td>--</td><td>--</td><td>--</td><td>--</td><td>--</td><td>--</td><td>43</td><td>43</td><td>--</td><td>--</td><td>43</td><td>--</td><td>--</td><td>--</td></tr>\n",
       "<tr><td>BRI 0021-0214</td><td>0.4068433</td><td>-1.97226</td><td>69.5</td><td>-0.37</td><td>11.36</td><td>--</td><td>11.73</td><td>11.1</td><td>10.53</td><td>9.78</td><td>--</td><td>9.94</td><td>9.91</td><td>9.72</td><td>9.55</td><td>0.5</td><td>0.07</td><td>--</td><td>0.03</td><td>0.03</td><td>0.13</td><td>--</td><td>0.03</td><td>0.03</td><td>0.03</td><td>0.03</td><td>38</td><td>30</td><td>80,84</td><td>--</td><td>49</td><td>46</td><td>67</td><td>--</td></tr>\n",
       "<tr><td>2MASS 0028+1501</td><td>0.4776194</td><td>15.028278</td><td>73</td><td>--</td><td>--</td><td>17.9</td><td>16.49</td><td>15.48</td><td>14.54</td><td>--</td><td>--</td><td>--</td><td>--</td><td>--</td><td>--</td><td>0.5</td><td>--</td><td>0.1</td><td>0.03</td><td>0.03</td><td>--</td><td>--</td><td>--</td><td>--</td><td>--</td><td>--</td><td>42</td><td>30</td><td>--</td><td>37</td><td>43</td><td>--</td><td>--</td><td>--</td></tr>\n",
       "<tr><td>2MASS 0030-1450</td><td>0.5083694</td><td>-14.842583</td><td>77</td><td>-2.13</td><td>14.26</td><td>--</td><td>16.39</td><td>15.37</td><td>14.49</td><td>--</td><td>--</td><td>--</td><td>--</td><td>--</td><td>--</td><td>0.5</td><td>0.26</td><td>--</td><td>0.03</td><td>0.03</td><td>--</td><td>--</td><td>--</td><td>--</td><td>--</td><td>--</td><td>42</td><td>42</td><td>85</td><td>--</td><td>43</td><td>--</td><td>--</td><td>--</td></tr>\n",
       "<tr><td>SDSS 0032+1410</td><td>0.549825</td><td>14.176972</td><td>78</td><td>-2.6</td><td>13.98</td><td>17.69</td><td>16.58</td><td>15.66</td><td>14.99</td><td>13.35</td><td>--</td><td>--</td><td>--</td><td>--</td><td>--</td><td>0.5</td><td>0.37</td><td>0.1</td><td>0.05</td><td>0.05</td><td>0.05</td><td>--</td><td>--</td><td>--</td><td>--</td><td>--</td><td>30</td><td>30</td><td>85</td><td>37</td><td>49</td><td>33</td><td>--</td><td>--</td></tr>\n",
       "<tr><td>ULAS 0034-0052</td><td>0.5674167</td><td>-0.868528</td><td>89</td><td>-0.5</td><td>17.65</td><td>18.9</td><td>18.15</td><td>18.49</td><td>18.48</td><td>--</td><td>--</td><td>16.28</td><td>14.49</td><td>14.82</td><td>13.91</td><td>0.5</td><td>0.11</td><td>0.1</td><td>0.04</td><td>0.04</td><td>--</td><td>--</td><td>0.03</td><td>0.03</td><td>0.05</td><td>0.06</td><td>86</td><td>16</td><td>73</td><td>86</td><td>86</td><td>--</td><td>86</td><td>--</td></tr>\n",
       "<tr><td>2MASS 0034+0523</td><td>0.5809917</td><td>5.384722</td><td>86.5</td><td>--</td><td>--</td><td>--</td><td>15.11</td><td>15.55</td><td>15.96</td><td>13.3</td><td>12.66</td><td>--</td><td>--</td><td>--</td><td>--</td><td>0.5</td><td>--</td><td>--</td><td>0.03</td><td>0.03</td><td>0.04</td><td>0.1</td><td>--</td><td>--</td><td>--</td><td>--</td><td>11</td><td>13</td><td>--</td><td>--</td><td>19</td><td>51</td><td>--</td><td>--</td></tr>\n",
       "<tr><td>SDSS 0036+2413</td><td>0.6025694</td><td>24.228722</td><td>75.5</td><td>--</td><td>--</td><td>--</td><td>17.08</td><td>16.28</td><td>15.48</td><td>--</td><td>--</td><td>--</td><td>--</td><td>--</td><td>--</td><td>0.5</td><td>--</td><td>--</td><td>0.03</td><td>0.03</td><td>--</td><td>--</td><td>--</td><td>--</td><td>--</td><td>--</td><td>19</td><td>19</td><td>--</td><td>--</td><td>19</td><td>--</td><td>--</td><td>--</td></tr>\n",
       "<tr><td>2MASS 0036+1821</td><td>0.6044917</td><td>18.352889</td><td>74</td><td>0.29</td><td>12.59</td><td>13.77</td><td>12.3</td><td>11.64</td><td>11.04</td><td>10.08</td><td>10.35</td><td>10.19</td><td>10.24</td><td>10.1</td><td>10.06</td><td>0.5</td><td>0.02</td><td>0.1</td><td>0.03</td><td>0.03</td><td>0.05</td><td>0.07</td><td>0.03</td><td>0.03</td><td>0.03</td><td>0.03</td><td>70</td><td>30</td><td>23</td><td>37</td><td>43</td><td>49</td><td>67</td><td>--</td></tr>\n",
       "<tr><td>HD 3651B</td><td>0.6553076</td><td>21.254559</td><td>87.5</td><td>-0.22</td><td>16.09</td><td>17.22</td><td>16.31</td><td>16.72</td><td>16.86</td><td>--</td><td>--</td><td>15.38</td><td>13.62</td><td>14.04</td><td>13.45</td><td>0.5</td><td>0.02</td><td>0.1</td><td>0.03</td><td>0.03</td><td>--</td><td>--</td><td>0.04</td><td>0.02</td><td>0.12</td><td>0.14</td><td>60,65</td><td>60</td><td>26</td><td>53</td><td>56</td><td>--</td><td>60</td><td>--</td></tr>\n",
       "<tr><td>2MASS 0050-3322</td><td>0.8388722</td><td>-33.377833</td><td>87</td><td>--</td><td>--</td><td>16.85</td><td>15.65</td><td>16.04</td><td>15.91</td><td>--</td><td>--</td><td>14.82</td><td>13.57</td><td>13.32</td><td>13.0</td><td>0.5</td><td>--</td><td>0.1</td><td>0.1</td><td>0.1</td><td>--</td><td>--</td><td>0.03</td><td>0.03</td><td>0.03</td><td>0.04</td><td>82</td><td>13</td><td>--</td><td>53</td><td>53</td><td>--</td><td>53</td><td>--</td></tr>\n",
       "<tr><td>CFBDS 0059-0114</td><td>0.9863611</td><td>-1.233694</td><td>89</td><td>0.3</td><td>18.36</td><td>18.82</td><td>18.06</td><td>18.27</td><td>18.71</td><td>--</td><td>--</td><td>--</td><td>--</td><td>--</td><td>--</td><td>0.5</td><td>0.1</td><td>0.02</td><td>0.05</td><td>0.05</td><td>--</td><td>--</td><td>--</td><td>--</td><td>--</td><td>--</td><td>25</td><td>16</td><td>74</td><td>25</td><td>25,53</td><td>--</td><td>--</td><td>--</td></tr>\n",
       "<tr><td>SDSS 0107+0041</td><td>1.1312278</td><td>0.698972</td><td>75.5</td><td>-0.97</td><td>14.78</td><td>16.91</td><td>15.75</td><td>14.56</td><td>13.58</td><td>12.06</td><td>--</td><td>--</td><td>--</td><td>--</td><td>--</td><td>0.5</td><td>0.15</td><td>0.1</td><td>0.03</td><td>0.03</td><td>0.07</td><td>--</td><td>--</td><td>--</td><td>--</td><td>--</td><td>30</td><td>30</td><td>85</td><td>37</td><td>49</td><td>49</td><td>--</td><td>--</td></tr>\n",
       "<tr><td>SDSS 0119+2403</td><td>1.3200194</td><td>24.058806</td><td>82</td><td>--</td><td>--</td><td>18.08</td><td>16.86</td><td>16.46</td><td>16.26</td><td>--</td><td>--</td><td>--</td><td>--</td><td>--</td><td>--</td><td>0.5</td><td>--</td><td>0.1</td><td>0.03</td><td>0.03</td><td>--</td><td>--</td><td>--</td><td>--</td><td>--</td><td>--</td><td>19</td><td>19</td><td>--</td><td>53</td><td>19</td><td>--</td><td>--</td><td>--</td></tr>\n",
       "<tr><td>SDSS 0127+1354</td><td>1.4620889</td><td>13.905833</td><td>76</td><td>--</td><td>--</td><td>--</td><td>16.71</td><td>15.84</td><td>15.09</td><td>--</td><td>--</td><td>--</td><td>--</td><td>--</td><td>--</td><td>1.0</td><td>--</td><td>--</td><td>0.03</td><td>0.03</td><td>--</td><td>--</td><td>--</td><td>--</td><td>--</td><td>--</td><td>35</td><td>43</td><td>--</td><td>--</td><td>43</td><td>--</td><td>--</td><td>--</td></tr>\n",
       "</table></div>"
      ],
      "text/plain": [
       "<Table length=20>\n",
       "      Name         RAh      DEded    SpType   M-m     JMag    Ymag    Jmag    Hmag    Kmag    Lmag    Mmag   3.6mag  4.5mag  5.9mag  8.0mag e_SpType ...  e_Ymag  e_Jmag  e_Kmag  e_Lmag  e_Mmag e_3.6mag e_4.5mag e_5.9mag e_8.0mag  DRef SpRef PiRef  YRef JHKRef LMRef  IRef BinRef\n",
       "                    h        deg              mag     mag     mag     mag     mag     mag     mag     mag     mag     mag     mag     mag            ...   mag     mag     mag     mag     mag     mag      mag      mag      mag                                                     \n",
       "     str17       float64   float64    str4  float64 float64 float64 float64 float64 float64 float64 float64 float64 float64 float64 float64 float64  ... float64 float64 float64 float64 float64 float64  float64  float64  float64   str5 int64  str8 int64  str5   str5 int64  str5 \n",
       "--------------- --------- ---------- ------ ------- ------- ------- ------- ------- ------- ------- ------- ------- ------- ------- ------- -------- ... ------- ------- ------- ------- ------- -------- -------- -------- -------- ----- ----- ----- ----- ------ ----- ----- ------\n",
       " SDSS 0000+2554 0.0037611     25.905   84.5      --      --   15.81   14.73   14.74   14.82   13.03   13.28   13.72   13.07   12.56    12.5      0.5 ...     0.1    0.03    0.03    0.03     0.1     0.03     0.03     0.09     0.03    43    13    --    53     43    51    51     --\n",
       " SDSS 0001+1535 0.0200472  15.593194     74      --      --      --   15.29    14.4   13.52      --      --      --      --      --      --      0.5 ...      --    0.03    0.03      --      --       --       --       --       --    43    43    --    --     43    --    --     --\n",
       " SDSS 0002+2454 0.0474917  24.903917   75.5      --      --      --   17.02   16.09   15.42      --      --      --      --      --      --      0.5 ...      --    0.03    0.03      --      --       --       --       --       --    19    19    --    --     19    --    --     --\n",
       "      LHS 102BC 0.0763444 -40.734944   74.5     0.1   13.16   14.32   13.06   12.14   11.36   10.41      --   10.36   10.47   10.14   10.13      0.5 ...     0.1    0.03    0.03    0.05      --     0.03     0.03     0.03     0.03    34    43    84    37     50    50    67     34\n",
       "       LHS 102A  0.076786  -40.73391   63.5     0.1    8.72      --    8.62    8.02    7.73    7.53      --    7.45     7.4    7.37    7.36      0.5 ...      --    0.03    0.03    0.05      --     0.03     0.03     0.03     0.03    61     3    84    --     50    50    67     --\n",
       " SDSS 0016-0043 0.2690111   -0.71725   75.5      --      --      --   16.34   15.34   14.52      --      --      --      --      --      --      0.5 ...      --    0.05    0.05      --      --       --       --       --       --    43    43    --    --     43    --    --     --\n",
       "  BRI 0021-0214 0.4068433   -1.97226   69.5   -0.37   11.36      --   11.73    11.1   10.53    9.78      --    9.94    9.91    9.72    9.55      0.5 ...      --    0.03    0.03    0.13      --     0.03     0.03     0.03     0.03    38    30 80,84    --     49    46    67     --\n",
       "2MASS 0028+1501 0.4776194  15.028278     73      --      --    17.9   16.49   15.48   14.54      --      --      --      --      --      --      0.5 ...     0.1    0.03    0.03      --      --       --       --       --       --    42    30    --    37     43    --    --     --\n",
       "2MASS 0030-1450 0.5083694 -14.842583     77   -2.13   14.26      --   16.39   15.37   14.49      --      --      --      --      --      --      0.5 ...      --    0.03    0.03      --      --       --       --       --       --    42    42    85    --     43    --    --     --\n",
       " SDSS 0032+1410  0.549825  14.176972     78    -2.6   13.98   17.69   16.58   15.66   14.99   13.35      --      --      --      --      --      0.5 ...     0.1    0.05    0.05    0.05      --       --       --       --       --    30    30    85    37     49    33    --     --\n",
       " ULAS 0034-0052 0.5674167  -0.868528     89    -0.5   17.65    18.9   18.15   18.49   18.48      --      --   16.28   14.49   14.82   13.91      0.5 ...     0.1    0.04    0.04      --      --     0.03     0.03     0.05     0.06    86    16    73    86     86    --    86     --\n",
       "2MASS 0034+0523 0.5809917   5.384722   86.5      --      --      --   15.11   15.55   15.96    13.3   12.66      --      --      --      --      0.5 ...      --    0.03    0.03    0.04     0.1       --       --       --       --    11    13    --    --     19    51    --     --\n",
       " SDSS 0036+2413 0.6025694  24.228722   75.5      --      --      --   17.08   16.28   15.48      --      --      --      --      --      --      0.5 ...      --    0.03    0.03      --      --       --       --       --       --    19    19    --    --     19    --    --     --\n",
       "2MASS 0036+1821 0.6044917  18.352889     74    0.29   12.59   13.77    12.3   11.64   11.04   10.08   10.35   10.19   10.24    10.1   10.06      0.5 ...     0.1    0.03    0.03    0.05    0.07     0.03     0.03     0.03     0.03    70    30    23    37     43    49    67     --\n",
       "       HD 3651B 0.6553076  21.254559   87.5   -0.22   16.09   17.22   16.31   16.72   16.86      --      --   15.38   13.62   14.04   13.45      0.5 ...     0.1    0.03    0.03      --      --     0.04     0.02     0.12     0.14 60,65    60    26    53     56    --    60     --\n",
       "2MASS 0050-3322 0.8388722 -33.377833     87      --      --   16.85   15.65   16.04   15.91      --      --   14.82   13.57   13.32    13.0      0.5 ...     0.1     0.1     0.1      --      --     0.03     0.03     0.03     0.04    82    13    --    53     53    --    53     --\n",
       "CFBDS 0059-0114 0.9863611  -1.233694     89     0.3   18.36   18.82   18.06   18.27   18.71      --      --      --      --      --      --      0.5 ...    0.02    0.05    0.05      --      --       --       --       --       --    25    16    74    25  25,53    --    --     --\n",
       " SDSS 0107+0041 1.1312278   0.698972   75.5   -0.97   14.78   16.91   15.75   14.56   13.58   12.06      --      --      --      --      --      0.5 ...     0.1    0.03    0.03    0.07      --       --       --       --       --    30    30    85    37     49    49    --     --\n",
       " SDSS 0119+2403 1.3200194  24.058806     82      --      --   18.08   16.86   16.46   16.26      --      --      --      --      --      --      0.5 ...     0.1    0.03    0.03      --      --       --       --       --       --    19    19    --    53     19    --    --     --\n",
       " SDSS 0127+1354 1.4620889  13.905833     76      --      --      --   16.71   15.84   15.09      --      --      --      --      --      --      1.0 ...      --    0.03    0.03      --      --       --       --       --       --    35    43    --    --     43    --    --     --"
      ]
     },
     "execution_count": 43,
     "metadata": {},
     "output_type": "execute_result"
    }
   ],
   "source": [
    "data[0:20]"
   ]
  },
  {
   "cell_type": "code",
   "execution_count": 22,
   "id": "53ab7d39",
   "metadata": {},
   "outputs": [
    {
     "data": {
      "text/plain": [
       "masked_array(data=[--, --, --, 9.54992586021436, 9.54992586021436, --,\n",
       "                   11.8576874816716, --, 26.668586645214795,\n",
       "                   33.11311214825911],\n",
       "             mask=[ True,  True,  True, False, False,  True, False,  True,\n",
       "                   False, False],\n",
       "       fill_value=1e+20)"
      ]
     },
     "execution_count": 22,
     "metadata": {},
     "output_type": "execute_result"
    }
   ],
   "source": [
    "dm=data['M-m']\n",
    "distance=10*10**(-dm/5.)\n",
    "distance[0:10]"
   ]
  },
  {
   "cell_type": "code",
   "execution_count": 58,
   "id": "6e5eab5b",
   "metadata": {},
   "outputs": [],
   "source": [
    "from astropy.table import Table"
   ]
  },
  {
   "cell_type": "code",
   "execution_count": 59,
   "id": "94b2087b",
   "metadata": {},
   "outputs": [],
   "source": [
    "entries=Table()"
   ]
  },
  {
   "cell_type": "code",
   "execution_count": 64,
   "id": "e220a308",
   "metadata": {},
   "outputs": [],
   "source": [
    "entries['Name']=data['Name']\n",
    "#entries['SpType']=data['SpType']\n",
    "entries['Distance']=np.round(distance,2)\n",
    "entries['distance modulus']=np.round(-1*dm,2)\n",
    "entries['Hmag']=np.round(np.array(data['Hmag']),2)\n",
    "entries['abs Hmag']=np.round(data['Hmag']+dm,2)\n",
    "\n",
    "colformats={'col0':'%s', 'col1':'%.3f','col2':'%.3f','col3':'%.3f','col4':'%.3f'}"
   ]
  },
  {
   "cell_type": "code",
   "execution_count": 72,
   "id": "0a4ec423",
   "metadata": {},
   "outputs": [],
   "source": [
    "ascii.write(entries,'newleggett.tex',overwrite=True,format='latex')\n",
    "#,formats=colformats)"
   ]
  },
  {
   "cell_type": "code",
   "execution_count": 73,
   "id": "3579126b",
   "metadata": {},
   "outputs": [],
   "source": [
    "newdata=ascii.read('newleggett.tex')"
   ]
  },
  {
   "cell_type": "code",
   "execution_count": 74,
   "id": "8deb3b84",
   "metadata": {},
   "outputs": [
    {
     "data": {
      "text/html": [
       "<div><i>Table length=225</i>\n",
       "<table id=\"table4772150576\" class=\"table-striped table-bordered table-condensed\">\n",
       "<thead><tr><th>Name</th><th>Distance</th><th>distance modulus</th><th>Hmag</th><th>abs Hmag</th></tr></thead>\n",
       "<thead><tr><th>str17</th><th>float64</th><th>float64</th><th>float64</th><th>float64</th></tr></thead>\n",
       "<tr><td>SDSS 0000+2554</td><td>--</td><td>--</td><td>14.74</td><td>--</td></tr>\n",
       "<tr><td>SDSS 0001+1535</td><td>--</td><td>--</td><td>14.4</td><td>--</td></tr>\n",
       "<tr><td>SDSS 0002+2454</td><td>--</td><td>--</td><td>16.09</td><td>--</td></tr>\n",
       "<tr><td>LHS 102BC</td><td>9.55</td><td>-0.1</td><td>12.14</td><td>12.24</td></tr>\n",
       "<tr><td>LHS 102A</td><td>9.55</td><td>-0.1</td><td>8.02</td><td>8.12</td></tr>\n",
       "<tr><td>SDSS 0016-0043</td><td>--</td><td>--</td><td>15.34</td><td>--</td></tr>\n",
       "<tr><td>BRI 0021-0214</td><td>11.86</td><td>0.37</td><td>11.1</td><td>10.73</td></tr>\n",
       "<tr><td>2MASS 0028+1501</td><td>--</td><td>--</td><td>15.48</td><td>--</td></tr>\n",
       "<tr><td>2MASS 0030-1450</td><td>26.67</td><td>2.13</td><td>15.37</td><td>13.24</td></tr>\n",
       "<tr><td>SDSS 0032+1410</td><td>33.11</td><td>2.6</td><td>15.66</td><td>13.06</td></tr>\n",
       "<tr><td>ULAS 0034-0052</td><td>12.59</td><td>0.5</td><td>18.49</td><td>17.99</td></tr>\n",
       "<tr><td>...</td><td>...</td><td>...</td><td>...</td><td>...</td></tr>\n",
       "<tr><td>HN PegB</td><td>18.37</td><td>1.32</td><td>15.4</td><td>14.08</td></tr>\n",
       "<tr><td>ULAS 2146-0010</td><td>12.53</td><td>0.49</td><td>18.77</td><td>18.28</td></tr>\n",
       "<tr><td>ULAS 2229+0102</td><td>--</td><td>--</td><td>17.58</td><td>--</td></tr>\n",
       "<tr><td>2MASS 2224-0158</td><td>11.48</td><td>0.3</td><td>12.84</td><td>12.54</td></tr>\n",
       "<tr><td>ULAS 2239+0032</td><td>--</td><td>--</td><td>19.1</td><td>--</td></tr>\n",
       "<tr><td>2MASS 2244+2043</td><td>--</td><td>--</td><td>15.06</td><td>--</td></tr>\n",
       "<tr><td>SDSS 2249+0044AB</td><td>--</td><td>--</td><td>15.36</td><td>--</td></tr>\n",
       "<tr><td>2MASS 2254+3123</td><td>--</td><td>--</td><td>14.95</td><td>--</td></tr>\n",
       "<tr><td>ULAS 2321+1354</td><td>--</td><td>--</td><td>17.15</td><td>--</td></tr>\n",
       "<tr><td>SDSS 2328-1038</td><td>--</td><td>--</td><td>15.99</td><td>--</td></tr>\n",
       "<tr><td>2MASS 2339+1352</td><td>--</td><td>--</td><td>16.0</td><td>--</td></tr>\n",
       "<tr><td>2MASS 2356-1553</td><td>14.52</td><td>0.81</td><td>15.7</td><td>14.89</td></tr>\n",
       "</table></div>"
      ],
      "text/plain": [
       "<Table length=225>\n",
       "      Name       Distance distance modulus   Hmag  abs Hmag\n",
       "     str17       float64      float64      float64 float64 \n",
       "---------------- -------- ---------------- ------- --------\n",
       "  SDSS 0000+2554       --               --   14.74       --\n",
       "  SDSS 0001+1535       --               --    14.4       --\n",
       "  SDSS 0002+2454       --               --   16.09       --\n",
       "       LHS 102BC     9.55             -0.1   12.14    12.24\n",
       "        LHS 102A     9.55             -0.1    8.02     8.12\n",
       "  SDSS 0016-0043       --               --   15.34       --\n",
       "   BRI 0021-0214    11.86             0.37    11.1    10.73\n",
       " 2MASS 0028+1501       --               --   15.48       --\n",
       " 2MASS 0030-1450    26.67             2.13   15.37    13.24\n",
       "  SDSS 0032+1410    33.11              2.6   15.66    13.06\n",
       "  ULAS 0034-0052    12.59              0.5   18.49    17.99\n",
       "             ...      ...              ...     ...      ...\n",
       "         HN PegB    18.37             1.32    15.4    14.08\n",
       "  ULAS 2146-0010    12.53             0.49   18.77    18.28\n",
       "  ULAS 2229+0102       --               --   17.58       --\n",
       " 2MASS 2224-0158    11.48              0.3   12.84    12.54\n",
       "  ULAS 2239+0032       --               --    19.1       --\n",
       " 2MASS 2244+2043       --               --   15.06       --\n",
       "SDSS 2249+0044AB       --               --   15.36       --\n",
       " 2MASS 2254+3123       --               --   14.95       --\n",
       "  ULAS 2321+1354       --               --   17.15       --\n",
       "  SDSS 2328-1038       --               --   15.99       --\n",
       " 2MASS 2339+1352       --               --    16.0       --\n",
       " 2MASS 2356-1553    14.52             0.81    15.7    14.89"
      ]
     },
     "execution_count": 74,
     "metadata": {},
     "output_type": "execute_result"
    }
   ],
   "source": [
    "newdata"
   ]
  },
  {
   "cell_type": "code",
   "execution_count": 33,
   "id": "eb8235d8",
   "metadata": {},
   "outputs": [],
   "source": [
    "import astropy.units as u\n",
    "\n",
    "a=ascii.read('newleggett.tex',format='latex')"
   ]
  },
  {
   "cell_type": "code",
   "execution_count": 46,
   "id": "453f8a59",
   "metadata": {},
   "outputs": [
    {
     "data": {
      "text/latex": [
       "$[0,~0,~0,~\\dots,~0,~0,~14.52] \\; \\mathrm{pc}$"
      ],
      "text/plain": [
       "<Quantity [ 0.  ,  0.  ,  0.  ,  9.55,  9.55,  0.  , 11.86,  0.  , 26.67,\n",
       "           33.11, 12.59,  0.  ,  0.  ,  8.75, 11.07,  0.  ,  8.71, 15.63,\n",
       "            0.  ,  0.  ,  0.  ,  0.  ,  0.  , 21.38,  4.45,  0.  ,  0.  ,\n",
       "           19.77,  0.  ,  0.  , 28.71,  0.  ,  0.  ,  0.  , 10.67,  0.  ,\n",
       "            4.97,  0.  ,  0.  , 30.2 , 26.92,  0.  ,  0.  ,  0.  ,  0.  ,\n",
       "            5.73, 15.21, 13.12, 10.33,  5.78,  5.78,  0.  ,  9.08,  0.  ,\n",
       "            0.  ,  0.  ,  0.  , 12.19,  0.  ,  0.  ,  0.  ,  0.  ,  0.  ,\n",
       "            0.  ,  0.  ,  0.  , 10.62,  0.  , 13.06,  0.  ,  0.  , 29.65,\n",
       "           29.51,  0.  ,  0.  ,  8.51,  0.  ,  0.  ,  0.  ,  0.  ,  0.  ,\n",
       "            0.  ,  0.  ,  0.  ,  0.  ,  6.14,  0.  ,  0.  ,  0.  ,  0.  ,\n",
       "            0.  ,  0.  , 28.31,  0.  ,  0.  ,  0.  ,  0.  ,  0.  ,  0.  ,\n",
       "            0.  , 10.14,  4.53,  0.  ,  0.  ,  2.39, 17.3 ,  0.  ,  0.  ,\n",
       "            0.  ,  0.  ,  0.  ,  0.  , 14.59,  0.  ,  3.34,  0.  ,  0.  ,\n",
       "            0.  ,  0.  ,  0.  ,  0.  ,  0.  ,  0.  ,  0.  ,  0.  , 10.72,\n",
       "            0.  , 13.37, 20.23,  0.  ,  4.39, 10.42,  0.  ,  0.  , 13.55,\n",
       "            0.  ,  0.  , 18.62,  0.  ,  0.  , 20.04,  0.  , 10.33,  0.  ,\n",
       "            0.  , 14.45,  0.  ,  0.  ,  0.  ,  0.  ,  0.  ,  0.  ,  0.  ,\n",
       "           31.62, 10.81,  0.  , 62.23,  0.  , 14.39,  0.  ,  0.  ,  0.  ,\n",
       "           21.98,  6.4 ,  5.89, 10.57,  0.  ,  0.  ,  0.  ,  0.  ,  7.35,\n",
       "            0.  ,  0.  ,  0.  ,  0.  ,  0.  ,  0.  , 18.37,  0.  ,  0.  ,\n",
       "           13.61,  0.  ,  0.  ,  0.  ,  0.  ,  0.  ,  0.  ,  0.  ,  0.  ,\n",
       "            0.  ,  0.  ,  0.  , 11.02,  0.  ,  0.  ,  0.  , 15.42,  0.  ,\n",
       "            0.  ,  0.  ,  0.  ,  0.  ,  0.  , 27.54,  0.  ,  0.  ,  0.  ,\n",
       "            0.  ,  0.  ,  0.  ,  0.  ,  0.  ,  0.  , 18.37, 12.53,  0.  ,\n",
       "           11.48,  0.  ,  0.  ,  0.  ,  0.  ,  0.  ,  0.  ,  0.  , 14.52] pc>"
      ]
     },
     "execution_count": 46,
     "metadata": {},
     "output_type": "execute_result"
    }
   ],
   "source": [
    "distance=a['Distance']*u.pc\n",
    "distance"
   ]
  },
  {
   "cell_type": "code",
   "execution_count": 49,
   "id": "ea4b6543",
   "metadata": {},
   "outputs": [
    {
     "data": {
      "text/latex": [
       "$[0,~0,~0,~\\dots,~0,~0,~47.357906] \\; \\mathrm{lyr}$"
      ],
      "text/plain": [
       "<Quantity [  0.        ,   0.        ,   0.        ,  31.14793407,\n",
       "            31.14793407,   0.        ,  38.6821464 ,   0.        ,\n",
       "            86.98590594, 107.99037666,  41.06308795,   0.        ,\n",
       "             0.        ,  28.53868305,  36.10551101,   0.        ,\n",
       "            28.4082205 ,  50.97824184,   0.        ,   0.        ,\n",
       "             0.        ,   0.        ,   0.        ,  69.73223356,\n",
       "            14.51395881,   0.        ,   0.        ,  64.48111587,\n",
       "             0.        ,   0.        ,  93.63949604,   0.        ,\n",
       "             0.        ,   0.        ,  34.8008855 ,   0.        ,\n",
       "            16.20997197,   0.        ,   0.        ,  98.49922607,\n",
       "            87.80129688,   0.        ,   0.        ,   0.        ,\n",
       "             0.        ,  18.68876044,  49.60838505,  42.79171676,\n",
       "            33.69195382,  18.85183863,  18.85183863,   0.        ,\n",
       "            29.6149991 ,   0.        ,   0.        ,   0.        ,\n",
       "             0.        ,  39.75846244,   0.        ,   0.        ,\n",
       "             0.        ,   0.        ,   0.        ,   0.        ,\n",
       "             0.        ,   0.        ,  34.63780731,   0.        ,\n",
       "            42.59602293,   0.        ,   0.        ,  96.70536599,\n",
       "            96.24874706,   0.        ,   0.        ,  27.75590774,\n",
       "             0.        ,   0.        ,   0.        ,   0.        ,\n",
       "             0.        ,   0.        ,   0.        ,   0.        ,\n",
       "             0.        ,  20.02600159,   0.        ,   0.        ,\n",
       "             0.        ,   0.        ,   0.        ,   0.        ,\n",
       "            92.33487053,   0.        ,   0.        ,   0.        ,\n",
       "             0.        ,   0.        ,   0.        ,   0.        ,\n",
       "            33.0722567 ,  14.77488391,   0.        ,   0.        ,\n",
       "             7.79513743,  56.42505334,   0.        ,   0.        ,\n",
       "             0.        ,   0.        ,   0.        ,   0.        ,\n",
       "            47.58621551,   0.        ,  10.89362302,   0.        ,\n",
       "             0.        ,   0.        ,   0.        ,   0.        ,\n",
       "             0.        ,   0.        ,   0.        ,   0.        ,\n",
       "             0.        ,  34.96396369,   0.        ,  43.6071077 ,\n",
       "            65.98143521,   0.        ,  14.31826498,  33.98549456,\n",
       "             0.        ,   0.        ,  44.19418918,   0.        ,\n",
       "             0.        ,  60.73031753,   0.        ,   0.        ,\n",
       "            65.36173809,   0.        ,  33.69195382,   0.        ,\n",
       "             0.        ,  47.12959658,   0.        ,   0.        ,\n",
       "             0.        ,   0.        ,   0.        ,   0.        ,\n",
       "             0.        , 103.13064663,  35.25750443,   0.        ,\n",
       "           202.96711385,   0.        ,  46.93390275,   0.        ,\n",
       "             0.        ,   0.        ,  71.68917182,  20.87400817,\n",
       "            19.21061065,  34.47472912,   0.        ,   0.        ,\n",
       "             0.        ,   0.        ,  23.97249376,   0.        ,\n",
       "             0.        ,   0.        ,   0.        ,   0.        ,\n",
       "             0.        ,  59.91492659,   0.        ,   0.        ,\n",
       "            44.38988301,   0.        ,   0.        ,   0.        ,\n",
       "             0.        ,   0.        ,   0.        ,   0.        ,\n",
       "             0.        ,   0.        ,   0.        ,   0.        ,\n",
       "            35.94243282,   0.        ,   0.        ,   0.        ,\n",
       "            50.29331344,   0.        ,   0.        ,   0.        ,\n",
       "             0.        ,   0.        ,   0.        ,  89.82346642,\n",
       "             0.        ,   0.        ,   0.        ,   0.        ,\n",
       "             0.        ,   0.        ,   0.        ,   0.        ,\n",
       "             0.        ,  59.91492659,  40.86739413,   0.        ,\n",
       "            37.44275216,   0.        ,   0.        ,   0.        ,\n",
       "             0.        ,   0.        ,   0.        ,   0.        ,\n",
       "            47.35790604] lyr>"
      ]
     },
     "execution_count": 49,
     "metadata": {},
     "output_type": "execute_result"
    }
   ],
   "source": [
    "distance_au=distance.to(u.lyr)\n",
    "distance_au"
   ]
  },
  {
   "cell_type": "code",
   "execution_count": 50,
   "id": "7fcc8100",
   "metadata": {},
   "outputs": [],
   "source": [
    "distance_au=distance_au[np.where(distance_au.value > 1)]"
   ]
  },
  {
   "cell_type": "code",
   "execution_count": 51,
   "id": "00466e89",
   "metadata": {},
   "outputs": [
    {
     "data": {
      "text/latex": [
       "$[31.147934,~31.147934,~38.682146,~86.985906,~107.99038,~41.063088,~28.538683,~36.105511,~28.40822,~50.978242,~69.732234,~14.513959,~64.481116,~93.639496,~34.800886,~16.209972,~98.499226,~87.801297,~18.68876,~49.608385,~42.791717,~33.691954,~18.851839,~18.851839,~29.614999,~39.758462,~34.637807,~42.596023,~96.705366,~96.248747,~27.755908,~20.026002,~92.334871,~33.072257,~14.774884,~7.7951374,~56.425053,~47.586216,~10.893623,~34.963964,~43.607108,~65.981435,~14.318265,~33.985495,~44.194189,~60.730318,~65.361738,~33.691954,~47.129597,~103.13065,~35.257504,~202.96711,~46.933903,~71.689172,~20.874008,~19.210611,~34.474729,~23.972494,~59.914927,~44.389883,~35.942433,~50.293313,~89.823466,~59.914927,~40.867394,~37.442752,~47.357906] \\; \\mathrm{lyr}$"
      ],
      "text/plain": [
       "<Quantity [ 31.14793407,  31.14793407,  38.6821464 ,  86.98590594,\n",
       "           107.99037666,  41.06308795,  28.53868305,  36.10551101,\n",
       "            28.4082205 ,  50.97824184,  69.73223356,  14.51395881,\n",
       "            64.48111587,  93.63949604,  34.8008855 ,  16.20997197,\n",
       "            98.49922607,  87.80129688,  18.68876044,  49.60838505,\n",
       "            42.79171676,  33.69195382,  18.85183863,  18.85183863,\n",
       "            29.6149991 ,  39.75846244,  34.63780731,  42.59602293,\n",
       "            96.70536599,  96.24874706,  27.75590774,  20.02600159,\n",
       "            92.33487053,  33.0722567 ,  14.77488391,   7.79513743,\n",
       "            56.42505334,  47.58621551,  10.89362302,  34.96396369,\n",
       "            43.6071077 ,  65.98143521,  14.31826498,  33.98549456,\n",
       "            44.19418918,  60.73031753,  65.36173809,  33.69195382,\n",
       "            47.12959658, 103.13064663,  35.25750443, 202.96711385,\n",
       "            46.93390275,  71.68917182,  20.87400817,  19.21061065,\n",
       "            34.47472912,  23.97249376,  59.91492659,  44.38988301,\n",
       "            35.94243282,  50.29331344,  89.82346642,  59.91492659,\n",
       "            40.86739413,  37.44275216,  47.35790604] lyr>"
      ]
     },
     "execution_count": 51,
     "metadata": {},
     "output_type": "execute_result"
    }
   ],
   "source": [
    "distance_au"
   ]
  },
  {
   "cell_type": "code",
   "execution_count": 52,
   "id": "2b067a2b",
   "metadata": {},
   "outputs": [
    {
     "data": {
      "image/png": "[encoded data removed]",
      "text/plain": [
       "<Figure size 720x576 with 1 Axes>"
      ]
     },
     "metadata": {
      "needs_background": "light"
     },
     "output_type": "display_data"
    }
   ],
   "source": [
    "from astropy.visualization import quantity_support\n",
    "def plot_distance_au():\n",
    " fig,axes=plt.subplots(figsize=(10,8))\n",
    " quantity_support()\n",
    "\n",
    " axes.tick_params(which='both', axis='x',direction='in')\n",
    " axes.tick_params(which='major',length=6)\n",
    " axes.tick_params(which='minor',length=3)\n",
    " axes.set_ylabel('Relative Number',fontsize=14)\n",
    " #axes.set_xlabel('Distance (Light-Year)',fontsize=14)\n",
    " axes.hist(distance_au,bins='auto',histtype='step')\n",
    " #plt.show()\n",
    "\n",
    "plot_distance_au()"
   ]
  },
  {
   "cell_type": "code",
   "execution_count": null,
   "id": "8f3eb0ac",
   "metadata": {},
   "outputs": [],
   "source": []
  }
 ],
 "metadata": {
  "kernelspec": {
   "display_name": "Python 3 (ipykernel)",
   "language": "python",
   "name": "python3"
  },
  "language_info": {
   "codemirror_mode": {
    "name": "ipython",
    "version": 3
   },
   "file_extension": ".py",
   "mimetype": "text/x-python",
   "name": "python",
   "nbconvert_exporter": "python",
   "pygments_lexer": "ipython3",
   "version": "3.10.4"
  }
 },
 "nbformat": 4,
 "nbformat_minor": 5
}
