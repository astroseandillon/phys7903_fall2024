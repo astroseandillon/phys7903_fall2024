{
 "cells": [
  {
   "cell_type": "markdown",
   "id": "672ce6d5",
   "metadata": {},
   "source": [
    "## Section 7: Eigendecomposition and Principal Component Analysis with NumPy and SciPy\n",
    "\n",
    "### Eigendecomposition\n",
    "\n",
    "Another ultra-powerful linear algebra tool in NumPy and SciPy is _**eigendecomposition**_.   Don't know what this is?  Sure you've heard of it, because it is closely related to both SVD and to this magical thing called _principal component analysis_ which we will get to in a second.  \n",
    "\n",
    "Summery version:\n",
    "A matrix **A** applied to column vector **x**, that is **Ax**, is a linear transformation of **x**.  \n",
    "\n",
    "There is a special transform in the following form:\n",
    "**Ax** = $\\lambda$**x**\n",
    "\n",
    "where **A** is nxn matrix, $x$ is $n$x1 column vector ($X$ $\\ne$ 0), and $\\lambda$ is some scalar. Any $\\lambda$ that satisfies the above equation is known as an _eigenvalue_ of the matrix **A**, while the associated vector **x** is called an _eigenvector_ corresponding to $\\lambda$.   \n",
    "\n",
    "Not quite clear? Here's some more detail.\n",
    "\n",
    "#### Motivation\n",
    "\n",
    "When we think of a think of a vector, we think of a geometric line with some direction and magnitude.   \n",
    "\n",
    "We know that a vector $x$ can be transformed to a different vector by multiplying by matrix $A$ -> $A𝑥$. The effect of the transformation represents a scale of the length of the vector and/or the rotate of the vector. \n",
    "\n",
    "Matrix-vector multiplication can be thought of then as a way of rotating and scaling that vector.  For some vectors, the effect of transformation of $Ax$ is only scale (stretching, compressing, and flipping). \n",
    " Here's a simple way of visualizing:"
   ]
  },
  {
   "cell_type": "code",
   "execution_count": 1,
   "id": "a135b19d",
   "metadata": {},
   "outputs": [
    {
     "data": {
      "image/png": "[encoded data removed]",
      "text/plain": [
       "<Figure size 432x432 with 1 Axes>"
      ]
     },
     "metadata": {
      "needs_background": "light"
     },
     "output_type": "display_data"
    }
   ],
   "source": [
    "\n",
    "import numpy as np\n",
    "import matplotlib.pyplot as plt\n",
    "\n",
    "# some matrix\n",
    "M  = np.array([ [2,3],[2,1] ])\n",
    "x  = np.array([ [1,1.5] ]).T # transposed into a column vector!\n",
    "Mx = M.dot(x)\n",
    "\n",
    "\n",
    "plt.figure(figsize=(6,6))\n",
    "\n",
    "plt.plot([0,x[0,0]],[0,x[1,0]],'k',linewidth=4,label='x')\n",
    "plt.plot([0,Mx[0,0]],[0,Mx[1,0]],'--',linewidth=3,color=[.7,.7,.7],label='Mx')\n",
    "plt.xlim([-7,7])\n",
    "plt.ylim([-7,7])\n",
    "plt.legend()\n",
    "plt.grid()\n",
    "plt.show()\n"
   ]
  },
  {
   "cell_type": "markdown",
   "id": "dabfd45e",
   "metadata": {},
   "source": [
    "\n",
    "\n",
    "Now, let's try a different vector with the same matrix: e.g. just swapping the x and y positions:"
   ]
  },
  {
   "cell_type": "code",
   "execution_count": 4,
   "id": "399b68f4",
   "metadata": {},
   "outputs": [
    {
     "data": {
      "image/png": "[encoded data removed]",
      "text/plain": [
       "<Figure size 432x432 with 1 Axes>"
      ]
     },
     "metadata": {
      "needs_background": "light"
     },
     "output_type": "display_data"
    }
   ],
   "source": [
    "\n",
    "M  = np.array([ [2,3],[2,1] ])\n",
    "v  = np.array([ [1.5,1] ]).T # transposed into a column vector!\n",
    "Mv = M.dot(v)\n",
    "\n",
    "\n",
    "plt.figure(figsize=(6,6))\n",
    "\n",
    "plt.plot([0,v[0,0]],[0,v[1,0]],'k',linewidth=4,label='v')\n",
    "plt.plot([0,Mv[0,0]],[0,Mv[1,0]],'--',linewidth=3,color=[.7,.7,.7],label='Mv')\n",
    "plt.xlim([-7,7])\n",
    "plt.ylim([-7,7])\n",
    "plt.legend()\n",
    "plt.grid()\n",
    "plt.show()\n",
    "\n"
   ]
  },
  {
   "cell_type": "markdown",
   "id": "30a7464f",
   "metadata": {},
   "source": [
    "\n",
    "\n",
    "The above examples are from ``def ex1`` in ``eigendecomp.py``.\n",
    "\n",
    "Note what is different.  The matrix-vector product is no longer rotated.  The matrix is still scaled it has the same direction as the input vector $v$.   I.e. this matrix-vector multiplication acts _as if_ it were a scalar-vector multiplication (taking a vector and just multiplying the entries).   In this case, $v$ is then an _eigenvector_ of the matrix $M$.  This is our introduction to _eigendecomposition_."
   ]
  },
  {
   "cell_type": "markdown",
   "id": "47ea2e22",
   "metadata": {},
   "source": [
    "#### Basics of Eigendecomposition\n",
    "\n",
    "Okay, so what is eigendecomposition?  The above example gives a geometric definition: an _eigenvector_ of a matrix is one where a matrix _stretches_ but does not rotate a vector.  The amount of stretching done is then the _eigenvalue_.  \n",
    "\n",
    "The figures below show vectors before and after multiplication by a 2x2 matrix from the source code in ``def ex2()``.  The two vectors on the left are eigenvectors whereas the two vectors in the right plot are not eigenvectors.   The eigenvectors point in the same direction before and after being multiplied by the matrix.\n",
    "\n",
    "![](./figures/Figure_5_eigendemo3.png)"
   ]
  },
  {
   "cell_type": "markdown",
   "id": "87ab0335",
   "metadata": {},
   "source": [
    "Here's another example from ``def ex3()``"
   ]
  },
  {
   "cell_type": "code",
   "execution_count": 11,
   "id": "e83299f6",
   "metadata": {},
   "outputs": [],
   "source": [
    "def ex3(vnumber=1):\n",
    " plt.style.use('seaborn-poster')\n",
    " \n",
    " A = np.array([[2, 0],[0, 1]])   \n",
    " \n",
    " if vnumber == 1:\n",
    "\n",
    "\n",
    "  x = np.array([[1],[1]])\n",
    "  b = np.dot(A, x)\n",
    "  plot_vect(x,b,(0,3),(0,2))\n",
    "\n",
    " else:\n",
    "#different version\n",
    "  x = np.array([[1], [0]])\n",
    "  b = np.dot(A, x)\n",
    "\n",
    "  plot_vect(x,b,(0,3),(-0.5,0.5))\n",
    " \n",
    "def plot_vect(x, b, xlim, ylim):\n",
    "    '''\n",
    "    function to plot two vectors, \n",
    "    x - the original vector\n",
    "    b - the transformed vector\n",
    "    xlim - the limit for x\n",
    "    ylim - the limit for y\n",
    "    '''\n",
    "    plt.figure(figsize = (10, 6))\n",
    "    plt.quiver(0,0,x[0],x[1],\\\n",
    "        color='k',angles='xy',\\\n",
    "        scale_units='xy',scale=1,\\\n",
    "        label='Original vector')\n",
    "    plt.quiver(0,0,b[0],b[1],\\\n",
    "        color='g',angles='xy',\\\n",
    "        scale_units='xy',scale=1,\\\n",
    "        label ='Transformed vector')\n",
    "    plt.xlim(xlim)\n",
    "    plt.ylim(ylim)\n",
    "    plt.xlabel('X')\n",
    "    plt.ylabel('Y')\n",
    "    plt.legend()\n",
    "    plt.show()"
   ]
  },
  {
   "cell_type": "markdown",
   "id": "bacf4726",
   "metadata": {},
   "source": [
    "We get the following:"
   ]
  },
  {
   "cell_type": "code",
   "execution_count": 12,
   "id": "91738054",
   "metadata": {},
   "outputs": [
    {
     "data": {
      "image/png": "[encoded data removed]",
      "text/plain": [
       "<Figure size 720x432 with 1 Axes>"
      ]
     },
     "metadata": {
      "needs_background": "light"
     },
     "output_type": "display_data"
    }
   ],
   "source": [
    "ex3()"
   ]
  },
  {
   "cell_type": "markdown",
   "id": "c8d5a8b7",
   "metadata": {},
   "source": [
    "We can see from the generated figure that the original vector 𝑥 is rotated and stretched longer after transformed by 𝐴. The vector [[1], [1]] is transformed to [[2], [1]]. Let’s try to do the same exercise with a different vector [[1], [0]]."
   ]
  },
  {
   "cell_type": "code",
   "execution_count": 13,
   "id": "f31e7ca0",
   "metadata": {},
   "outputs": [
    {
     "data": {
      "image/png": "[encoded data removed]",
      "text/plain": [
       "<Figure size 720x432 with 1 Axes>"
      ]
     },
     "metadata": {
      "needs_background": "light"
     },
     "output_type": "display_data"
    }
   ],
   "source": [
    "ex3(vnumber=2)"
   ]
  },
  {
   "cell_type": "markdown",
   "id": "55d53895",
   "metadata": {},
   "source": [
    "with this new vector, the only thing changed after the transformation is the length of the vector, it is stretched. The new vector is [[2], [0]], therefore, the transform is\n",
    "\n",
    "$𝐴𝑥$=2$x$"
   ]
  },
  {
   "cell_type": "markdown",
   "id": "1b70e140",
   "metadata": {},
   "source": [
    "**Eigendecomposition works for square matrices**.   Like SVD, it often crops up with correlation or covariance matrices (more on that later).   Every square matrix of dimensions $M x M$ has $M$ eigenvalues (scalars) and $M$ corresponding eigenvectors.  Eigendecomposition then computes these scalar-vector pairs.   \n",
    "\n",
    "The main eigenvalue equation is very simple:\n",
    "\n",
    "$\\textbf{A}$$\\textbf{v}$=$\\lambda$$\\textbf{v}$.  \n",
    "\n",
    " To be clear this is not saying that the matrix **A** is the same thing as a scalar $\\lambda$.  Rather, _the effect or consequence of the matrix operating on the vector_ is the same as the effect of the scalar operating on that same vector."
   ]
  },
  {
   "cell_type": "markdown",
   "id": "9fe891e6",
   "metadata": {},
   "source": [
    "#### Finding Eigenvalues and Eigenvectors\n",
    "\n",
    "So how can we find eigenvalues and eigenvectors?   Thankfully, NumPy makes this very easy with ``np.linalg.eig`` and ``np.linalg.eigh`` ***.  \n",
    "\n",
    "(*** the latter stands for \"Hermitian\".  This works if you have square arrays.   And the consequence is that the algorithm then sorts the eigenvalues and eigenvectors by size.  This is a good thing that will help us later but for now it doesn't really matter)"
   ]
  },
  {
   "cell_type": "markdown",
   "id": "63af93a0",
   "metadata": {},
   "source": [
    "E.g."
   ]
  },
  {
   "cell_type": "code",
   "execution_count": 15,
   "id": "eaa8e34a",
   "metadata": {},
   "outputs": [
    {
     "name": "stdout",
     "output_type": "stream",
     "text": [
      "[-0.37228132  5.37228132]\n"
     ]
    },
    {
     "data": {
      "text/plain": [
       "array([[-0.82456484, -0.41597356],\n",
       "       [ 0.56576746, -0.90937671]])"
      ]
     },
     "execution_count": 15,
     "metadata": {},
     "output_type": "execute_result"
    }
   ],
   "source": [
    "\n",
    "matrix=np.array([[1,2],[3,4]])\n",
    "evals,evecs=np.linalg.eig(matrix)\n",
    "\n",
    "evals\n",
    "#array([-0.37228132,  5.37228132])\n",
    "print(evals)\n",
    "\n",
    "evecs\n",
    "#array([[-0.82456484, -0.41597356],\n",
    " #      [ 0.56576746, -0.90937671]])\n"
   ]
  },
  {
   "cell_type": "markdown",
   "id": "fd4863c6",
   "metadata": {},
   "source": [
    "Here's another example:"
   ]
  },
  {
   "cell_type": "code",
   "execution_count": 16,
   "id": "74e2b735",
   "metadata": {},
   "outputs": [
    {
     "name": "stdout",
     "output_type": "stream",
     "text": [
      "E-value: [ 8.80916362  0.92620912 -0.73537273]\n",
      "E-vector [[-0.52799324 -0.77557092 -0.36272811]\n",
      " [-0.604391    0.62277013 -0.7103262 ]\n",
      " [-0.59660259 -0.10318482  0.60321224]]\n"
     ]
    }
   ],
   "source": [
    "\n",
    "a = np.array([[2, 2, 4], \n",
    "              [1, 3, 5],\n",
    "              [2, 3, 4]])\n",
    "              \n",
    "w,v=np.linalg.eig(a)\n",
    "\n",
    "print('E-value:', w)\n",
    "#E-value: [ 8.80916362  0.92620912 -0.73537273]\n",
    "\n",
    "print('E-vector', v)\n",
    "#E-vector [[-0.52799324 -0.77557092 -0.36272811]\n",
    " #[-0.604391    0.62277013 -0.7103262 ]\n",
    " #[-0.59660259 -0.10318482  0.60321224]]\n",
    "\n"
   ]
  },
  {
   "cell_type": "markdown",
   "id": "6468b49e",
   "metadata": {},
   "source": [
    "And we can do the same thing with SciPy"
   ]
  },
  {
   "cell_type": "code",
   "execution_count": 17,
   "id": "efee59ff",
   "metadata": {},
   "outputs": [
    {
     "name": "stdout",
     "output_type": "stream",
     "text": [
      "[-0.37228132+0.j  5.37228132+0.j]\n"
     ]
    },
    {
     "data": {
      "text/plain": [
       "array([[-0.82456484, -0.41597356],\n",
       "       [ 0.56576746, -0.90937671]])"
      ]
     },
     "execution_count": 17,
     "metadata": {},
     "output_type": "execute_result"
    }
   ],
   "source": [
    "\n",
    "from scipy import linalg\n",
    "matrix=np.array([[1,2],[3,4]])\n",
    "evals,evecs=linalg.eig(matrix)\n",
    "\n",
    "print(evals)\n",
    "#array([-0.37228132,  5.37228132])\n",
    "\n",
    "evecs\n",
    "#array([[-0.82456484, -0.41597356],\n",
    "#       [ 0.56576746, -0.90937671]])\n",
    "\n"
   ]
  },
  {
   "cell_type": "markdown",
   "id": "90715e1c",
   "metadata": {},
   "source": [
    "Okay fine, we can compute eigenvalues and eigenvectors.  So?  We gain a bit more insight if we rearrange the eigenvalue equation:\n",
    "\n",
    "$\\textbf{A}$$\\textbf{v}$=$\\lambda$$\\textbf{v}$\n",
    "\n",
    "$\\textbf{A}$$\\textbf{v}$-$\\lambda$$\\textbf{v}$=0\n",
    "\n",
    "($\\textbf{A}$-$\\lambda$$\\textbf{I}$)$\\textbf{v}$=0\n",
    "\n",
    "Note the imposition of the identity matrix $\\textbf{I}$ (A matrix minus a scalar is not a thing/wrong dimensionality: we have to operate element-wise).  \n",
    "\n",
    "\n",
    "And then ...\n",
    "\n",
    "$\\tilde{\\textbf{A}}$ = $\\textbf{A}$-$\\lambda$$\\textbf{I}$, so\n",
    "\n",
    "$\\tilde{\\textbf{A}}$$\\textbf{v}$ = 0 \n",
    "\n",
    "In other words, the eigenvector is in the nullspace of the matrix shifted by its eigenvalue.  A matrix shifted by its eigenvalue is singular, because only singular matrices have non-trivial (e.g. v=0) null space.  Because singular matrices have determinants of zero, |$\\textbf{A}$-$\\lambda$$\\textbf{I}$| =0.   I.e. we shift a matrix by its (unknown) eigenvalue $\\lambda$, set its determinant to zero and solve for $\\lambda$.   For the case of a simple 2x2 matrix with elements $\\left[ {\\begin{array}{cc}\n",
    "   a & b \\\\\n",
    "   c & d \\\\\n",
    "  \\end{array} } \\right]$, shifting by eigenvalues $\\lambda$ leads to the equation:\n",
    "  \n",
    "  $\\left[ {\\begin{array}{cc}\n",
    "   a & b \\\\\n",
    "   c & d \\\\\n",
    "  \\end{array} } \\right]$ - $\\lambda \\left[ {\\begin{array}{cc}\n",
    "   1 & 0 \\\\\n",
    "   0 & 1 \\\\\n",
    "  \\end{array} } \\right]$, or $\\lambda^{2} - (a+d)\\lambda + (ad-bc)$ = 0.   I.e. this is a second order polynomial equation with thus two solutions.  A 3x3 matrix? The leading term is $\\lambda^{3}$ and so on.  In other words, the characteristic polynomial of an $M$x$M$ matrix will have $\\lambda^{M}$ term and a $M$x$M$ matrix will have $M$ eigenvalues.\n",
    "  \n",
    "Okay, great but where do the eigenvectors actually come from?\n",
    "  \n",
    "\n",
    "Here's a numerical example.  The following is a matrix and its eigenvalues:\n",
    "\n",
    "$\\left[ {\\begin{array}{cc}\n",
    "   1 & 2 \\\\\n",
    "   2 & 1 \\\\\n",
    "  \\end{array} } \\right]$, $\\lambda_{1}$ = 3, $\\lambda_{2}$ = -1.\n",
    "  \n",
    " Take the case of $\\lambda_{1}$.   To reveal its eigenvector, shift the matrix by $\\lambda_{1}$ and find a vector in its null space:\n",
    " \n",
    " $\\left[ {\\begin{array}{cc}\n",
    "   1-3 & 2 \\\\\n",
    "   2 & 1 -3\\\\\n",
    "  \\end{array} } \\right]$ =  $\\left[ {\\begin{array}{cc}\n",
    "  -2 & 2 \\\\\n",
    "   2 &-2\\\\\n",
    "  \\end{array} } \\right]$ $\\left[ {\\begin{array}{cc}\n",
    "  x1 \\\\\n",
    "  x2\\\\\n",
    "  \\end{array} } \\right]$ = $\\left[ {\\begin{array}{cc}\n",
    "  0 \\\\\n",
    "  0\\\\\n",
    "  \\end{array} }\\right]$\n",
    "  \n",
    "  We are left with \n",
    "  $\\left[ {\\begin{array}{cc}\n",
    "  -2*x1+2*x2 \\\\\n",
    "   2*x1-2*x2\\\\\n",
    "  \\end{array} } \\right]$=$\\left[ {\\begin{array}{cc}\n",
    "  0 \\\\\n",
    "  0\\\\\n",
    "  \\end{array} }\\right]$\n",
    "  \n",
    "  Here, x1=1 and x2=1 work just fine.   \n",
    "  \n",
    "  This means that [1 1] is an eigenvector of the matrix associated with an eigenvalue of 3.   Now this was a really trivial example.   In practice, these vectors are found by using Gauss-Jordan elimination to solve a system of equations.   But we don't need to worry about that for this class.\n",
    "  "
   ]
  },
  {
   "cell_type": "markdown",
   "id": "1d512220",
   "metadata": {},
   "source": [
    "#### _Diagonalizing a Square Matrix_ \n",
    "\n",
    "In the example above, the eigenvalue equation lists one eigenvalue and one corresponding eigenvector.  But we can do a lot better than that.   Specifically, it follows that an $M$x $M$ matrix as $M$ eigenvalue equations:\n",
    "\n",
    "$\\textbf{A}$**v$_{1}$** = $\\lambda_{1}$**v$_{1}$**\n",
    "\n",
    "...\n",
    "\n",
    "$\\textbf{A}$**v$_{M}$** = $\\lambda_{M}$**v$_{1}$**\n",
    "\n",
    "Now, this series of equations is a bit ugly.   So we can rewrite it in a more succinct manner.   Instead of storing hte eigenvalues in a vector, we stor the eigenvalues in teh diagonal of a matrix **$\\Lambda$**\n",
    "\n",
    "I.e. the righthand side of the previous series of equations can be summarized as ...\n",
    "\n",
    "$\\left[ {\\begin{array}{cc}\n",
    "   v11 & v12  & v13 \\\\\n",
    "   v12 & v22  & v23 \\\\\n",
    "   v13 & v32  & v33 \\\\\n",
    "  \\end{array} } \\right]$ $\\left[ {\\begin{array}{cc}\n",
    "   \\lambda_{1} & 0  & 0 \\\\\n",
    "   0 & \\lambda_{2}  & 0\\\\\n",
    "   0 & 0  & \\lambda_{3} \\\\\n",
    "  \\end{array} } \\right]$ = $\\left[ {\\begin{array}{cc}\n",
    "   \\lambda_{1}v11 & \\lambda_{2}v12  & \\lambda_{3}v13 \\\\\n",
    "   \\lambda_{1}v12 & \\lambda_{2}v22  & \\lambda_{3}v23 \\\\\n",
    "   \\lambda_{1}v13 & \\lambda_{2}v32  & \\lambda_{3}v33 \\\\\n",
    "  \\end{array} } \\right]$\n",
    "\n",
    "More generally, then, the matrix-eigenvalue equation can be written as \n",
    "\n",
    "**A****V** = **V****$\\Lambda$**.\n",
    "\n",
    "This result then has the following consequences (these are equivalent statements produced by inverting matrices or multiplying both sides by the same matrix):\n",
    "\n",
    "$\\textbf{A}$ = $\\textbf{V}\\Lambda\\textbf{V}^{-1}$\n",
    "\n",
    "$\\Lambda$= $\\textbf{V}^{-1}\\textbf{A}\\textbf{V}$\n",
    "\n",
    "The first equation shows that **A** becomes diagonal inside the space of **V** (i.e. **V** moves us into the \"diagonal space\", and then $V^{-1}$ gets us back out).  This can be interpreted in the context of basis vectors: **A** is dense in the standard basis, but then we apply a set of transformations (**V**) to rotate the matrix into a new set of basis vectors (i.e. the eigenvectors) in which the information is sparse and represented by a diagonal matrix. "
   ]
  },
  {
   "cell_type": "markdown",
   "id": "871cc57a",
   "metadata": {},
   "source": [
    "#### _Implementing Eigendecomposition in Python ... and Reconstruction_ \n",
    "\n",
    "The above equations describing the relationships between eigenvalues, eigenvectors, and the original matrix are key.\n",
    "\n",
    "As an example of implementing eigendecomposition in Python and then reconstructing the original matrix **A** again, see below.\n",
    "\n",
    "In this example we start with a 4x4 matrix of random numbers: ``M=np.random.rand(4,4)``.  \n",
    "\n",
    "Then perform eigendecomposition:"
   ]
  },
  {
   "cell_type": "code",
   "execution_count": 18,
   "id": "164bc1ec",
   "metadata": {},
   "outputs": [
    {
     "name": "stdout",
     "output_type": "stream",
     "text": [
      "[ 1.56167916 -0.33131077  0.38858218 -0.01147883]\n"
     ]
    },
    {
     "data": {
      "text/plain": [
       "array([[ 0.54111392,  0.75006985,  0.59201411,  0.31299954],\n",
       "       [ 0.30243033, -0.50752626,  0.56535859, -0.32853996],\n",
       "       [ 0.73898306, -0.36737173, -0.50620265, -0.66271266],\n",
       "       [ 0.26388569,  0.21177896, -0.27138135,  0.5957388 ]])"
      ]
     },
     "execution_count": 18,
     "metadata": {},
     "output_type": "execute_result"
    }
   ],
   "source": [
    "\n",
    "M=np.random.rand(4,4)\n",
    "Lambda, V = np.linalg.eig(M)\n",
    "\n",
    "Lambda\n",
    "print(Lambda)\n",
    "\n",
    "V\n"
   ]
  },
  {
   "cell_type": "markdown",
   "id": "a247e092",
   "metadata": {},
   "source": [
    "To calculate all the components of the eigendecomposition, we need $\\Lambda$ and $V^{-1}$.  \n",
    "\n",
    "First, for the eigenvalues $\\Lambda$ we just have to transform \"Lambda\" into a diagonal matrix:"
   ]
  },
  {
   "cell_type": "code",
   "execution_count": 19,
   "id": "63cd1e00",
   "metadata": {},
   "outputs": [
    {
     "data": {
      "text/plain": [
       "array([[ 1.56167916,  0.        ,  0.        ,  0.        ],\n",
       "       [ 0.        , -0.33131077,  0.        ,  0.        ],\n",
       "       [ 0.        ,  0.        ,  0.38858218,  0.        ],\n",
       "       [ 0.        ,  0.        ,  0.        , -0.01147883]])"
      ]
     },
     "execution_count": 19,
     "metadata": {},
     "output_type": "execute_result"
    }
   ],
   "source": [
    "\n",
    "bLambda=np.diag(Lambda)\n",
    "\n",
    "bLambda\n"
   ]
  },
  {
   "cell_type": "markdown",
   "id": "52150b67",
   "metadata": {},
   "source": [
    "Second, we use ``np.linalg.inv`` to compute $V^{-1}$:"
   ]
  },
  {
   "cell_type": "code",
   "execution_count": 20,
   "id": "d8085753",
   "metadata": {},
   "outputs": [
    {
     "data": {
      "text/plain": [
       "array([[ 0.40827194,  0.46212126,  0.60886239,  0.7176588 ],\n",
       "       [ 0.87180262, -1.19411321,  0.17824088, -0.91829715],\n",
       "       [ 0.37949251,  0.78520876, -0.48857922, -0.30986089],\n",
       "       [-0.31788996,  0.57748778, -0.55562779,  1.54598905]])"
      ]
     },
     "execution_count": 20,
     "metadata": {},
     "output_type": "execute_result"
    }
   ],
   "source": [
    "\n",
    "Vinv=np.linalg.inv(V)\n",
    "\n",
    "Vinv\n",
    "\n"
   ]
  },
  {
   "cell_type": "markdown",
   "id": "4b88f2fd",
   "metadata": {},
   "source": [
    "Now, we have all the ingredients we need to reconstruct **A**.  And we do that exactly in the same way we reconstructed matrices from SVD:"
   ]
  },
  {
   "cell_type": "code",
   "execution_count": 23,
   "id": "01956a9b",
   "metadata": {},
   "outputs": [
    {
     "data": {
      "text/plain": [
       "array([[-9.15933995e-16, -4.44089210e-16, -6.66133815e-16,\n",
       "        -1.22124533e-15],\n",
       "       [-1.66533454e-16,  6.38378239e-16, -2.77555756e-17,\n",
       "        -4.30211422e-16],\n",
       "       [-9.99200722e-16, -7.49400542e-16, -6.66133815e-16,\n",
       "        -1.55431223e-15],\n",
       "       [-1.80411242e-16, -2.77555756e-16, -5.55111512e-17,\n",
       "        -3.88578059e-16]])"
      ]
     },
     "execution_count": 23,
     "metadata": {},
     "output_type": "execute_result"
    }
   ],
   "source": [
    "\n",
    "Mrecon = np.dot(V,np.dot(bLambda, Vinv))\n",
    "\n",
    "\n",
    "M-Mrecon\n",
    "\n"
   ]
  },
  {
   "cell_type": "markdown",
   "id": "3097ffcd",
   "metadata": {},
   "source": [
    "The tiny difference between  **M** and **Mrecon** ($\\sim$ machine precision level) confirms that we have successfully reconstructed **M**."
   ]
  },
  {
   "cell_type": "markdown",
   "id": "26c08c7b",
   "metadata": {},
   "source": [
    "#### _Eigendecomposition of Singular Matrices_\n",
    "\n",
    "We have said before that if you have a singular matrix you are in trouble because you cannot invert that matrix.  However, you can eigendecompose a singular matrix.\n",
    "\n",
    "Here's an example:"
   ]
  },
  {
   "cell_type": "code",
   "execution_count": 24,
   "id": "ef6bf87b",
   "metadata": {},
   "outputs": [
    {
     "name": "stdout",
     "output_type": "stream",
     "text": [
      "Rank = 2 \n",
      "\n",
      "Eigenvalues: [16.12 -1.12 -0.  ]\n",
      "Eigenvectors: [[-0.46 -0.88  0.41]\n",
      " [-0.57 -0.24 -0.82]\n",
      " [-0.68  0.4   0.41]]\n"
     ]
    }
   ],
   "source": [
    "\n",
    "a=np.array([[1,4,7],[2,5,8],[3,6,9]])\n",
    "L,V=np.linalg.eig(a)\n",
    "\n",
    "print('Rank = {0} \\n'.format(np.linalg.matrix_rank(a)))\n",
    "print('Eigenvalues: {0}'.format( L.round(2)))\n",
    "print('Eigenvectors: {0}'.format(V.round(2)))\n",
    "\n",
    "#Rank = 2 \n",
    "#Eigenvalues: [16.12 -1.12 -0.  ]\n",
    "#Eigenvectors: [[-0.46 -0.88  0.41]\n",
    "# [-0.57 -0.24 -0.82]\n",
    "# [-0.68  0.4   0.41]]\n"
   ]
  },
  {
   "cell_type": "markdown",
   "id": "5795ab9c",
   "metadata": {},
   "source": [
    "This matrix has a rank of 2.  It has one zero-valued eigenvalu with a nonzero eigenvector.   \n",
    "\n",
    "For singular matrices, at least one eigenvalue is guaranteed to be zero.   This doesn'tm ean that the number of nonzero eigenvalues equals the rank of the matrix -- that's true for singular values (the scalar values from SVD) but not for eigenvalues.   But if the matrix is singular, then at least one eigenvalue equals zero.\n",
    "\n",
    "The converse is true:  every full-rank matrix has zero zero-valued eigenvalues.\n",
    "\n",
    "The point of this section: 1) eigendecomposition is valid for reduced rank matrices and 2) the presence of at least one zero-valued eigenvalue indicates a reduced-rank matrix.\n",
    "\n",
    "#### _A few other notes ..._ \n",
    "\n",
    "Now, before we get to the fun stuff there are a few other things to mention.\n",
    "\n",
    "*  Eigenvectors are stored in the Columns, not Rows. ---   Now, sometimes if you forget this, you will try to do some linear algebra operation that triggers a broadcasting error ... but not always.   So keep this in mind: columns not rows.\n",
    "\n",
    "* Sign and Scale Indeterminancy of Eigenvectors -- Go back to our example eigenvector determination of [1 1].   Sure that works.  But so does [2 2] or [-10.7 10.7] etc.   Any _scaled_ version of the vector [1 1] is a basis for that the null space.  In other words, if **v** is an eigenvector of a matrix, then so is $\\alpha$**v**, where $\\alpha$ is a non-zero scalar.\n",
    "\n",
    "* Eigendecomposition works with square matrices only -- Just thought I would repeat this point for emphasis.\n",
    "\n",
    "\n",
    "\n",
    "---\n",
    "\n",
    "Now, so far this seems a bit like SVD.   We have decomposed a matrix and get back something (eigenvalues and eigenvectors, in this case).  SVD and eigendecomposition are powerful because we can make Python _truncate_ these matrices to filter out noise (or in more jargony language, filter out the components that do not explain much of the variance we see).   And that leads us to _principle component analysis_."
   ]
  },
  {
   "cell_type": "code",
   "execution_count": null,
   "id": "1c019130",
   "metadata": {},
   "outputs": [],
   "source": []
  }
 ],
 "metadata": {
  "kernelspec": {
   "display_name": "Python 3 (ipykernel)",
   "language": "python",
   "name": "python3"
  },
  "language_info": {
   "codemirror_mode": {
    "name": "ipython",
    "version": 3
   },
   "file_extension": ".py",
   "mimetype": "text/x-python",
   "name": "python",
   "nbconvert_exporter": "python",
   "pygments_lexer": "ipython3",
   "version": "3.10.4"
  }
 },
 "nbformat": 4,
 "nbformat_minor": 5
}
