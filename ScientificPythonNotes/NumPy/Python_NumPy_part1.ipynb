{
 "cells": [
  {
   "cell_type": "markdown",
   "metadata": {},
   "source": [
    "# _Python for Scientific Data Analysis_\n",
    "\n",
    "# NumPy\n",
    "\n",
    "## Section 1: NumPy Arrays\n",
    "\n",
    "\n",
    "\n",
    "**_NumPy_**, short for \"Numerical Python\", is one of the most important foundational packages\n",
    "for numerical computing in Python as McKinney says.  In fact, it is so fundamental that it is very hard to do scientific Python without it.  Even other workhorse packages that we will hear about -- e.g. Matplotlib, Pandas -- require it for their installation.   \n",
    "\n",
    "NumPy has some key powerful tools:\n",
    "\n",
    "* _ndarray_ - technically, native Python can support arrays but NumPy arrays are much faster.  I.e. they allow fast fast array-oriented arithmetic operations and flexible broadcasting capabilities.\n",
    "*  Vectorized mathematical functions for fast operations on entire data arrays, obviating the need for loops. \n",
    "*  Tools for reading/writing array data to disk and working with memory-mapped\n",
    "files.\n",
    "* Powerful linear algebra, random number generation, and Fourier transform capabilities.\n",
    "* A C API for connecting NumPy with libraries written in C, C++, or FORTRAN.  NumPy uses very fast C code under-the-hood.   \n",
    "\n",
    "McKinney gives a whole list of other things about why NumPy is so great (which it is).   Now, NumPy doesn't do _everything_ and there are other complementary packages that perform comparable tasks (esp. SciPy).  And it doesn't really have built-in modeling capabilities like SciPy does.  But MANY libraries depend on NumPy.  So for Scientific Python, you need to know and master NumPy.\n",
    "\n",
    "As mentioned before, to utilize NumPy's capabilities you need to import the library first.  The standard is:\n",
    "\n",
    "```\n",
    "import numpy as np\n",
    "```\n",
    "\n",
    "Then different NumPy operations are simple: ``np.[do_something]``."
   ]
  },
  {
   "cell_type": "markdown",
   "metadata": {},
   "source": [
    "### Basics of NumPy Arrays\n",
    "\n",
    "\n",
    "#### _Simple Array Examples_ \n",
    "\n",
    "\n",
    "The core of NumPy is the N-dimensional array object (\"ndarray\").   Or just an \"**_array_**\" (since NumPy arrays >> native Python arrays).\n",
    "\n",
    "Here is a simple example of a NumPy array that we hard-code"
   ]
  },
  {
   "cell_type": "code",
   "execution_count": 1,
   "metadata": {},
   "outputs": [
    {
     "data": {
      "text/plain": [
       "array([3, 4, 5, 6])"
      ]
     },
     "execution_count": 1,
     "metadata": {},
     "output_type": "execute_result"
    }
   ],
   "source": [
    "\n",
    "import numpy as np\n",
    "\n",
    "test_array=np.array([3,4,5,6])\n",
    "test_array\n",
    "#array([ 3,4,5,6])\n"
   ]
  },
  {
   "cell_type": "markdown",
   "metadata": {},
   "source": [
    "And a simple example of a NumPy array that we compute:"
   ]
  },
  {
   "cell_type": "code",
   "execution_count": 2,
   "metadata": {},
   "outputs": [
    {
     "data": {
      "text/plain": [
       "array([[-0.34509174, -0.63544929],\n",
       "       [ 0.54152332, -0.58957182],\n",
       "       [ 0.4351954 , -0.78156891]])"
      ]
     },
     "execution_count": 2,
     "metadata": {},
     "output_type": "execute_result"
    }
   ],
   "source": [
    "import numpy as np\n",
    "\n",
    "#generate some random data\n",
    "test_array2 = np.random.randn(3,2)\n",
    "\n",
    "test_array2\n",
    "\n",
    "#some set of random numbers\n"
   ]
  },
  {
   "cell_type": "markdown",
   "metadata": {},
   "source": [
    "Now, we can do different operations with this array.  The simplest is arithmetic:"
   ]
  },
  {
   "cell_type": "code",
   "execution_count": 3,
   "metadata": {},
   "outputs": [
    {
     "data": {
      "text/plain": [
       "array([[-2.76073395, -5.08359428],\n",
       "       [ 4.33218654, -4.71657453],\n",
       "       [ 3.48156317, -6.25255126]])"
      ]
     },
     "execution_count": 3,
     "metadata": {},
     "output_type": "execute_result"
    }
   ],
   "source": [
    "\n",
    "test_array2mult=test_array2*8\n",
    "test_array2mult\n",
    "\n",
    "#some set of random numbers*8"
   ]
  },
  {
   "cell_type": "markdown",
   "metadata": {},
   "source": [
    "Here, the multiplication by 8 is applied element-wise to the array ``test_array2``.   \n",
    "\n",
    "\n",
    "Note that the multiplication is a _vectorized_ multiplication, equivalent to the following in a C/Fortran-like nested loop:"
   ]
  },
  {
   "cell_type": "code",
   "execution_count": 4,
   "metadata": {},
   "outputs": [
    {
     "data": {
      "text/plain": [
       "array([[-2.76073395, -5.08359428],\n",
       "       [ 4.33218654, -4.71657453],\n",
       "       [ 3.48156317, -6.25255126]])"
      ]
     },
     "execution_count": 4,
     "metadata": {},
     "output_type": "execute_result"
    }
   ],
   "source": [
    "\n",
    "test_array2mult=test_array2 #initialize data2, note: we will do this in a different way later\n",
    "\n",
    "#note: we will worry about the shape attribute later\n",
    "for i in range(test_array2.shape[0]):   \n",
    " for j in range(test_array2.shape[1]):\n",
    "  test_array2mult[i,j]=test_array2[i,j]*8\n",
    "  \n",
    "test_array2mult\n",
    "#array([[  5.09895384,   8.93271528],\n",
    "#       [-12.31303752,  -0.82507368],\n",
    "#       [-17.35463992,  -8.5727944 ]])\n"
   ]
  },
  {
   "cell_type": "markdown",
   "metadata": {},
   "source": [
    "#### _Key Array Attributes_ \n",
    "\n",
    "A NumPy array will have a lot of different attributes.   But two key ones to keep in mind are:  ``.shape`` and ``.dtype``.   \n",
    "\n",
    "1. ``.shape`` --  refers to the dimensionality of the array.   So for ``test_array`` in our example above, ``test_array.shape`` yields ``(4,)``.  That is, Python thinks that ``test_array`` is a one-dimensional array of length 4.  In this case, in fact, ``len(test_array)`` and ``test_array.shape`` give the same answer!  \n",
    "\n",
    " As is obvious, ``test_array2`` is NOT a 1D array.   But it is a 3x2 array (e.g. like a matrix).   Unsurpisingly, ``test_array2.shape`` yields ``(3, 2)``.   Similarly, the output array ``test_array2mult`` has the same dimensions.\n",
    " \n",
    "2.  ``.dtype`` -- refers to the type of data stored in the array.  NumPy arrays -- unlike lists -- require a _fixed_ data type.   ``test_array`` looks like a bunch of integers, and ``test_array.dtype`` confirms: ``dtype('int64')``.  \n",
    " "
   ]
  },
  {
   "cell_type": "markdown",
   "metadata": {},
   "source": [
    "  ``test_array2``, though, looks like a collection of not-integers (e.g. floating point entries) and it is ``test_array2.dtype`` yields ``dtype('float64')``. \n",
    "  "
   ]
  },
  {
   "cell_type": "code",
   "execution_count": 5,
   "metadata": {},
   "outputs": [
    {
     "data": {
      "text/plain": [
       "dtype('float64')"
      ]
     },
     "execution_count": 5,
     "metadata": {},
     "output_type": "execute_result"
    }
   ],
   "source": [
    "test_array2.dtype"
   ]
  },
  {
   "cell_type": "markdown",
   "metadata": {},
   "source": [
    "\n",
    "I.e. these are 64-bit floating numbers.   By default, Python stores these numbers as double-precision.   E.g. see this array:\n",
    "  "
   ]
  },
  {
   "cell_type": "code",
   "execution_count": 6,
   "metadata": {},
   "outputs": [
    {
     "name": "stdout",
     "output_type": "stream",
     "text": [
      "2.718281828459045\n",
      "3.141592653589793\n",
      "2.71828182845904509079559829842764884233474731445312\n",
      "2.7182818284590450907955982984276488423347473144531250000\n"
     ]
    }
   ],
   "source": [
    "\n",
    "  a=np.array([np.e,np.pi])\n",
    "  print(a[0])\n",
    "  #2.718281828459045\n",
    "  print(a[1])\n",
    "  #3.141592653589793\n",
    "  print('{0:.50f}'.format(a[0]))\n",
    "  #2.71828182845904509079559829842764884233474731445312\n",
    "  print('{0:.55f}'.format(a[0]))\n",
    "  #2.7182818284590450907955982984276488423347473144531250000   #now we start to get zeros\n",
    "\n",
    "  "
   ]
  },
  {
   "cell_type": "markdown",
   "metadata": {},
   "source": [
    "  Note that by default Python is _displaying_ 15 digits after the decimal point if you do not have a formatting prescribed.   For almost all cases, double-precision is good enough.  If you need more precision for whatever reason, 128 bit precision is the next step up, but this is beyond the scope of the course as its access seems platform specific.\n",
    "  "
   ]
  },
  {
   "cell_type": "markdown",
   "metadata": {},
   "source": [
    "### Creating NumPy Arrays From Lists and Tuples\n",
    "\n",
    "The easiest way to create an array is to use the ``array`` function as we did in the two previous examples.  E.g. ``[something] = np.array[somethingelse]`` in simple form.    This function accepts any sequence-like object (including other arrays) and produces a new NumPy array containing the passed data.  \n",
    "\n",
    "\n",
    "In the first example, we created a NumPy array out of a _list_  \"[3,4,5,6]\" (``np.array([3,4,5,6])``).  Essentially this is a type conversion.   We also could have done this: ``mylist=[3,4,5,6]; myarray=np.array(mylist)``.  \n",
    "\n",
    "Nested sequences, like a list of equal-length lists, will be converted into a multidimensional\n",
    "array:"
   ]
  },
  {
   "cell_type": "code",
   "execution_count": 7,
   "metadata": {},
   "outputs": [
    {
     "name": "stdout",
     "output_type": "stream",
     "text": [
      "[[3 4 5]\n",
      " [6 7 8]]\n",
      "(2, 3)\n"
     ]
    }
   ],
   "source": [
    "\n",
    "mylist2=[[3,4,5],[6,7,8]]\n",
    "myarray2=np.array(mylist2)\n",
    "print(myarray2)\n",
    "#array([[3, 4, 5],\n",
    "#      [6, 7, 8]])\n",
    "print(myarray2.shape)\n",
    "#(2,3)\n"
   ]
  },
  {
   "cell_type": "markdown",
   "metadata": {},
   "source": [
    "This also works for tuples:"
   ]
  },
  {
   "cell_type": "code",
   "execution_count": 12,
   "metadata": {},
   "outputs": [
    {
     "name": "stdout",
     "output_type": "stream",
     "text": [
      "[3 4 5 6 7 8]\n"
     ]
    },
    {
     "data": {
      "text/plain": [
       "(6,)"
      ]
     },
     "execution_count": 12,
     "metadata": {},
     "output_type": "execute_result"
    }
   ],
   "source": [
    "mytuple=3,4,5,6,7,8\n",
    "myarray3=np.array(mytuple)\n",
    "\n",
    "print(myarray3)\n",
    "#array([3, 4, 5, 6, 7, 8])\n",
    "myarray3.shape"
   ]
  },
  {
   "cell_type": "code",
   "execution_count": 13,
   "metadata": {},
   "outputs": [
    {
     "name": "stdout",
     "output_type": "stream",
     "text": [
      "[[3 4 5]\n",
      " [6 7 8]]\n"
     ]
    },
    {
     "data": {
      "text/plain": [
       "(2, 3)"
      ]
     },
     "execution_count": 13,
     "metadata": {},
     "output_type": "execute_result"
    }
   ],
   "source": [
    "mytuple2=(3,4,5),(6,7,8)\n",
    "myarray3b=np.array(mytuple2)\n",
    "\n",
    "print(myarray3b)\n",
    "#array([[3, 4, 5],\n",
    "#      [6, 7, 8]])\n",
    "myarray3b.shape"
   ]
  },
  {
   "cell_type": "markdown",
   "metadata": {},
   "source": [
    "#### _Altering Data Types in Arrays_\n",
    "Note that the default type for arrays.  In the example above, it is 'int64' since all of the list entries are integers.  "
   ]
  },
  {
   "cell_type": "code",
   "execution_count": 14,
   "metadata": {},
   "outputs": [
    {
     "name": "stdout",
     "output_type": "stream",
     "text": [
      "int64\n",
      "float64\n"
     ]
    }
   ],
   "source": [
    "print(myarray3b.dtype)\n",
    "print(test_array2.dtype)"
   ]
  },
  {
   "cell_type": "markdown",
   "metadata": {},
   "source": [
    "In the ``test_array2`` example above, it is 'float64' (i.e. double precision floating point).  Now we can convert the data type to something else.  \n",
    "\n",
    "There are a couple of ways to do this.  First you define an array as ``yourarray=np.array([list],dtype = ['name of your data type'])``.  Another way is to use the ``astype`` attribute to make Python store your array in the datatype you want.\n",
    "\n",
    "E.g."
   ]
  },
  {
   "cell_type": "code",
   "execution_count": 29,
   "metadata": {},
   "outputs": [
    {
     "name": "stdout",
     "output_type": "stream",
     "text": [
      "float64\n",
      "[2.71828183 3.14159265]\n",
      "int64\n",
      "[2 3]\n"
     ]
    }
   ],
   "source": [
    "a=np.array([np.e,np.pi])\n",
    "print(a.dtype) #'float64'\n",
    "print(a)\n",
    "\n",
    "b=a.astype('int64')\n",
    "print(b.dtype)\n",
    "print(b)"
   ]
  },
  {
   "cell_type": "code",
   "execution_count": 24,
   "metadata": {},
   "outputs": [
    {
     "name": "stdout",
     "output_type": "stream",
     "text": [
      "int64\n",
      "[2 3]\n"
     ]
    }
   ],
   "source": [
    "a=np.array([np.e,np.pi],dtype='int64')\n",
    "print(a.dtype) #'int64'\n",
    "a #array([2 3]) #note the conversion from floating point to integer!\n"
   ]
  },
  {
   "cell_type": "code",
   "execution_count": 30,
   "metadata": {},
   "outputs": [
    {
     "name": "stdout",
     "output_type": "stream",
     "text": [
      "float64 float64 int64\n",
      "float64\n"
     ]
    }
   ],
   "source": [
    "\n",
    "a=np.array([np.e,np.pi])\n",
    "b=np.array(a,dtype='float64')\n",
    "c=a.astype('int64')\n",
    "print(a.dtype,b.dtype,c.dtype)\n",
    "\n",
    "a=(np.array([np.e,np.pi])).astype('float64')\n",
    "print(a.dtype)"
   ]
  },
  {
   "cell_type": "markdown",
   "metadata": {},
   "source": [
    "### Creating NumPy Arrays from Functions\n",
    "\n",
    "Instead of only converting from lists/tuples, much like in other languages -- C, Fortran, IDL -- you can create arrays from nothing.  There are a couple of key functions for generating arrays, their shapes, and what they do as listed below (largely copied from a concatenation of Fuhrer, Sect 4.5 and McKinney Sect 4.1):\n",
    "\n",
    "| Methods| Shape | Description |\n",
    "| -------| ----------- | -------|\n",
    "| array((n,m)) | (n,m) | convert input data to array; default is to copy\n",
    "| asarray((n,m)) | (n,m) | convert to array; but do not copy if input is already an array\n",
    "||  | |\n",
    "| zeros((n,m)) | (n,m) | Matrix filled with zeros\n",
    "| zeros_like(v) | (n,m) | Matrix filled with zeros whose dimensions (n,m) are equal to that of array _v_\n",
    "| ones((n,m)) | (n,m) | Matrix filled with ones\n",
    "| ones_like(v) | (n,m) | Matrix filled with ones whose dimensions (n,m) are equal to that of array _v_\n",
    "| empty((n,m)) | (n,m) | Create new array by allocating memory but do not populate w/ any values\n",
    "| empty_like(v) | (n,m) | zeros\n",
    "| full((n,m),_q_ ) | (n,m) | Matrix filled with _q_\n",
    "| ones_like(v) | (n,m) | Matrix filled with _q_ whose dimensions (n,m) are equal to that of array _v_\n",
    "||  | |\n",
    "| diag((v,k)) | (n,n) | (Sub-,super-)diagonal matrix along k-diagonal from vector _v_ with dimensions (n,n)\n",
    "|eye(n,n), identity(n)| (n,n) | create square nxn identity matrix (1s on diagonal, 0s otherwise)\n",
    "| random.rand(n,m) | (n,m) | Matrix filled with uniformly distributed random numbers between 0 and 1\n",
    "||  | |\n",
    "| arange(n) | (n,) | First n integers\n",
    "| linspace(a,b,n) | (n,) | Vector with _n_ equispaced points between _a_ and _b_"
   ]
  },
  {
   "cell_type": "markdown",
   "metadata": {},
   "source": [
    "Note that as before, you can set the data type as a keyword.\n",
    "\n",
    "E.g. "
   ]
  },
  {
   "cell_type": "code",
   "execution_count": 31,
   "metadata": {},
   "outputs": [
    {
     "name": "stdout",
     "output_type": "stream",
     "text": [
      "float64 int64 float64 float64\n"
     ]
    }
   ],
   "source": [
    "\n",
    "a=np.full((50,50),np.pi)  #50 x50 matrix filled with pi\n",
    "b=np.full((50,50),np.pi,dtype='int64') #50 x50 matrix filled with 3s due to a type conversion\n",
    "c=np.full((50,50),np.pi,dtype='float64')  #50 x50 matrix filled with double precision\n",
    "e=np.full((50,50),np.pi).astype('float64')\n",
    "print(a.dtype,b.dtype,c.dtype,e.dtype)"
   ]
  },
  {
   "cell_type": "markdown",
   "metadata": {},
   "source": [
    "### Reading In Data and Writing Data with NumPy\n",
    "\n",
    "At some point, you will want to read data in and write data to files with some Python package.   Native Python has some functions for these -- e.g. the ``.open``, ``.write``, and ``.close`` functions.   For very simple cases, these functions are fine but for formatted input and output -- especially _mixed format_ -- you will want something a bit more powerful.  Numpy's functions are a good option.\n",
    "\n",
    "The full description of what NumPy can do is here:\n",
    "[https://numpy.org/doc/stable/user/how-to-io.html]()\n",
    "\n",
    "We are going to concentrate on two functions``loadtxt`` and ``savetxt`` which load data from a file and save data to a file.\n",
    "Numpy loadtxt enables you to load numeric data that’s stored in a text file.\n",
    "\n",
    "So, for example, if you have row-and-column data that’s stored in a text file, where the numbers are separated by commas (a so-called csv file), you can use Numpy loadtxt to load the data into your Python environment."
   ]
  },
  {
   "cell_type": "markdown",
   "metadata": {},
   "source": [
    "#### _np.loadtxt_\n",
    "\n",
    "In the simplest case, ``np.loadtxt`` is called just with a filename: e.g. ``np.loadtxt(filename)``.  The full syntax looks like this:\n",
    "\n",
    "```\n",
    "np.loadtxt(fname, dtype=’float’, comments=’#’, delimiter=None, converters=None, skiprows=0, usecols=None, unpack=False, ndmin=0)\n",
    "```\n",
    "\n",
    "Here, the dtype = 'float' means that by default the data type is floating point (you can override this)."
   ]
  },
  {
   "cell_type": "markdown",
   "metadata": {},
   "source": [
    "There are too many examples to give, so I will do just one simple example and one complex one.  \n",
    "\n",
    "Simple example - we start with a file called ``spectrum_oct17_adi.dat``.  It is located in our ``files`` subdirectory.  It is a data file for the spectrum of the HIP 99770 b planet obtained with the Subaru Telescope.  The columns are 1) wavelength (in microns), 2) flux density (mJy), 3) uncertainty on the flux density (mJy), and 4) signal-to-noise ratio of the detection.  \n",
    "\n",
    "The call is very simple:"
   ]
  },
  {
   "cell_type": "code",
   "execution_count": 32,
   "metadata": {},
   "outputs": [],
   "source": [
    "\n",
    "import numpy as np\n",
    "subdir='./files/'\n",
    "a=np.loadtxt(subdir+'spectrum_oct17_adi.dat')"
   ]
  },
  {
   "cell_type": "markdown",
   "metadata": {},
   "source": [
    "Now, if you print ``a`` you will see that this is an array of shape (22,4)"
   ]
  },
  {
   "cell_type": "code",
   "execution_count": 33,
   "metadata": {},
   "outputs": [
    {
     "name": "stdout",
     "output_type": "stream",
     "text": [
      "[[ 1.1595614  0.0501412  0.047094   1.06493  ]\n",
      " [ 1.1996971  0.111398   0.0346233  3.22408  ]\n",
      " [ 1.2412219  0.204607   0.0313525  6.57163  ]\n",
      " [ 1.284184   0.227711   0.0289869  7.93797  ]\n",
      " [ 1.3286331  0.151868   0.0213903  7.16115  ]\n",
      " [ 1.3746208  0.0653105  0.0301679  2.16645  ]\n",
      " [ 1.4222002  0.0671016  0.0260064  2.58312  ]\n",
      " [ 1.4714264  0.137951   0.0317177  4.36435  ]\n",
      " [ 1.5223564  0.13655    0.028294   4.84405  ]\n",
      " [ 1.5750496  0.234941   0.0258494  9.21372  ]\n",
      " [ 1.6295663  0.342276   0.0277978 12.6784   ]\n",
      " [ 1.6859701  0.343458   0.0344331 10.1294   ]\n",
      " [ 1.744326   0.261234   0.0250239 10.6481   ]\n",
      " [ 1.8047021  0.194305   0.0233974  8.41     ]\n",
      " [ 1.8671678  0.215942   0.0296606  7.34418  ]\n",
      " [ 1.9317957  0.255128   0.0394082  6.52757  ]\n",
      " [ 1.9986603  0.215387   0.0262965  8.31676  ]\n",
      " [ 2.0678396  0.366825   0.0334406 11.285    ]\n",
      " [ 2.1394131  0.40621    0.029048  14.7394   ]\n",
      " [ 2.2134641  0.374113   0.0317572 12.2824   ]\n",
      " [ 2.2900781  0.302754   0.0380343  8.15881  ]\n",
      " [ 2.369344   0.295742   0.0551045  5.49302  ]]\n"
     ]
    }
   ],
   "source": [
    "print(a)"
   ]
  },
  {
   "cell_type": "code",
   "execution_count": 34,
   "metadata": {},
   "outputs": [
    {
     "data": {
      "text/plain": [
       "(22, 4)"
      ]
     },
     "execution_count": 34,
     "metadata": {},
     "output_type": "execute_result"
    }
   ],
   "source": [
    "a.shape"
   ]
  },
  {
   "cell_type": "markdown",
   "metadata": {},
   "source": [
    "From here, you can assign variables:"
   ]
  },
  {
   "cell_type": "code",
   "execution_count": 35,
   "metadata": {},
   "outputs": [
    {
     "data": {
      "text/plain": [
       "dtype('float64')"
      ]
     },
     "execution_count": 35,
     "metadata": {},
     "output_type": "execute_result"
    }
   ],
   "source": [
    "wvlh=a[:,0]\n",
    "flux_mjy=a[:,1]\n",
    "eflux_mjy=a[:,2]\n",
    "snr=a[:,3]\n",
    "\n",
    "#wvlh.dtype\n",
    "flux_mjy.dtype"
   ]
  },
  {
   "cell_type": "code",
   "execution_count": 17,
   "metadata": {},
   "outputs": [
    {
     "name": "stdout",
     "output_type": "stream",
     "text": [
      "The Wavelength (Microns) is 1.160 and the Flux Density (mJy) is 0.050\n",
      "The Wavelength (Microns) is 1.200 and the Flux Density (mJy) is 0.111\n",
      "The Wavelength (Microns) is 1.241 and the Flux Density (mJy) is 0.205\n",
      "The Wavelength (Microns) is 1.284 and the Flux Density (mJy) is 0.228\n",
      "The Wavelength (Microns) is 1.329 and the Flux Density (mJy) is 0.152\n",
      "The Wavelength (Microns) is 1.375 and the Flux Density (mJy) is 0.065\n",
      "The Wavelength (Microns) is 1.422 and the Flux Density (mJy) is 0.067\n",
      "The Wavelength (Microns) is 1.471 and the Flux Density (mJy) is 0.138\n",
      "The Wavelength (Microns) is 1.522 and the Flux Density (mJy) is 0.137\n",
      "The Wavelength (Microns) is 1.575 and the Flux Density (mJy) is 0.235\n",
      "The Wavelength (Microns) is 1.630 and the Flux Density (mJy) is 0.342\n",
      "The Wavelength (Microns) is 1.686 and the Flux Density (mJy) is 0.343\n",
      "The Wavelength (Microns) is 1.744 and the Flux Density (mJy) is 0.261\n",
      "The Wavelength (Microns) is 1.805 and the Flux Density (mJy) is 0.194\n",
      "The Wavelength (Microns) is 1.867 and the Flux Density (mJy) is 0.216\n",
      "The Wavelength (Microns) is 1.932 and the Flux Density (mJy) is 0.255\n",
      "The Wavelength (Microns) is 1.999 and the Flux Density (mJy) is 0.215\n",
      "The Wavelength (Microns) is 2.068 and the Flux Density (mJy) is 0.367\n",
      "The Wavelength (Microns) is 2.139 and the Flux Density (mJy) is 0.406\n",
      "The Wavelength (Microns) is 2.213 and the Flux Density (mJy) is 0.374\n",
      "The Wavelength (Microns) is 2.290 and the Flux Density (mJy) is 0.303\n",
      "The Wavelength (Microns) is 2.369 and the Flux Density (mJy) is 0.296\n"
     ]
    }
   ],
   "source": [
    "#printing out the wavelength and flux density\n",
    "\n",
    "\n",
    "\n",
    "for i in range(0,len(wvlh)):\n",
    "    print('The Wavelength (Microns) is {0:.3f} and the Flux Density (mJy) is {1:.3f}'.format(wvlh[i],flux_mjy[i]))\n",
    "   # print('The Wavelength (Microns) is {0:.3f} and the Flux Density (mJy) is {1:.3f}'.format(a,b))"
   ]
  },
  {
   "cell_type": "markdown",
   "metadata": {},
   "source": [
    "Later, we will show how to plot these kinds of data with _Matplotlib_\n",
    "\n",
    "\n",
    "\n",
    "Complex example - the above example was a simple read of file entries, all of which were floating-point numbers.   Now let's try something tricker ...\n",
    "\n",
    "Here's a mixed-format file of GKM stars within 50 parsecs, where we record the name, the spectral type, and lots of other information about the stars, including their x-ray activity levels.\n",
    "\n",
    "Now, ``loadtxt`` allows us to specify additional things: e.g. which columns to use (usecols) and the data types (dtypes).  dtype can further be unpacked into 'names' and 'formats'.  Watch what happens"
   ]
  },
  {
   "cell_type": "code",
   "execution_count": 36,
   "metadata": {},
   "outputs": [
    {
     "data": {
      "text/plain": [
       "dtype('float64')"
      ]
     },
     "execution_count": 36,
     "metadata": {},
     "output_type": "execute_result"
    }
   ],
   "source": [
    "\n",
    "infile='gkm_50pc_plus_gaia_and_cahk'\n",
    "table=np.loadtxt(subdir+infile,dtype=np.unicode_)\n",
    "hgca_name=table[:,0].astype(str)\n",
    "hgca_spectype=table[:,1].astype(str)\n",
    "hgca_bmv=table[:,10].astype(float)\n",
    "hgca_cahk=table[:,11].astype(float)\n",
    "hgca_mass=table[:,2].astype(float)\n",
    "hgca_ra=table[:,4].astype(float)\n",
    "hgca_dec=table[:,5].astype(float)\n",
    "plx=table[:,6].astype(float)\n",
    "\n",
    "\n",
    "#now all the elements are properly read in\n",
    "\n",
    "plx.dtype"
   ]
  },
  {
   "cell_type": "markdown",
   "metadata": {},
   "source": [
    "Here's another, more complex example for the spectrum of AB Aur b.  Here, we tell Python what all the data types are ahead of time.  Furthermore, we give each column a name so that we can more sleekly read in variables."
   ]
  },
  {
   "cell_type": "code",
   "execution_count": 37,
   "metadata": {},
   "outputs": [
    {
     "name": "stdout",
     "output_type": "stream",
     "text": [
      "The Wavelength, Flux Density and Error is 1.160, 1.254, and 0.231\n",
      "The Wavelength, Flux Density and Error is 1.200, 1.349, and 0.200\n",
      "The Wavelength, Flux Density and Error is 1.241, 1.334, and 0.251\n",
      "The Wavelength, Flux Density and Error is 1.284, 1.368, and 0.250\n",
      "The Wavelength, Flux Density and Error is 1.329, 1.340, and 0.304\n",
      "The Wavelength, Flux Density and Error is 1.375, 0.938, and 0.220\n",
      "The Wavelength, Flux Density and Error is 1.422, 1.310, and 0.257\n",
      "The Wavelength, Flux Density and Error is 1.471, 1.305, and 0.295\n",
      "The Wavelength, Flux Density and Error is 1.522, 1.309, and 0.268\n",
      "The Wavelength, Flux Density and Error is 1.575, 1.494, and 0.217\n",
      "The Wavelength, Flux Density and Error is 1.630, 1.480, and 0.256\n",
      "The Wavelength, Flux Density and Error is 1.686, 1.549, and 0.300\n",
      "The Wavelength, Flux Density and Error is 1.744, 1.762, and 0.274\n",
      "The Wavelength, Flux Density and Error is 1.805, 1.718, and 0.290\n",
      "The Wavelength, Flux Density and Error is 1.867, 1.560, and 0.256\n",
      "The Wavelength, Flux Density and Error is 1.932, 1.878, and 0.284\n",
      "The Wavelength, Flux Density and Error is 1.999, 1.731, and 0.351\n",
      "The Wavelength, Flux Density and Error is 2.068, 1.848, and 0.328\n",
      "The Wavelength, Flux Density and Error is 2.139, 1.723, and 0.388\n",
      "The Wavelength, Flux Density and Error is 2.213, 1.491, and 0.278\n",
      "The Wavelength, Flux Density and Error is 2.290, 1.304, and 0.263\n",
      "The Wavelength, Flux Density and Error is 2.369, 1.720, and 0.353\n"
     ]
    }
   ],
   "source": [
    "dtypes={'names':('wavelength','flux','error'),\\\n",
    "'formats':(np.float64,np.float64,np.float64)}\n",
    "\n",
    "x=np.loadtxt(subdir+'spectrum_aloci_jan18.dat',usecols=range(3),dtype=dtypes)\n",
    "\n",
    "wavelength=x['wavelength']\n",
    "flux_a=x['flux']\n",
    "error_a=x['error']\n",
    "\n",
    "for a,b,c in zip(wavelength,flux_a,error_a):\n",
    "    print('The Wavelength, Flux Density and Error is {0:.3f}, {1:.3f}, and {2:.3f}'.format(a,b,c))"
   ]
  },
  {
   "cell_type": "markdown",
   "metadata": {},
   "source": [
    "#### _np.savetxt_\n",
    "\n",
    "Saving files follows the same format:\n",
    "\n",
    "``np.savetxt(filename,(columns of data),other keywords)`` EXCEPT THAT ``savetxt`` does this wonky thing where it saves arrays as _rows_, not columns.   The work-around is to do some transposing with the ``column_stack`` function that we will hear about later.  Much later we will also hear about an alternate write function within the AstroPy package that is, in my opinion, much better."
   ]
  },
  {
   "cell_type": "markdown",
   "metadata": {},
   "source": [
    "Finally, we can include formatted print output statements:"
   ]
  },
  {
   "cell_type": "code",
   "execution_count": 38,
   "metadata": {},
   "outputs": [],
   "source": [
    "\n",
    "a=np.loadtxt(subdir+'spectrum_oct17_adi.dat')\n",
    "wvlh=a[:,0]\n",
    "flux=a[:,1]\n",
    "eflux=a[:,2]\n",
    "np.savetxt(subdir+'testme2.txt',np.column_stack((wvlh,flux,eflux)),fmt=\"%.3f\" \" \" \"%.2f\" \" \" \"%.2f\")"
   ]
  },
  {
   "cell_type": "code",
   "execution_count": null,
   "metadata": {},
   "outputs": [],
   "source": []
  }
 ],
 "metadata": {
  "kernelspec": {
   "display_name": "Python 3 (ipykernel)",
   "language": "python",
   "name": "python3"
  },
  "language_info": {
   "codemirror_mode": {
    "name": "ipython",
    "version": 3
   },
   "file_extension": ".py",
   "mimetype": "text/x-python",
   "name": "python",
   "nbconvert_exporter": "python",
   "pygments_lexer": "ipython3",
   "version": "3.12.4"
  }
 },
 "nbformat": 4,
 "nbformat_minor": 4
}
