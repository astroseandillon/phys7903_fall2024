{
 "cells": [
  {
   "cell_type": "markdown",
   "metadata": {},
   "source": [
    "# _Python for Scientific Data Analysis_\n",
    "\n",
    "# NumPy/SciPy\n",
    "\n",
    "## Section 4: More Array Operations: Concatenating, Stacking and Splitting, Repeating, and Meshgrid; Array Broadcasting\n",
    "\n",
    "### Concatenation \n",
    "\n",
    "#### _concatenating vectors and matrices_ \n",
    "\n",
    "NumPy allows a fairly straightforward way to concatenate arrays with the ``np.concatenate`` function.   The function accepts a list of arrays (i.e. enclosed by [ ]). Here's an example:"
   ]
  },
  {
   "cell_type": "code",
   "execution_count": 4,
   "metadata": {},
   "outputs": [
    {
     "name": "stdout",
     "output_type": "stream",
     "text": [
      "[[-0.60420594  0.77760138 -0.34556717  0.10818886]\n",
      " [ 0.5676424   1.04884126  0.92071367 -0.33600685]\n",
      " [-0.6102725   0.22099141 -0.28742492  1.53369688]\n",
      " [-1.16337195 -1.03147184 -0.02566285  0.12433982]\n",
      " [ 0.59715548 -0.05129267  0.12684328  0.65785089]]\n",
      "\n",
      "[[-0.55855696  0.69580998 -0.17453603 -0.05199762]\n",
      " [ 0.49821526  0.93997613  0.97315659 -0.09388734]\n",
      " [-0.7265761   0.21241606 -0.1572816   1.48832164]\n",
      " [-1.15668786 -1.16209237 -0.08928653  0.01128033]\n",
      " [ 0.74298213 -0.23702775 -0.08153408  0.62265544]]\n",
      "\n",
      "[[-0.60420594  0.77760138 -0.34556717  0.10818886]\n",
      " [ 0.5676424   1.04884126  0.92071367 -0.33600685]\n",
      " [-0.6102725   0.22099141 -0.28742492  1.53369688]\n",
      " [-1.16337195 -1.03147184 -0.02566285  0.12433982]\n",
      " [ 0.59715548 -0.05129267  0.12684328  0.65785089]\n",
      " [-0.55855696  0.69580998 -0.17453603 -0.05199762]\n",
      " [ 0.49821526  0.93997613  0.97315659 -0.09388734]\n",
      " [-0.7265761   0.21241606 -0.1572816   1.48832164]\n",
      " [-1.15668786 -1.16209237 -0.08928653  0.01128033]\n",
      " [ 0.74298213 -0.23702775 -0.08153408  0.62265544]]\n",
      "(5, 4) (10, 4)\n"
     ]
    }
   ],
   "source": [
    "import numpy as np\n",
    "\n",
    "\n",
    "arr = np.random.randn(5, 4)\n",
    "print(arr)\n",
    "print('')\n",
    "arr2=arr+np.random.randn(arr.shape[0],arr.shape[1])*0.1  #create another array that is just slightly different from the first one\n",
    "\n",
    "print(arr2)\n",
    "\n",
    "print('')\n",
    "arr3=np.concatenate([arr,arr2])\n",
    "\n",
    "print(arr3)\n",
    "\n",
    "print(arr2.shape, arr3.shape)"
   ]
  },
  {
   "cell_type": "markdown",
   "metadata": {},
   "source": [
    "Note that the ``shape`` of the two input arrays  -- ``arr`` and ``arr2`` -- are each (5,4).   And the shape of the concatenated array is (10,4) (ten rows and four columns).  Now we can invoke the ``axis`` keyword to control _how_ these arrays are concatenated.  I.e. "
   ]
  },
  {
   "cell_type": "code",
   "execution_count": 6,
   "metadata": {},
   "outputs": [
    {
     "name": "stdout",
     "output_type": "stream",
     "text": [
      "[[-0.60420594  0.77760138 -0.34556717  0.10818886 -0.55855696  0.69580998\n",
      "  -0.17453603 -0.05199762]\n",
      " [ 0.5676424   1.04884126  0.92071367 -0.33600685  0.49821526  0.93997613\n",
      "   0.97315659 -0.09388734]\n",
      " [-0.6102725   0.22099141 -0.28742492  1.53369688 -0.7265761   0.21241606\n",
      "  -0.1572816   1.48832164]\n",
      " [-1.16337195 -1.03147184 -0.02566285  0.12433982 -1.15668786 -1.16209237\n",
      "  -0.08928653  0.01128033]\n",
      " [ 0.59715548 -0.05129267  0.12684328  0.65785089  0.74298213 -0.23702775\n",
      "  -0.08153408  0.62265544]]\n",
      "(5, 8)\n"
     ]
    }
   ],
   "source": [
    "\n",
    "arr4=np.concatenate([arr,arr2],axis=1)\n",
    "\n",
    "print(arr4)\n",
    "\n",
    "print(arr4.shape)"
   ]
  },
  {
   "cell_type": "markdown",
   "metadata": {},
   "source": [
    "This yields an array ``arr4`` with a shape of (5,8) (i.e now we have five rows and eight columns)."
   ]
  },
  {
   "cell_type": "markdown",
   "metadata": {},
   "source": [
    "### Stacking and Splitting\n",
    "\n",
    "#### _array stacking_\n",
    "\n",
    "In the previous sections you found how you can create NumPy arrays as 1-D vectors and then reshape these 1-D vectors into 2-D arrays (matrices).   And you also saw how to combine arrays together via concatenation.   Now if, for whatever reason, you just are philsophically opposed to concatenation never fear: there is another NumPy operation at your disposal: _stacking_.   There are a couple of ways to stack arrays.\n",
    "\n",
    "* _hstack_ - stacks arrays horizontally\n",
    "* _vstack_ - stacks arrays vertically\n",
    "* _columnstack_ stacks vectors in columns\n",
    "\n",
    "A simple example:"
   ]
  },
  {
   "cell_type": "code",
   "execution_count": 7,
   "metadata": {},
   "outputs": [],
   "source": [
    "newarr=np.array([1,2,3,4,5])\n",
    "newarr2=np.array([6,7,8,9,10])"
   ]
  },
  {
   "cell_type": "code",
   "execution_count": 8,
   "metadata": {},
   "outputs": [
    {
     "data": {
      "text/plain": [
       "array([[ 1,  2,  3,  4,  5],\n",
       "       [ 6,  7,  8,  9, 10]])"
      ]
     },
     "execution_count": 8,
     "metadata": {},
     "output_type": "execute_result"
    }
   ],
   "source": [
    "np.vstack([newarr,newarr2])"
   ]
  },
  {
   "cell_type": "code",
   "execution_count": 9,
   "metadata": {},
   "outputs": [
    {
     "data": {
      "text/plain": [
       "array([ 1,  2,  3,  4,  5,  6,  7,  8,  9, 10])"
      ]
     },
     "execution_count": 9,
     "metadata": {},
     "output_type": "execute_result"
    }
   ],
   "source": [
    "np.hstack([newarr,newarr2])"
   ]
  },
  {
   "cell_type": "code",
   "execution_count": 10,
   "metadata": {},
   "outputs": [
    {
     "data": {
      "text/plain": [
       "array([[ 1,  6],\n",
       "       [ 2,  7],\n",
       "       [ 3,  8],\n",
       "       [ 4,  9],\n",
       "       [ 5, 10]])"
      ]
     },
     "execution_count": 10,
     "metadata": {},
     "output_type": "execute_result"
    }
   ],
   "source": [
    "np.column_stack([newarr,newarr2])"
   ]
  },
  {
   "cell_type": "markdown",
   "metadata": {},
   "source": [
    "A slightly more involved example with a matrix instead of a 1-D vector."
   ]
  },
  {
   "cell_type": "code",
   "execution_count": 11,
   "metadata": {},
   "outputs": [
    {
     "data": {
      "text/plain": [
       "array([[-0.60420594,  0.77760138, -0.34556717,  0.10818886],\n",
       "       [ 0.5676424 ,  1.04884126,  0.92071367, -0.33600685],\n",
       "       [-0.6102725 ,  0.22099141, -0.28742492,  1.53369688],\n",
       "       [-1.16337195, -1.03147184, -0.02566285,  0.12433982],\n",
       "       [ 0.59715548, -0.05129267,  0.12684328,  0.65785089],\n",
       "       [-0.55855696,  0.69580998, -0.17453603, -0.05199762],\n",
       "       [ 0.49821526,  0.93997613,  0.97315659, -0.09388734],\n",
       "       [-0.7265761 ,  0.21241606, -0.1572816 ,  1.48832164],\n",
       "       [-1.15668786, -1.16209237, -0.08928653,  0.01128033],\n",
       "       [ 0.74298213, -0.23702775, -0.08153408,  0.62265544]])"
      ]
     },
     "execution_count": 11,
     "metadata": {},
     "output_type": "execute_result"
    }
   ],
   "source": [
    "arr5=np.vstack([arr,arr2])\n",
    "arr5"
   ]
  },
  {
   "cell_type": "code",
   "execution_count": 13,
   "metadata": {},
   "outputs": [
    {
     "name": "stdout",
     "output_type": "stream",
     "text": [
      "[[0. 0. 0. 0. 0. 0. 0. 0.]\n",
      " [0. 0. 0. 0. 0. 0. 0. 0.]\n",
      " [0. 0. 0. 0. 0. 0. 0. 0.]\n",
      " [0. 0. 0. 0. 0. 0. 0. 0.]\n",
      " [0. 0. 0. 0. 0. 0. 0. 0.]]\n"
     ]
    }
   ],
   "source": [
    "      \n",
    "arr6=np.hstack([arr,arr2])\n",
    "arr6"
   ]
  },
  {
   "cell_type": "markdown",
   "metadata": {},
   "source": [
    "\n",
    "You'll notice that in these cases the resulting arrays ``arr5`` and ``arr6`` are identical to ``arr3`` and ``arr4``, respectively."
   ]
  },
  {
   "cell_type": "code",
   "execution_count": 14,
   "metadata": {},
   "outputs": [
    {
     "name": "stdout",
     "output_type": "stream",
     "text": [
      "[[0. 0. 0. 0.]\n",
      " [0. 0. 0. 0.]\n",
      " [0. 0. 0. 0.]\n",
      " [0. 0. 0. 0.]\n",
      " [0. 0. 0. 0.]\n",
      " [0. 0. 0. 0.]\n",
      " [0. 0. 0. 0.]\n",
      " [0. 0. 0. 0.]\n",
      " [0. 0. 0. 0.]\n",
      " [0. 0. 0. 0.]]\n",
      "[[0. 0. 0. 0. 0. 0. 0. 0.]\n",
      " [0. 0. 0. 0. 0. 0. 0. 0.]\n",
      " [0. 0. 0. 0. 0. 0. 0. 0.]\n",
      " [0. 0. 0. 0. 0. 0. 0. 0.]\n",
      " [0. 0. 0. 0. 0. 0. 0. 0.]]\n"
     ]
    }
   ],
   "source": [
    "print(arr5-arr3)\n",
    "print(arr6-arr4)"
   ]
  },
  {
   "cell_type": "markdown",
   "metadata": {},
   "source": [
    "#### _array splitting_\n",
    "\n",
    "``split``  slices apart an array into multiple arrays along an axis .  For example, starting with ``arr3`` from before"
   ]
  },
  {
   "cell_type": "code",
   "execution_count": 16,
   "metadata": {},
   "outputs": [
    {
     "name": "stdout",
     "output_type": "stream",
     "text": [
      "[[-0.60420594  0.77760138 -0.34556717  0.10818886]\n",
      " [ 0.5676424   1.04884126  0.92071367 -0.33600685]\n",
      " [-0.6102725   0.22099141 -0.28742492  1.53369688]\n",
      " [-1.16337195 -1.03147184 -0.02566285  0.12433982]\n",
      " [ 0.59715548 -0.05129267  0.12684328  0.65785089]\n",
      " [-0.55855696  0.69580998 -0.17453603 -0.05199762]\n",
      " [ 0.49821526  0.93997613  0.97315659 -0.09388734]\n",
      " [-0.7265761   0.21241606 -0.1572816   1.48832164]\n",
      " [-1.15668786 -1.16209237 -0.08928653  0.01128033]\n",
      " [ 0.74298213 -0.23702775 -0.08153408  0.62265544]]\n",
      "\n",
      "[[-0.60420594  0.77760138 -0.34556717  0.10818886]]\n",
      "\n",
      "[[ 0.5676424   1.04884126  0.92071367 -0.33600685]\n",
      " [-0.6102725   0.22099141 -0.28742492  1.53369688]\n",
      " [-1.16337195 -1.03147184 -0.02566285  0.12433982]\n",
      " [ 0.59715548 -0.05129267  0.12684328  0.65785089]\n",
      " [-0.55855696  0.69580998 -0.17453603 -0.05199762]\n",
      " [ 0.49821526  0.93997613  0.97315659 -0.09388734]\n",
      " [-0.7265761   0.21241606 -0.1572816   1.48832164]\n",
      " [-1.15668786 -1.16209237 -0.08928653  0.01128033]\n",
      " [ 0.74298213 -0.23702775 -0.08153408  0.62265544]]\n"
     ]
    }
   ],
   "source": [
    "\n",
    "print(arr3)\n",
    "       \n",
    "print('')\n",
    "first,second=np.split(arr3,[1])\n",
    "\n",
    "print(first)\n",
    "\n",
    "print('')\n",
    "print(second)\n",
    "\n",
    "      "
   ]
  },
  {
   "cell_type": "code",
   "execution_count": 19,
   "metadata": {},
   "outputs": [
    {
     "name": "stdout",
     "output_type": "stream",
     "text": [
      "[[-0.60420594  0.77760138 -0.34556717  0.10818886]\n",
      " [ 0.5676424   1.04884126  0.92071367 -0.33600685]\n",
      " [-0.6102725   0.22099141 -0.28742492  1.53369688]\n",
      " [-1.16337195 -1.03147184 -0.02566285  0.12433982]\n",
      " [ 0.59715548 -0.05129267  0.12684328  0.65785089]\n",
      " [-0.55855696  0.69580998 -0.17453603 -0.05199762]\n",
      " [ 0.49821526  0.93997613  0.97315659 -0.09388734]\n",
      " [-0.7265761   0.21241606 -0.1572816   1.48832164]\n",
      " [-1.15668786 -1.16209237 -0.08928653  0.01128033]\n",
      " [ 0.74298213 -0.23702775 -0.08153408  0.62265544]]\n",
      "\n",
      "[[-0.60420594  0.77760138 -0.34556717  0.10818886]\n",
      " [ 0.5676424   1.04884126  0.92071367 -0.33600685]]\n",
      "\n",
      "[[-0.6102725   0.22099141 -0.28742492  1.53369688]\n",
      " [-1.16337195 -1.03147184 -0.02566285  0.12433982]]\n",
      "\n",
      "[[ 0.59715548 -0.05129267  0.12684328  0.65785089]\n",
      " [-0.55855696  0.69580998 -0.17453603 -0.05199762]\n",
      " [ 0.49821526  0.93997613  0.97315659 -0.09388734]\n",
      " [-0.7265761   0.21241606 -0.1572816   1.48832164]\n",
      " [-1.15668786 -1.16209237 -0.08928653  0.01128033]\n",
      " [ 0.74298213 -0.23702775 -0.08153408  0.62265544]]\n",
      "\n",
      "[[-0.60420594]\n",
      " [ 0.5676424 ]\n",
      " [-0.6102725 ]\n",
      " [-1.16337195]\n",
      " [ 0.59715548]\n",
      " [-0.55855696]\n",
      " [ 0.49821526]\n",
      " [-0.7265761 ]\n",
      " [-1.15668786]\n",
      " [ 0.74298213]]\n",
      "[[ 0.77760138 -0.34556717  0.10818886]\n",
      " [ 1.04884126  0.92071367 -0.33600685]\n",
      " [ 0.22099141 -0.28742492  1.53369688]\n",
      " [-1.03147184 -0.02566285  0.12433982]\n",
      " [-0.05129267  0.12684328  0.65785089]\n",
      " [ 0.69580998 -0.17453603 -0.05199762]\n",
      " [ 0.93997613  0.97315659 -0.09388734]\n",
      " [ 0.21241606 -0.1572816   1.48832164]\n",
      " [-1.16209237 -0.08928653  0.01128033]\n",
      " [-0.23702775 -0.08153408  0.62265544]]\n"
     ]
    }
   ],
   "source": [
    "print(arr3)\n",
    "print('')\n",
    "first,second,third=np.split(arr3,[2,4])\n",
    "\n",
    "print(first)\n",
    "print('')\n",
    "print(second)\n",
    "print('')\n",
    "print(third)\n",
    "print('')\n",
    "       \n",
    "first,second=np.split(arr3,[1],axis=1)\n",
    "\n",
    "print(first)\n",
    "\n",
    "print(second)"
   ]
  },
  {
   "cell_type": "markdown",
   "metadata": {},
   "source": [
    "### Repeating Array Elements\n",
    "\n",
    "It's often useful to create an array that is a repeat or replication of another array some number of times.   E.g. IDL's replicate function does this for scalars: with some trickery you can make it work for vectors and arrays.   Python has stand-alone functions for exactly this purpose.\n",
    "\n",
    "Two useful tools for repeating or replicating arrays to produce larger arrays are the\n",
    "``repeat`` and ``tile`` functions. \n",
    "\n",
    "``repeat`` replicates each element in an array some number\n",
    "of times, producing a larger array.  E.g."
   ]
  },
  {
   "cell_type": "code",
   "execution_count": 24,
   "metadata": {},
   "outputs": [
    {
     "data": {
      "text/plain": [
       "array([0, 1, 2])"
      ]
     },
     "execution_count": 24,
     "metadata": {},
     "output_type": "execute_result"
    }
   ],
   "source": [
    "a=np.arange(3)\n",
    "#array([0,1,2])\n",
    "a"
   ]
  },
  {
   "cell_type": "code",
   "execution_count": 23,
   "metadata": {},
   "outputs": [
    {
     "data": {
      "text/plain": [
       "array([0, 0, 0, 1, 1, 1, 2, 2, 2])"
      ]
     },
     "execution_count": 23,
     "metadata": {},
     "output_type": "execute_result"
    }
   ],
   "source": [
    "a.repeat(3)\n",
    "#array([0, 0, 0, 1, 1, 1, 2, 2, 2])"
   ]
  },
  {
   "cell_type": "markdown",
   "metadata": {},
   "source": [
    "By default, if you pass an integer, each element will be repeated that number of times.\n",
    "If you pass an array of integers, each element can be repeated a different number of\n",
    "times:"
   ]
  },
  {
   "cell_type": "code",
   "execution_count": 25,
   "metadata": {},
   "outputs": [
    {
     "data": {
      "text/plain": [
       "array([0, 0, 1, 1, 1, 2, 2, 2, 2])"
      ]
     },
     "execution_count": 25,
     "metadata": {},
     "output_type": "execute_result"
    }
   ],
   "source": [
    "\n",
    "a.repeat([2,3,4])\n",
    "#array([0, 0, 1, 1, 1, 2, 2, 2, 2])\n"
   ]
  },
  {
   "cell_type": "markdown",
   "metadata": {},
   "source": [
    "Multidimensional arrays can have their elements repeated along a particular axis."
   ]
  },
  {
   "cell_type": "code",
   "execution_count": 29,
   "metadata": {},
   "outputs": [
    {
     "data": {
      "text/plain": [
       "array([[-0.77364227,  1.18296869],\n",
       "       [-0.45712094,  0.94071693]])"
      ]
     },
     "execution_count": 29,
     "metadata": {},
     "output_type": "execute_result"
    }
   ],
   "source": [
    "arr = np.random.randn(2, 2)\n",
    "arr"
   ]
  },
  {
   "cell_type": "code",
   "execution_count": 30,
   "metadata": {},
   "outputs": [
    {
     "data": {
      "text/plain": [
       "array([[-0.77364227,  1.18296869],\n",
       "       [-0.77364227,  1.18296869],\n",
       "       [-0.45712094,  0.94071693],\n",
       "       [-0.45712094,  0.94071693]])"
      ]
     },
     "execution_count": 30,
     "metadata": {},
     "output_type": "execute_result"
    }
   ],
   "source": [
    "arr.repeat(2,axis=0)\n",
    "\n",
    "  "
   ]
  },
  {
   "cell_type": "code",
   "execution_count": 31,
   "metadata": {},
   "outputs": [
    {
     "data": {
      "text/plain": [
       "array([[-0.77364227, -0.77364227,  1.18296869,  1.18296869],\n",
       "       [-0.45712094, -0.45712094,  0.94071693,  0.94071693]])"
      ]
     },
     "execution_count": 31,
     "metadata": {},
     "output_type": "execute_result"
    }
   ],
   "source": [
    "     \n",
    "arr.repeat(2,axis=1)"
   ]
  },
  {
   "cell_type": "markdown",
   "metadata": {},
   "source": [
    "Note that if no axis is passed, the array will be flattened first, which is likely not what\n",
    "you want. Similarly, you can pass an array of integers when repeating a multidimensional\n",
    "array to repeat a given slice a different number of times:"
   ]
  },
  {
   "cell_type": "code",
   "execution_count": 32,
   "metadata": {},
   "outputs": [
    {
     "data": {
      "text/plain": [
       "array([[-0.77364227,  1.18296869],\n",
       "       [-0.77364227,  1.18296869],\n",
       "       [-0.77364227,  1.18296869],\n",
       "       [-0.45712094,  0.94071693],\n",
       "       [-0.45712094,  0.94071693]])"
      ]
     },
     "execution_count": 32,
     "metadata": {},
     "output_type": "execute_result"
    }
   ],
   "source": [
    "arr.repeat([3,2], axis=0)"
   ]
  },
  {
   "cell_type": "markdown",
   "metadata": {},
   "source": [
    "``tile`` is different. tile, on the other hand, is a shortcut for stacking copies of an array along an axis.\n",
    "Visually you can think of it as being akin to “laying down tiles”:"
   ]
  },
  {
   "cell_type": "code",
   "execution_count": 33,
   "metadata": {},
   "outputs": [
    {
     "name": "stdout",
     "output_type": "stream",
     "text": [
      "[[-0.77364227  1.18296869]\n",
      " [-0.45712094  0.94071693]]\n"
     ]
    },
    {
     "data": {
      "text/plain": [
       "array([[-0.77364227,  1.18296869, -0.77364227,  1.18296869],\n",
       "       [-0.45712094,  0.94071693, -0.45712094,  0.94071693]])"
      ]
     },
     "execution_count": 33,
     "metadata": {},
     "output_type": "execute_result"
    }
   ],
   "source": [
    "\n",
    "print(arr)\n",
    "       \n",
    "np.tile(arr,2)\n"
   ]
  },
  {
   "cell_type": "markdown",
   "metadata": {},
   "source": [
    "The second argument is the number of tiles; with a scalar, the tiling is made row by\n",
    "row, rather than column by column. The second argument to tile can be a tuple\n",
    "indicating the layout of the “tiling”:"
   ]
  },
  {
   "cell_type": "code",
   "execution_count": 34,
   "metadata": {},
   "outputs": [
    {
     "name": "stdout",
     "output_type": "stream",
     "text": [
      "[[-0.77364227  1.18296869]\n",
      " [-0.45712094  0.94071693]\n",
      " [-0.77364227  1.18296869]\n",
      " [-0.45712094  0.94071693]]\n",
      "\n",
      "[[-0.77364227  1.18296869 -0.77364227  1.18296869]\n",
      " [-0.45712094  0.94071693 -0.45712094  0.94071693]]\n",
      "\n",
      "[[-0.77364227  1.18296869 -0.77364227  1.18296869]\n",
      " [-0.45712094  0.94071693 -0.45712094  0.94071693]\n",
      " [-0.77364227  1.18296869 -0.77364227  1.18296869]\n",
      " [-0.45712094  0.94071693 -0.45712094  0.94071693]\n",
      " [-0.77364227  1.18296869 -0.77364227  1.18296869]\n",
      " [-0.45712094  0.94071693 -0.45712094  0.94071693]]\n"
     ]
    }
   ],
   "source": [
    "\n",
    "print(np.tile(arr,(2,1)))\n",
    "\n",
    "print('')\n",
    "\n",
    "       \n",
    "print(np.tile(arr,(1,2)))\n",
    "\n",
    "print('')\n",
    "print(np.tile(arr,(3,2)))\n",
    "\n"
   ]
  },
  {
   "cell_type": "markdown",
   "metadata": {},
   "source": [
    "### Meshgrid\n",
    "\n",
    "NumPy arrays allow you to vectorize array expressions that might otherwise require writing loops (which Python is a lot slower at than C, Fortran, and Julia).   \n",
    "\n",
    "One example of this is the ``np.meshgrid`` function, which takes two one-dimensional arrays and produces two two-dimensional matrices corresponding to all pairs of (x,y) in the two arrays.  \n",
    "\n",
    "E.g."
   ]
  },
  {
   "cell_type": "code",
   "execution_count": 36,
   "metadata": {},
   "outputs": [
    {
     "name": "stdout",
     "output_type": "stream",
     "text": [
      "1000 (1000, 1000) (1000, 1000)\n"
     ]
    }
   ],
   "source": [
    "\n",
    "points=np.arange(-5,5,0.01)\n",
    "xs,ys= np.meshgrid(points,points) #returns a two-element list of NumPy arrays\n",
    "\n",
    "print(len(points),xs.shape,ys.shape)"
   ]
  },
  {
   "cell_type": "markdown",
   "metadata": {},
   "source": [
    "Here, both xs and ys are arrays of dimension(1000,1000).\n",
    "\n",
    "The use of ``meshgrid`` is that it allows an easy evaluation of functions of x and y (i.e. f(x,y))."
   ]
  },
  {
   "cell_type": "markdown",
   "metadata": {},
   "source": [
    "### Array Broadcasting\n",
    "\n",
    "Broadcasting refers to how arithmetic works between NumPy arrays of different shapes.  E.g. a vector array and a scalar.  "
   ]
  },
  {
   "cell_type": "code",
   "execution_count": 37,
   "metadata": {},
   "outputs": [
    {
     "data": {
      "text/plain": [
       "array([ 0,  4,  8, 12, 16])"
      ]
     },
     "execution_count": 37,
     "metadata": {},
     "output_type": "execute_result"
    }
   ],
   "source": [
    "arr=np.arange(5)\n",
    "\n",
    "arr*4\n"
   ]
  },
  {
   "cell_type": "markdown",
   "metadata": {},
   "source": [
    "Here, the array ``arr`` is not repeated four times but instead each element of the array is multiplied by a scalar value of 4.   We say that four is _broadcast_ to all of the array elements.   \n",
    "\n",
    "For example, we can demean each column of an array by subtracting the column\n",
    "means. In this case, it is very simple:"
   ]
  },
  {
   "cell_type": "code",
   "execution_count": 42,
   "metadata": {},
   "outputs": [
    {
     "name": "stdout",
     "output_type": "stream",
     "text": [
      "[[-0.02130007 -1.0373789   2.4572157 ]\n",
      " [-0.59071767 -0.21009829  0.5146266 ]\n",
      " [-1.0156085  -0.37829766  0.87956382]\n",
      " [-0.90302399  0.77699065  1.3842623 ]]\n",
      "\n",
      "[-0.63266256 -0.21219605  1.3089171 ]\n",
      "other way\n",
      "[-0.63266256 -0.21219605  1.3089171 ]\n",
      "\n",
      "[[ 0.61136248 -0.82518285  1.1482986 ]\n",
      " [ 0.04194489  0.00209776 -0.79429051]\n",
      " [-0.38294594 -0.16610161 -0.42935328]\n",
      " [-0.27036143  0.9891867   0.07534519]]\n",
      "\n",
      "[2.77555756e-17 0.00000000e+00 2.77555756e-17]\n"
     ]
    }
   ],
   "source": [
    "\n",
    "arr = np.random.randn(4, 3)\n",
    "print(arr)\n",
    "print('')\n",
    "print(arr.mean(0))\n",
    "print('other way')\n",
    "print(np.mean(arr,axis=0))\n",
    "print('')\n",
    "demeaned = arr - arr.mean(0)\n",
    "print(demeaned)\n",
    "print('')\n",
    "print(demeaned.mean(0))\n",
    "#array([-0., 0., -0.])\n"
   ]
  },
  {
   "cell_type": "markdown",
   "metadata": {},
   "source": [
    "Improper array broadcasting (or miscasting) is the source of many Python coding errors.   Which brings us to the broadcasting \"rule\":\n",
    "\n",
    "_**Two arrays are compatible for broadcasting if for each trailing dimension (i.e., starting\n",
    "from the end) the axis lengths match or if either of the lengths is 1. Broadcasting is\n",
    "then performed over the missing or length 1 dimensions.**_\n",
    "\n",
    "For example, for a (4,3) NumPy array and a (3,) array, the result is a (4,3) array where the (3,) array operates on each row of the first array.   For a (4,3) array and a (4,1) array, the result is a (4,3) array where the (4,1) array operates on every column.\n",
    "\n",
    "Note that if you ask Python to do an impossible broadcast, you will get an error that looks something like this:"
   ]
  },
  {
   "cell_type": "markdown",
   "metadata": {},
   "source": [
    "```\n",
    "row_means=arr.mean(1)\n",
    "arr-row_means\n",
    "Traceback (most recent call last):\n",
    "  File \"<stdin>\", line 1, in <module>\n",
    "ValueError: operands could not be broadcast together with shapes (4,3) (4,) \n",
    "```"
   ]
  },
  {
   "cell_type": "markdown",
   "metadata": {},
   "source": [
    "However, reshaping the array can avoid a broadcasting error:"
   ]
  },
  {
   "cell_type": "code",
   "execution_count": 45,
   "metadata": {},
   "outputs": [
    {
     "name": "stdout",
     "output_type": "stream",
     "text": [
      "(4,)\n"
     ]
    },
    {
     "data": {
      "text/plain": [
       "array([[-0.48747898, -1.50355781,  1.99103679],\n",
       "       [-0.49532121, -0.11470184,  0.61002305],\n",
       "       [-0.84416105, -0.20685021,  1.05101127],\n",
       "       [-1.32243364,  0.357581  ,  0.96485264]])"
      ]
     },
     "execution_count": 45,
     "metadata": {},
     "output_type": "execute_result"
    }
   ],
   "source": [
    "#row_means=arr.mean(1)\n",
    "row_means=np.mean(arr,axis=1)\n",
    "print(row_means.shape)\n",
    "arr-row_means.reshape(4,1)"
   ]
  },
  {
   "cell_type": "markdown",
   "metadata": {},
   "source": [
    "A common problem, therefore, is needing to add a new axis with length 1 specifically\n",
    "for broadcasting purposes. Using reshape is one option, but inserting an axis\n",
    "requires constructing a tuple indicating the new shape. This can often be a tedious\n",
    "exercise. Thus, NumPy arrays offer a special syntax for inserting new axes by indexing.\n",
    "We use the special np.newaxis attribute along with “full” slices to insert the new\n",
    "axis:"
   ]
  },
  {
   "cell_type": "code",
   "execution_count": 46,
   "metadata": {},
   "outputs": [
    {
     "data": {
      "text/plain": [
       "(4, 1, 4)"
      ]
     },
     "execution_count": 46,
     "metadata": {},
     "output_type": "execute_result"
    }
   ],
   "source": [
    "\n",
    "arr=np.zeros((4,4))\n",
    "\n",
    "arr_3d=arr[:,np.newaxis,:]\n",
    "arr_3d.shape\n",
    "#(4,1,4)\n"
   ]
  },
  {
   "cell_type": "markdown",
   "metadata": {},
   "source": [
    "Another example:"
   ]
  },
  {
   "cell_type": "code",
   "execution_count": 51,
   "metadata": {},
   "outputs": [
    {
     "name": "stdout",
     "output_type": "stream",
     "text": [
      "[-1.11071556  1.76809613 -0.24458615]\n"
     ]
    }
   ],
   "source": [
    "arr_1d=np.random.normal(size=3)\n",
    "print(arr_1d)"
   ]
  },
  {
   "cell_type": "code",
   "execution_count": 52,
   "metadata": {},
   "outputs": [
    {
     "data": {
      "text/plain": [
       "array([[-1.11071556],\n",
       "       [ 1.76809613],\n",
       "       [-0.24458615]])"
      ]
     },
     "execution_count": 52,
     "metadata": {},
     "output_type": "execute_result"
    }
   ],
   "source": [
    "arr_1d[:,np.newaxis] #a column vector"
   ]
  },
  {
   "cell_type": "code",
   "execution_count": 53,
   "metadata": {},
   "outputs": [
    {
     "data": {
      "text/plain": [
       "array([[-1.11071556,  1.76809613, -0.24458615]])"
      ]
     },
     "execution_count": 53,
     "metadata": {},
     "output_type": "execute_result"
    }
   ],
   "source": [
    "        \n",
    "arr_1d[np.newaxis,:] #a row vector"
   ]
  },
  {
   "cell_type": "markdown",
   "metadata": {},
   "source": [
    "The same broadcasting rule governing arithmetic operations also applies to setting\n",
    "values via array indexing. In a simple case, we can do things like:"
   ]
  },
  {
   "cell_type": "code",
   "execution_count": 54,
   "metadata": {},
   "outputs": [
    {
     "name": "stdout",
     "output_type": "stream",
     "text": [
      "[[5. 5. 5.]\n",
      " [5. 5. 5.]\n",
      " [5. 5. 5.]\n",
      " [5. 5. 5.]]\n"
     ]
    }
   ],
   "source": [
    "\n",
    "arr = np.zeros((4, 3))\n",
    "arr[:] = 5\n",
    "print(arr)\n",
    "\n"
   ]
  },
  {
   "cell_type": "markdown",
   "metadata": {},
   "source": [
    "However, if we had a one-dimensional array of values we wanted to set into the columns\n",
    "of the array, we can do that as long as the shape is compatible:"
   ]
  },
  {
   "cell_type": "code",
   "execution_count": 56,
   "metadata": {},
   "outputs": [
    {
     "name": "stdout",
     "output_type": "stream",
     "text": [
      "[ 1.28 -0.42  0.44  1.6 ]\n"
     ]
    },
    {
     "data": {
      "text/plain": [
       "array([[ 1.28,  1.28,  1.28],\n",
       "       [-0.42, -0.42, -0.42],\n",
       "       [ 0.44,  0.44,  0.44],\n",
       "       [ 1.6 ,  1.6 ,  1.6 ]])"
      ]
     },
     "execution_count": 56,
     "metadata": {},
     "output_type": "execute_result"
    }
   ],
   "source": [
    " col = np.array([1.28, -0.42, 0.44, 1.6])\n",
    " print(col)\n",
    " arr[:] = col[:, np.newaxis]\n",
    " arr\n",
    " "
   ]
  },
  {
   "cell_type": "code",
   "execution_count": 58,
   "metadata": {},
   "outputs": [
    {
     "data": {
      "text/plain": [
       "array([[-1.37 , -1.37 , -1.37 ],\n",
       "       [ 0.509,  0.509,  0.509],\n",
       "       [ 0.44 ,  0.44 ,  0.44 ],\n",
       "       [ 1.6  ,  1.6  ,  1.6  ]])"
      ]
     },
     "execution_count": 58,
     "metadata": {},
     "output_type": "execute_result"
    }
   ],
   "source": [
    " arr[:2] = [[-1.37], [0.509]]\n",
    " arr\n",
    " "
   ]
  },
  {
   "cell_type": "markdown",
   "metadata": {},
   "source": [
    " Note, though that ``arr[:2] = [[-1.37, 0.509]]`` triggers a broadcasting error.\n",
    " "
   ]
  },
  {
   "cell_type": "markdown",
   "metadata": {},
   "source": [
    "```\n",
    " Traceback (most recent call last):\n",
    "  File \"<stdin>\", line 1, in <module>\n",
    "ValueError: could not broadcast input array from shape (1,2) into shape (2,3)\n",
    "```"
   ]
  }
 ],
 "metadata": {
  "kernelspec": {
   "display_name": "Python 3 (ipykernel)",
   "language": "python",
   "name": "python3"
  },
  "language_info": {
   "codemirror_mode": {
    "name": "ipython",
    "version": 3
   },
   "file_extension": ".py",
   "mimetype": "text/x-python",
   "name": "python",
   "nbconvert_exporter": "python",
   "pygments_lexer": "ipython3",
   "version": "3.10.4"
  }
 },
 "nbformat": 4,
 "nbformat_minor": 4
}
